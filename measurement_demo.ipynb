{
 "cells": [
  {
   "cell_type": "markdown",
   "metadata": {
    "collapsed": true,
    "pycharm": {
     "name": "#%% md\n"
    }
   },
   "source": [
    "## Example curve prediction script\n",
    "In this notebook we will try to predict the function coefficients."
   ]
  },
  {
   "cell_type": "code",
   "execution_count": 1,
   "metadata": {
    "pycharm": {
     "name": "#%%\n"
    }
   },
   "outputs": [
    {
     "name": "stderr",
     "output_type": "stream",
     "text": [
      "2022-08-01 09:47:10.569543: I tensorflow/core/util/util.cc:169] oneDNN custom operations are on. You may see slightly different numerical results due to floating-point round-off errors from different computation orders. To turn them off, set the environment variable `TF_ENABLE_ONEDNN_OPTS=0`.\n",
      "2022-08-01 09:47:10.611890: W tensorflow/stream_executor/platform/default/dso_loader.cc:64] Could not load dynamic library 'libcudart.so.11.0'; dlerror: libcudart.so.11.0: cannot open shared object file: No such file or directory; LD_LIBRARY_PATH: /home/kiliakis/install/lib:/usr/lib/x86_64-linux-gnu\n",
      "2022-08-01 09:47:10.611901: I tensorflow/stream_executor/cuda/cudart_stub.cc:29] Ignore above cudart dlerror if you do not have a GPU set up on your machine.\n"
     ]
    }
   ],
   "source": [
    "%matplotlib inline\n",
    "import numpy as np\n",
    "import pandas as pd\n",
    "from matplotlib import pyplot as plt\n",
    "from scipy.optimize import curve_fit\n",
    "\n",
    "\n",
    "from sklearn.model_selection import train_test_split\n",
    "from sklearn import preprocessing\n",
    "\n",
    "import torch\n",
    "import torch.nn as nn\n",
    "import torch.nn.functional as F\n",
    "\n",
    "import tensorflow as tf\n",
    "\n",
    "from tensorflow import keras\n",
    "\n",
    "from generate_TF import GenerateTF, get_freq\n",
    "from pytorchClassifiers import Net, get_keras_nn\n",
    "\n",
    "avg_pool1d = keras.layers.AveragePooling1D\n"
   ]
  },
  {
   "cell_type": "code",
   "execution_count": 2,
   "metadata": {
    "collapsed": false,
    "pycharm": {
     "name": "#%%\n"
    }
   },
   "outputs": [
    {
     "data": {
      "text/html": [
       "<div>\n",
       "<style scoped>\n",
       "    .dataframe tbody tr th:only-of-type {\n",
       "        vertical-align: middle;\n",
       "    }\n",
       "\n",
       "    .dataframe tbody tr th {\n",
       "        vertical-align: top;\n",
       "    }\n",
       "\n",
       "    .dataframe thead th {\n",
       "        text-align: right;\n",
       "    }\n",
       "</style>\n",
       "<table border=\"1\" class=\"dataframe\">\n",
       "  <thead>\n",
       "    <tr style=\"text-align: right;\">\n",
       "      <th></th>\n",
       "      <th>freq</th>\n",
       "      <th>amplitude</th>\n",
       "      <th>real</th>\n",
       "      <th>imag</th>\n",
       "    </tr>\n",
       "  </thead>\n",
       "  <tbody>\n",
       "    <tr>\n",
       "      <th>3B2_21</th>\n",
       "      <td>[-1619443.359375, -1614550.78125, -1609658.203...</td>\n",
       "      <td>[-21.777909296765575, -15.057012209125634, -14...</td>\n",
       "      <td>[0.08133579725841898, 0.051474840390077534, 0....</td>\n",
       "      <td>[0.005011469983590167, -0.16899911501622603, 0...</td>\n",
       "    </tr>\n",
       "    <tr>\n",
       "      <th>4B1_21</th>\n",
       "      <td>[-1619443.359375, -1614550.78125, -1609658.203...</td>\n",
       "      <td>[-16.549652269096566, -20.01969655997585, -20....</td>\n",
       "      <td>[-0.026679795952774418, -0.07647726969086971, ...</td>\n",
       "      <td>[-0.1463588317648657, -0.06407789716197017, 0....</td>\n",
       "    </tr>\n",
       "    <tr>\n",
       "      <th>1B1_21</th>\n",
       "      <td>[-1619443.359375, -1614550.78125, -1609658.203...</td>\n",
       "      <td>[-20.2673641620488, -19.779742221907256, -18.4...</td>\n",
       "      <td>[0.09695721712767796, 0.09919239881532062, 0.0...</td>\n",
       "      <td>[-0.0014954233612149335, -0.026098106680390566...</td>\n",
       "    </tr>\n",
       "    <tr>\n",
       "      <th>5B2_21</th>\n",
       "      <td>[-1619443.359375, -1614550.78125, -1609658.203...</td>\n",
       "      <td>[-13.816465626241573, -19.706971066659623, -25...</td>\n",
       "      <td>[0.15931370325321093, 0.06474392932533353, -0....</td>\n",
       "      <td>[-0.12707608641609552, -0.08066121124737649, -...</td>\n",
       "    </tr>\n",
       "    <tr>\n",
       "      <th>3B1_21</th>\n",
       "      <td>[-1619443.359375, -1614550.78125, -1609658.203...</td>\n",
       "      <td>[-14.487696517960305, -27.50301068354199, -27....</td>\n",
       "      <td>[0.1625850605118769, 0.01047347697587523, 0.03...</td>\n",
       "      <td>[-0.09564568737505466, -0.04083323830963009, 0...</td>\n",
       "    </tr>\n",
       "  </tbody>\n",
       "</table>\n",
       "</div>"
      ],
      "text/plain": [
       "                                                     freq  \\\n",
       "3B2_21  [-1619443.359375, -1614550.78125, -1609658.203...   \n",
       "4B1_21  [-1619443.359375, -1614550.78125, -1609658.203...   \n",
       "1B1_21  [-1619443.359375, -1614550.78125, -1609658.203...   \n",
       "5B2_21  [-1619443.359375, -1614550.78125, -1609658.203...   \n",
       "3B1_21  [-1619443.359375, -1614550.78125, -1609658.203...   \n",
       "\n",
       "                                                amplitude  \\\n",
       "3B2_21  [-21.777909296765575, -15.057012209125634, -14...   \n",
       "4B1_21  [-16.549652269096566, -20.01969655997585, -20....   \n",
       "1B1_21  [-20.2673641620488, -19.779742221907256, -18.4...   \n",
       "5B2_21  [-13.816465626241573, -19.706971066659623, -25...   \n",
       "3B1_21  [-14.487696517960305, -27.50301068354199, -27....   \n",
       "\n",
       "                                                     real  \\\n",
       "3B2_21  [0.08133579725841898, 0.051474840390077534, 0....   \n",
       "4B1_21  [-0.026679795952774418, -0.07647726969086971, ...   \n",
       "1B1_21  [0.09695721712767796, 0.09919239881532062, 0.0...   \n",
       "5B2_21  [0.15931370325321093, 0.06474392932533353, -0....   \n",
       "3B1_21  [0.1625850605118769, 0.01047347697587523, 0.03...   \n",
       "\n",
       "                                                     imag  \n",
       "3B2_21  [0.005011469983590167, -0.16899911501622603, 0...  \n",
       "4B1_21  [-0.1463588317648657, -0.06407789716197017, 0....  \n",
       "1B1_21  [-0.0014954233612149335, -0.026098106680390566...  \n",
       "5B2_21  [-0.12707608641609552, -0.08066121124737649, -...  \n",
       "3B1_21  [-0.09564568737505466, -0.04083323830963009, 0...  "
      ]
     },
     "execution_count": 2,
     "metadata": {},
     "output_type": "execute_result"
    }
   ],
   "source": [
    "# Load the data\n",
    "df21 = pd.read_pickle('./data/tf-measurement-2021.pkl')\n",
    "# print(df21.head())\n",
    "df22 = pd.read_pickle('./data/tf-measurement-2022.pkl')\n",
    "# print(df22.head())\n",
    "df = pd.concat([df21, df22])\n",
    "df.head()"
   ]
  },
  {
   "cell_type": "code",
   "execution_count": 3,
   "metadata": {
    "collapsed": false,
    "pycharm": {
     "name": "#%%\n"
    }
   },
   "outputs": [
    {
     "name": "stdout",
     "output_type": "stream",
     "text": [
      "[-20. -19. -18. -17. -16. -15. -14. -13. -12. -11. -10.  -9.  -8.  -7.\n",
      "  -6.  -5.  -4.  -3.  -2.  -1.   0.   1.   2.   3.   4.   5.   6.   7.\n",
      "   8.   9.  10.  11.  12.  13.  14.  15.  16.  17.  18.  19.  20.]\n",
      "[0.001      0.00107569 0.00115711 0.00124469 0.0013389  0.00144025\n",
      " 0.00154926 0.00166652 0.00179266 0.00192835 0.00207431 0.00223132\n",
      " 0.00240021 0.00258188 0.0027773  0.00298752 0.00321364 0.00345689\n",
      " 0.00371854 0.004     ]\n"
     ]
    }
   ],
   "source": [
    "tempdf = pd.read_pickle('./data/tf-ampl-response-82000-noise0.1.pkl')\n",
    "\n",
    "phi_encoder = preprocessing.LabelEncoder()\n",
    "phi_encoder.fit(tempdf['phase'])\n",
    "print(phi_encoder.classes_)\n",
    "\n",
    "gain_encoder = preprocessing.LabelEncoder()\n",
    "gain_encoder.fit(tempdf['gain'])\n",
    "print(gain_encoder.classes_)\n",
    "\n",
    "\n",
    "# target_orig is the vector with the originale phase, gain labels\n",
    "target_orig = np.array((tempdf.phase, tempdf.gain), dtype=np.float32).T\n",
    "target_scaler = preprocessing.StandardScaler().fit(target_orig)\n",
    "\n",
    "del tempdf\n"
   ]
  },
  {
   "cell_type": "code",
   "execution_count": 4,
   "metadata": {
    "collapsed": false,
    "pycharm": {
     "name": "#%%\n"
    }
   },
   "outputs": [
    {
     "data": {
      "image/png": "[encoded data removed]",
      "text/plain": [
       "<Figure size 432x288 with 1 Axes>"
      ]
     },
     "metadata": {
      "needs_background": "light"
     },
     "output_type": "display_data"
    }
   ],
   "source": [
    "# Visualize the data\n",
    "for index, row in df.sample(n=3).iterrows():\n",
    "    y = row['amplitude']\n",
    "    x = row['freq']\n",
    "    plt.plot(x, y)\n",
    "plt.show()"
   ]
  },
  {
   "cell_type": "code",
   "execution_count": 5,
   "metadata": {
    "collapsed": false,
    "pycharm": {
     "name": "#%%\n"
    }
   },
   "outputs": [
    {
     "name": "stdout",
     "output_type": "stream",
     "text": [
      "(468, 662, 3)\n"
     ]
    }
   ],
   "source": [
    "# from scipy.signal import savgol_filter\n",
    "\n",
    "# our dataset is 3D\n",
    "values = np.zeros((len(df), len(df.iloc[0].real), 3), dtype=np.float32)\n",
    "print(values.shape)\n",
    "index = 0\n",
    "for _, row in df.iterrows():\n",
    "    # print(row)\n",
    "    values[index, :, 0] = row.real\n",
    "    values[index, :, 1] = row.imag\n",
    "    values[index, :, 2] = row.amplitude\n",
    "    index += 1\n",
    "data = values\n",
    "\n",
    "# data = torch.tensor(values, dtype=torch.float32)\n",
    "# # data_scaler = preprocessing.StandardScaler().fit(values)\n",
    "# savgol_data = np.zeros(values.shape)\n",
    "# for row in range(len(savgol_data)):\n",
    "#     savgol_data[row] = savgol_filter(values[row], 17, 1)\n",
    "# savgol_data = torch.tensor(savgol_data, dtype=torch.float32)\n"
   ]
  },
  {
   "cell_type": "code",
   "execution_count": 6,
   "metadata": {
    "collapsed": false,
    "pycharm": {
     "name": "#%%\n"
    }
   },
   "outputs": [
    {
     "name": "stdout",
     "output_type": "stream",
     "text": [
      "Net(\n",
      "  (center): ConstantPad1d(padding=(-135, -135), value=0)\n",
      "  (avg_pool): AvgPool1d(kernel_size=(6,), stride=(6,), padding=(0,))\n",
      "  (fc0): Linear(in_features=65, out_features=500, bias=True)\n",
      "  (batch_norm0): BatchNorm1d(500, eps=1e-05, momentum=0.1, affine=True, track_running_stats=True)\n",
      "  (dropout0): Dropout(p=0.2, inplace=False)\n",
      "  (fc1): Linear(in_features=500, out_features=200, bias=True)\n",
      "  (batch_norm1): BatchNorm1d(200, eps=1e-05, momentum=0.1, affine=True, track_running_stats=True)\n",
      "  (dropout1): Dropout(p=0.2, inplace=False)\n",
      "  (out_layer): Linear(in_features=200, out_features=41, bias=True)\n",
      ")\n"
     ]
    }
   ],
   "source": [
    "# Initialize model, loss function and optimizer\n",
    "# This is for the first parameter: phi\n",
    "n_inputs = data.shape[1]\n",
    "# we will build one model per output target\n",
    "n_outputs = 41\n",
    "phase_torch_classif = Net(n_inputs, n_outputs, name='phase_classifier_noise0.1', activation_func=F.gelu,\n",
    "             hidden_layers=(500, 200), avg_pool=(6, 6), trim_edges=135, verbose=1,\n",
    "             with_batch_norm=True, save_best=True)\n",
    "print(phase_torch_classif)\n",
    "\n",
    "# specify loss function (regression)\n",
    "criterion = nn.NLLLoss()\n",
    "\n",
    "# specify optimizer\n",
    "opt_phase_torch = torch.optim.Adam(phase_torch_classif.parameters(), lr=0.005)\n"
   ]
  },
  {
   "cell_type": "code",
   "execution_count": 7,
   "metadata": {
    "collapsed": false,
    "pycharm": {
     "name": "#%%\n"
    }
   },
   "outputs": [
    {
     "name": "stdout",
     "output_type": "stream",
     "text": [
      "Net(\n",
      "  (center): ConstantPad1d(padding=(-120, -120), value=0)\n",
      "  (avg_pool): AvgPool1d(kernel_size=(4,), stride=(4,), padding=(0,))\n",
      "  (fc0): Linear(in_features=105, out_features=420, bias=True)\n",
      "  (dropout0): Dropout(p=0.2, inplace=False)\n",
      "  (fc1): Linear(in_features=420, out_features=350, bias=True)\n",
      "  (dropout1): Dropout(p=0.2, inplace=False)\n",
      "  (out_layer): Linear(in_features=350, out_features=20, bias=True)\n",
      ")\n"
     ]
    }
   ],
   "source": [
    "# Initialize model, loss function and optimizer\n",
    "# This is for the second parameter: g_oo\n",
    "\n",
    "n_inputs = data.shape[1]\n",
    "# we will build one model per output target\n",
    "n_outputs = 20\n",
    "\n",
    "gain_torch_classif = Net(n_inputs, n_outputs, name='gain_classifier_noise0.1', activation_func=F.gelu,\n",
    "             hidden_layers= (420, 350), avg_pool=(4,4), trim_edges=120, save_best=True)\n",
    "\n",
    "print(gain_torch_classif)\n",
    "\n",
    "# specify loss function (regression)\n",
    "criterion = nn.NLLLoss()\n",
    "\n",
    "# specify optimizer\n",
    "opt_gain_torch = torch.optim.Adam(gain_torch_classif.parameters(), lr=0.005)\n"
   ]
  },
  {
   "cell_type": "code",
   "execution_count": 8,
   "metadata": {
    "collapsed": false,
    "pycharm": {
     "name": "#%%\n"
    }
   },
   "outputs": [
    {
     "name": "stderr",
     "output_type": "stream",
     "text": [
      "2022-08-01 09:47:42.127541: W tensorflow/stream_executor/platform/default/dso_loader.cc:64] Could not load dynamic library 'libcuda.so.1'; dlerror: libcuda.so.1: cannot open shared object file: No such file or directory; LD_LIBRARY_PATH: /home/kiliakis/install/lib:/usr/lib/x86_64-linux-gnu\n",
      "2022-08-01 09:47:42.127562: W tensorflow/stream_executor/cuda/cuda_driver.cc:269] failed call to cuInit: UNKNOWN ERROR (303)\n",
      "2022-08-01 09:47:42.127584: I tensorflow/stream_executor/cuda/cuda_diagnostics.cc:156] kernel driver does not appear to be running on this host (sy153): /proc/driver/nvidia/version does not exist\n",
      "2022-08-01 09:47:42.128194: I tensorflow/core/platform/cpu_feature_guard.cc:193] This TensorFlow binary is optimized with oneAPI Deep Neural Network Library (oneDNN) to use the following CPU instructions in performance-critical operations:  AVX2 AVX512F AVX512_VNNI FMA\n",
      "To enable them in other operations, rebuild TensorFlow with the appropriate compiler flags.\n"
     ]
    }
   ],
   "source": [
    "# load model with the highest accuracy\n",
    "\n",
    "phase_torch_classif.load(optimizer=opt_phase_torch, filename='models/phase_classifier_noise0.1-acc73.pt')\n",
    "gain_torch_classif.load(optimizer=opt_gain_torch, filename='models/gain_classifier_noise0.1-acc99.pt')\n",
    "\n",
    "# keras models\n",
    "phase_keras_reg = keras.models.load_model('models/keras/regression/phase_best')\n",
    "gain_keras_reg = keras.models.load_model('models/keras/regression/gain_best')\n"
   ]
  },
  {
   "cell_type": "code",
   "execution_count": 9,
   "metadata": {
    "collapsed": false,
    "pycharm": {
     "name": "#%%\n"
    }
   },
   "outputs": [],
   "source": [
    "def curve_fit_deluxe(func, freq, sample, trim_edges=0, kernel_size=1, stride=1, **kwargs):\n",
    "    # center crop sample\n",
    "    if trim_edges > 0:\n",
    "        freq, sample = freq[trim_edges:-trim_edges], sample[trim_edges:-trim_edges]\n",
    "    # prepare the shapes for avg_pooling\n",
    "    freq = freq.reshape(1, -1, 1)\n",
    "    sample = sample.reshape(1, -1, 1)\n",
    "    # perform average pooling\n",
    "    freq = avg_pool1d(pool_size=kernel_size, strides=stride)(freq).numpy().flatten()\n",
    "    sample = avg_pool1d(pool_size=kernel_size, strides=stride)(sample).numpy().flatten()\n",
    "    # pass to curve_fit\n",
    "    return curve_fit(func, freq, sample, **kwargs)\n"
   ]
  },
  {
   "cell_type": "markdown",
   "metadata": {
    "collapsed": false,
    "pycharm": {
     "name": "#%% md\n"
    }
   },
   "source": [
    "This region is to use gradio and visualize predictions"
   ]
  },
  {
   "cell_type": "code",
   "execution_count": null,
   "metadata": {
    "collapsed": false,
    "pycharm": {
     "name": "#%%\n"
    }
   },
   "outputs": [],
   "source": [
    "\n",
    "def classify(measurement_id, show_user, phase, gain, save_to_file=None):\n",
    "    phase, gain = float(phase), float(gain)\n",
    "    # print(df.loc[measurement_id])\n",
    "    freq = df.loc[measurement_id].freq\n",
    "    amplitude = df.loc[measurement_id].amplitude\n",
    "    real = df.loc[measurement_id].real\n",
    "    imag = df.loc[measurement_id].imag\n",
    "    resp = np.array([real, imag]).T.reshape(1, -1, 2)\n",
    "\n",
    "    # savgol_amplitude = savgol_filter(amplitude, 17, 1)\n",
    "    # print(savgol_amplitude.shape)\n",
    "\n",
    "    table = []\n",
    "\n",
    "    gen_tf_noise = GenerateTF(\n",
    "        fb_attn_index=3, with_noise=True, noise_amplitude=0.1)\n",
    "    gen_tf_no_noise = GenerateTF(fb_attn_index=3, with_noise=False)\n",
    "\n",
    "    # I get one input with given phase, gain from X_validate or y_validate\n",
    "    amplitude_tensor = torch.tensor([amplitude], dtype=torch.float32)\n",
    "    # savgol_amplitude_tensor = torch.tensor([savgol_amplitude], dtype=torch.float32)\n",
    "\n",
    "    # I make predictions with pytorch\n",
    "    with torch.no_grad():\n",
    "        phase_torch_classif.eval()\n",
    "        gain_torch_classif.eval()\n",
    "        phase_torch_pred = phase_torch_classif(\n",
    "            torch.atleast_2d(amplitude_tensor))\n",
    "        gain_torch_pred = gain_torch_classif(\n",
    "            torch.atleast_2d(amplitude_tensor))\n",
    "\n",
    "    # probs = torch.exp(pred_phase).numpy().ravel()\n",
    "    # Extract top category\n",
    "    _, phase_torch_pred = torch.exp(phase_torch_pred).topk(1, dim=1)\n",
    "    _, gain_torch_pred = torch.exp(gain_torch_pred).topk(1, dim=1)\n",
    "\n",
    "    # Get original value\n",
    "    phase_torch_pred = phi_encoder.inverse_transform(\n",
    "        phase_torch_pred.ravel().numpy())[0]\n",
    "    gain_torch_pred = gain_encoder.inverse_transform(\n",
    "        gain_torch_pred.ravel().numpy())[0]\n",
    "    # sav_pred_phase = phi_encoder.inverse_transform(sav_pred_phase.ravel().numpy())[0]\n",
    "    # sav_pred_gain = gain_encoder.inverse_transform(sav_pred_gain.ravel().numpy())[0]\n",
    "\n",
    "    # Make predictions with keras\n",
    "    phase_keras_pred = phase_keras_reg(resp, training=False).numpy()\n",
    "    gain_keras_pred = gain_keras_reg(resp, training=False).numpy()\n",
    "    keras_pred_scaled = np.array(\n",
    "        [phase_keras_pred, gain_keras_pred]).reshape(1, -1)\n",
    "\n",
    "    # Descale them to get original values\n",
    "    keras_pred_descaled = target_scaler.inverse_transform(keras_pred_scaled)\n",
    "    phase_keras_pred, gain_keras_pred = float(\n",
    "        keras_pred_descaled[0, 0]), float(keras_pred_descaled[0, 1])\n",
    "\n",
    "    # Get optimizers results\n",
    "    (opt_phase, opt_gain), _ = curve_fit_deluxe(gen_tf_no_noise, freq, amplitude, trim_edges=130,\n",
    "                                                kernel_size=4, stride=1,\n",
    "                                                bounds=([-20, 0.001], [20, 0.004]), method='trf')\n",
    "\n",
    "    # I add them to the table\n",
    "    table.append(['phase',\n",
    "                 str(np.round(phase_torch_pred, 4)),\n",
    "                 str(np.round(phase_keras_pred, 4)),\n",
    "                 str(np.round(opt_phase, 4)),\n",
    "                 str(np.round(phase, 4))\n",
    "                 ])\n",
    "    table.append(['gain',\n",
    "                 str(np.round(gain_torch_pred, 4)),\n",
    "                 str(np.round(gain_keras_pred, 4)),\n",
    "                 str(np.round(opt_gain, 4)),\n",
    "                 str(np.round(gain, 4)),\n",
    "                 ])\n",
    "\n",
    "    # I plot them\n",
    "    fig = plt.figure()\n",
    "    plt.plot(freq, amplitude, label=f'Measurement',\n",
    "             ls='-', color='black', alpha=0.5)\n",
    "    plt.plot(freq, gen_tf_no_noise(freq, phase_torch_pred, gain_torch_pred), label=f'PyTorch',\n",
    "             ls='--', color='tab:orange', lw=2)\n",
    "    plt.plot(freq, gen_tf_no_noise(freq, phase_keras_pred, gain_keras_pred),\n",
    "             label=f'Keras', ls='--', color='tab:purple', lw=2)\n",
    "    plt.plot(freq, gen_tf_no_noise(freq, opt_phase, opt_gain), label=f'Optimizer',\n",
    "             ls=':', color='tab:red', lw=2)\n",
    "    if show_user:\n",
    "        plt.plot(freq, gen_tf_no_noise(freq, phase, gain), label=f'User',\n",
    "                ls='-', color='black', alpha=0.75)\n",
    "    plt.xlabel('Frequency')\n",
    "    plt.ylabel('Amplitude')\n",
    "    plt.legend()\n",
    "    if save_to_file and len(save_to_file):\n",
    "        fig.savefig(f'{save_to_file}/{measurement_id}.png', dpi=300)\n",
    "\n",
    "    return fig, table\n",
    "    # , {str(c): probs[i] for i, c in enumerate(phi_encoder.classes_)}\n",
    "\n",
    "\n",
    "fig, table = classify('3B2_21', True, -15, 0.002)\n",
    "# print(probs)\n",
    "print(table)\n"
   ]
  },
  {
   "cell_type": "code",
   "execution_count": 13,
   "metadata": {
    "collapsed": false,
    "pycharm": {
     "name": "#%%\n"
    }
   },
   "outputs": [
    {
     "name": "stdout",
     "output_type": "stream",
     "text": [
      "Running on local URL:  http://127.0.0.1:7861/\n",
      "\n",
      "To create a public link, set `share=True` in `launch()`.\n"
     ]
    },
    {
     "data": {
      "text/html": [
       "<div><iframe src=\"http://127.0.0.1:7861/\" width=\"900\" height=\"500\" allow=\"autoplay; camera; microphone;\" frameborder=\"0\" allowfullscreen></iframe></div>"
      ],
      "text/plain": [
       "<IPython.core.display.HTML object>"
      ]
     },
     "metadata": {},
     "output_type": "display_data"
    },
    {
     "data": {
      "text/plain": [
       "(<gradio.routes.App at 0x7f4eaac665b0>, 'http://127.0.0.1:7861/', None)"
      ]
     },
     "execution_count": 13,
     "metadata": {},
     "output_type": "execute_result"
    }
   ],
   "source": [
    "import gradio as gr\n",
    "\n",
    "# print(gain_encoder.classes_.astype(str).tolist())\n",
    "# build the gradio interface\n",
    "dropdown = gr.Dropdown(choices=list(df.index.values), label='Measurement')\n",
    "slider_phase = gr.Slider(label='User Phase', minimum=-20., maximum=20., step=.5)\n",
    "slider_gain = gr.Slider(label='User Gain',\n",
    "                            minimum=0.001, maximum=0.004, step=0.0001)\n",
    "\n",
    "checkbox = gr.Checkbox('Plot user input')\n",
    "\n",
    "interface = gr.Interface(fn=classify,\n",
    "                         inputs=[\n",
    "                             dropdown,\n",
    "                             checkbox,\n",
    "                             slider_phase,\n",
    "                             slider_gain\n",
    "                         ],\n",
    "                         outputs=[\n",
    "                             gr.Plot(label='Graphical Evaluation'),\n",
    "                             # gr.Textbox(lines=5),\n",
    "                             gr.DataFrame(label='Numerical Evaluation',\n",
    "                                          headers=['Param', 'PyTorch',\n",
    "                                                   'Keras', 'Optimizer', 'User'],\n",
    "                                          datatype=['str', 'number', 'number', 'number', 'number'],\n",
    "                                          row_count=2, col_count=(5, 'fixed')),\n",
    "                            #  gr.Label(label='Phase Probs', num_top_classes=10)\n",
    "                         ],\n",
    "                         interpretation=\"default\",\n",
    "                         live=True,\n",
    "                         title='Measurement Data Evaluation'\n",
    "                         )\n",
    "\n",
    "interface.launch(debug=False)\n"
   ]
  },
  {
   "cell_type": "code",
   "execution_count": null,
   "metadata": {
    "collapsed": false,
    "pycharm": {
     "name": "#%%\n"
    }
   },
   "outputs": [],
   "source": [
    "# Save all classifications plots\n",
    "for measurement_id in list(df.index.values):\n",
    "    classify(measurement_id=measurement_id, show_user=False,\n",
    "             phase=0.0, gain=0.0,\n",
    "             save_to_file='plots/measurement_curves/evaluation')\n"
   ]
  }
 ],
 "metadata": {
  "kernelspec": {
   "display_name": "Python 3.9.7 ('base')",
   "language": "python",
   "name": "python3"
  },
  "language_info": {
   "codemirror_mode": {
    "name": "ipython",
    "version": 3
   },
   "file_extension": ".py",
   "mimetype": "text/x-python",
   "name": "python",
   "nbconvert_exporter": "python",
   "pygments_lexer": "ipython3",
   "version": "3.9.7"
  },
  "vscode": {
   "interpreter": {
    "hash": "79ab8fd01a8cec42884b8b2a5d7fb4751c5402d97e9e61d151ed5c6a6352873c"
   }
  }
 },
 "nbformat": 4,
 "nbformat_minor": 1
}
