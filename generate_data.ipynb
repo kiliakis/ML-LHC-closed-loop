{
 "cells": [
  {
   "cell_type": "markdown",
   "metadata": {
    "collapsed": true,
    "pycharm": {
     "name": "#%% md\n"
    }
   },
   "source": [
    "## Data generation script\n",
    "This notebook generates the training/ test dataset."
   ]
  },
  {
   "cell_type": "code",
   "execution_count": 14,
   "metadata": {
    "pycharm": {
     "name": "#%%\n"
    }
   },
   "outputs": [],
   "source": [
    "import numpy as np\n",
    "import pandas as pd\n",
    "from matplotlib import pyplot as plt\n",
    "from generate_TF import GenerateTF, FMAX, NP, get_freq\n"
   ]
  },
  {
   "cell_type": "code",
   "execution_count": 9,
   "metadata": {
    "collapsed": false,
    "pycharm": {
     "name": "#%%\n"
    }
   },
   "outputs": [
    {
     "name": "stdout",
     "output_type": "stream",
     "text": [
      "Total number of datasets:  82000\n"
     ]
    }
   ],
   "source": [
    "# Number of curves to generate. This will be the total number of training/ testing data.\n",
    "# Number of samples per curve.\n",
    "# points = 1 << 10\n",
    "\n",
    "# Generate all combinations\n",
    "a_lst = np.arange(-20, 20+0.5, 1)\n",
    "b_lst = np.geomspace(0.001, 0.004, num=20, endpoint=True)\n",
    "# a_lst = np.arange(-5, 5+0.5, 1)\n",
    "# b_lst = np.geomspace(0.001, 0.004, num=10, endpoint=True)\n",
    "\n",
    "\n",
    "# For each of these configs we can generate multiple datasets, since they are generated randomly\n",
    "c_lst = [None] * 100 # this will generate 100 random instances per configuration\n",
    "\n",
    "num_curves = len(a_lst) * len(b_lst) * len(c_lst)\n",
    "print('Total number of datasets: ', num_curves)"
   ]
  },
  {
   "cell_type": "code",
   "execution_count": 16,
   "metadata": {
    "collapsed": false,
    "pycharm": {
     "name": "#%%\n"
    }
   },
   "outputs": [],
   "source": [
    "gen_tf = GenerateTF(fb_attn_index=3, with_noise=True, noise_amplitude=0.1)\n",
    "x = gen_tf.frequency\n",
    "data = []\n",
    "for c in c_lst:\n",
    "    for a in a_lst:\n",
    "        for b in b_lst:\n",
    "            # Draw the random points, following the normal distribution\n",
    "            # y = func(a, b, c, x)\n",
    "            amplitudeDB, response = gen_tf(x, a, b, return_response=True)\n",
    "            # add to the dataframe\n",
    "            data.append({'phase': a, 'gain': b, 'fmax': FMAX, 'np': NP, \n",
    "                         'amplitude': amplitudeDB, 'real': response.real,\n",
    "                          'imag': response.imag})\n",
    "df = pd.DataFrame.from_records(data)\n",
    "            # df = df.append({'phase': a, 'gain': b, 'freq': x,\n",
    "            #                 'amplitude': amplitudeDB, 'real': response.real,\n",
    "            #                 'imag': response.imag},\n",
    "            #                ignore_index=True)\n"
   ]
  },
  {
   "cell_type": "code",
   "execution_count": 17,
   "metadata": {
    "pycharm": {
     "name": "#%%\n"
    }
   },
   "outputs": [
    {
     "data": {
      "text/html": [
       "<div>\n",
       "<style scoped>\n",
       "    .dataframe tbody tr th:only-of-type {\n",
       "        vertical-align: middle;\n",
       "    }\n",
       "\n",
       "    .dataframe tbody tr th {\n",
       "        vertical-align: top;\n",
       "    }\n",
       "\n",
       "    .dataframe thead th {\n",
       "        text-align: right;\n",
       "    }\n",
       "</style>\n",
       "<table border=\"1\" class=\"dataframe\">\n",
       "  <thead>\n",
       "    <tr style=\"text-align: right;\">\n",
       "      <th></th>\n",
       "      <th>phase</th>\n",
       "      <th>gain</th>\n",
       "      <th>fmax</th>\n",
       "      <th>np</th>\n",
       "      <th>amplitude</th>\n",
       "      <th>real</th>\n",
       "      <th>imag</th>\n",
       "    </tr>\n",
       "  </thead>\n",
       "  <tbody>\n",
       "    <tr>\n",
       "      <th>0</th>\n",
       "      <td>-20.0</td>\n",
       "      <td>0.001000</td>\n",
       "      <td>1.619443e+06</td>\n",
       "      <td>662</td>\n",
       "      <td>[-23.357375491745664, -26.0851996017893, -33.5...</td>\n",
       "      <td>[-0.021054299508294433, 0.011429574087198234, ...</td>\n",
       "      <td>[-0.06459629148257023, -0.048295480826260104, ...</td>\n",
       "    </tr>\n",
       "    <tr>\n",
       "      <th>1</th>\n",
       "      <td>-20.0</td>\n",
       "      <td>0.001076</td>\n",
       "      <td>1.619443e+06</td>\n",
       "      <td>662</td>\n",
       "      <td>[-25.511325980758013, -24.718449487385854, -22...</td>\n",
       "      <td>[0.03595637676979386, 0.02166354899835697, 0.0...</td>\n",
       "      <td>[-0.038963847424329734, -0.05389590082010029, ...</td>\n",
       "    </tr>\n",
       "    <tr>\n",
       "      <th>2</th>\n",
       "      <td>-20.0</td>\n",
       "      <td>0.001157</td>\n",
       "      <td>1.619443e+06</td>\n",
       "      <td>662</td>\n",
       "      <td>[-28.81491896127936, -27.827786179958505, -22....</td>\n",
       "      <td>[0.029248474226871202, -0.0010979300410257227,...</td>\n",
       "      <td>[-0.021407072762403726, -0.040593069698999486,...</td>\n",
       "    </tr>\n",
       "    <tr>\n",
       "      <th>3</th>\n",
       "      <td>-20.0</td>\n",
       "      <td>0.001245</td>\n",
       "      <td>1.619443e+06</td>\n",
       "      <td>662</td>\n",
       "      <td>[-22.070854131154633, -30.845860065171713, -30...</td>\n",
       "      <td>[0.04974268693060286, 0.0186999550411898, 0.00...</td>\n",
       "      <td>[-0.061099382076756276, -0.02175634418295811, ...</td>\n",
       "    </tr>\n",
       "    <tr>\n",
       "      <th>4</th>\n",
       "      <td>-20.0</td>\n",
       "      <td>0.001339</td>\n",
       "      <td>1.619443e+06</td>\n",
       "      <td>662</td>\n",
       "      <td>[-20.804871672297395, -21.592750057670216, -21...</td>\n",
       "      <td>[-0.061915548957550866, -0.018752193856578357,...</td>\n",
       "      <td>[-0.06689377758231763, -0.08110624967159283, -...</td>\n",
       "    </tr>\n",
       "  </tbody>\n",
       "</table>\n",
       "</div>"
      ],
      "text/plain": [
       "   phase      gain          fmax   np  \\\n",
       "0  -20.0  0.001000  1.619443e+06  662   \n",
       "1  -20.0  0.001076  1.619443e+06  662   \n",
       "2  -20.0  0.001157  1.619443e+06  662   \n",
       "3  -20.0  0.001245  1.619443e+06  662   \n",
       "4  -20.0  0.001339  1.619443e+06  662   \n",
       "\n",
       "                                           amplitude  \\\n",
       "0  [-23.357375491745664, -26.0851996017893, -33.5...   \n",
       "1  [-25.511325980758013, -24.718449487385854, -22...   \n",
       "2  [-28.81491896127936, -27.827786179958505, -22....   \n",
       "3  [-22.070854131154633, -30.845860065171713, -30...   \n",
       "4  [-20.804871672297395, -21.592750057670216, -21...   \n",
       "\n",
       "                                                real  \\\n",
       "0  [-0.021054299508294433, 0.011429574087198234, ...   \n",
       "1  [0.03595637676979386, 0.02166354899835697, 0.0...   \n",
       "2  [0.029248474226871202, -0.0010979300410257227,...   \n",
       "3  [0.04974268693060286, 0.0186999550411898, 0.00...   \n",
       "4  [-0.061915548957550866, -0.018752193856578357,...   \n",
       "\n",
       "                                                imag  \n",
       "0  [-0.06459629148257023, -0.048295480826260104, ...  \n",
       "1  [-0.038963847424329734, -0.05389590082010029, ...  \n",
       "2  [-0.021407072762403726, -0.040593069698999486,...  \n",
       "3  [-0.061099382076756276, -0.02175634418295811, ...  \n",
       "4  [-0.06689377758231763, -0.08110624967159283, -...  "
      ]
     },
     "execution_count": 17,
     "metadata": {},
     "output_type": "execute_result"
    }
   ],
   "source": [
    "df.head()"
   ]
  },
  {
   "cell_type": "code",
   "execution_count": 18,
   "metadata": {
    "pycharm": {
     "name": "#%%\n"
    }
   },
   "outputs": [
    {
     "data": {
      "image/png": "[encoded data removed]",
      "text/plain": [
       "<Figure size 432x288 with 1 Axes>"
      ]
     },
     "metadata": {
      "needs_background": "light"
     },
     "output_type": "display_data"
    }
   ],
   "source": [
    "%matplotlib inline\n",
    "\n",
    "from matplotlib import pyplot as plt\n",
    "from scipy.signal import savgol_filter\n",
    "\n",
    "for index, row in df.sample(n=1).iterrows():\n",
    "    y = row['amplitude']\n",
    "    x = get_freq(row['fmax'], row['np'])\n",
    "    savgol = savgol_filter(y, 17, 1)\n",
    "    # label = f'm{m}-s{s}'\n",
    "    p = plt.plot(x, y)\n",
    "    plt.plot(x, savgol, ls='--')\n",
    "plt.show()"
   ]
  },
  {
   "cell_type": "code",
   "execution_count": 18,
   "metadata": {
    "collapsed": false,
    "pycharm": {
     "name": "#%%\n"
    }
   },
   "outputs": [],
   "source": [
    "from scipy.signal import savgol_filter\n",
    "for index, row in df.iterrows():\n",
    "    # y = row['y']\n",
    "    name = f'gain{np.round(row[\"g_oo\"], 4)}-phase{np.round(row[\"phi\"], 2)}'\n",
    "    x = row['x']\n",
    "    real = row['real']\n",
    "    imag = row['imag']\n",
    "    y = np.abs(row['real'] + 1j*row['imag'])\n",
    "    savgol_real = savgol_filter(real, 17, 1)\n",
    "    savgol_imag = savgol_filter(imag, 17, 1)\n",
    "\n",
    "    fig, axarr = plt.subplots(ncols=3, sharex=True, sharey=True, figsize=(12, 4))\n",
    "    plt.sca(axarr[0])\n",
    "    plt.plot(x, real, color='black', alpha=0.5)\n",
    "    plt.plot(x, savgol_real, color='blue')\n",
    "    plt.title('real')\n",
    "    plt.ylim(-1, 1.5)\n",
    "\n",
    "    plt.sca(axarr[1])\n",
    "    plt.plot(x, imag, color='black', alpha=0.5)\n",
    "    plt.plot(x, savgol_imag, color='blue')\n",
    "    plt.title('imag')\n",
    "    plt.ylim(-1, 1.5)\n",
    "\n",
    "\n",
    "    plt.sca(axarr[2])\n",
    "    plt.plot(x, y, color='black', alpha=0.5)\n",
    "    plt.plot(x, np.abs(savgol_real + 1j*savgol_imag), color='blue')\n",
    "    plt.title('abs')\n",
    "    plt.ylim(-1, 1.5)\n",
    "\n",
    "    plt.tight_layout()\n",
    "\n",
    "    # plt.plot(x, y)\n",
    "    # plt.title(index)\n",
    "    # plt.ylim(-50, 50)\n",
    "    plt.savefig(f'plots/generated_curves/real_imag_nonoise/{name}.jpg', transparent=False)\n",
    "    plt.close()"
   ]
  },
  {
   "cell_type": "code",
   "execution_count": 12,
   "metadata": {
    "pycharm": {
     "name": "#%%\n"
    }
   },
   "outputs": [],
   "source": [
    "df.to_pickle(f'./data/tf-ampl-response-{num_curves}-noise0.1.pkl')"
   ]
  },
  {
   "cell_type": "code",
   "execution_count": null,
   "metadata": {
    "collapsed": false,
    "pycharm": {
     "name": "#%%\n"
    }
   },
   "outputs": [],
   "source": []
  }
 ],
 "metadata": {
  "kernelspec": {
   "display_name": "Python 3.9.7 ('base')",
   "language": "python",
   "name": "python3"
  },
  "language_info": {
   "codemirror_mode": {
    "name": "ipython",
    "version": 3
   },
   "file_extension": ".py",
   "mimetype": "text/x-python",
   "name": "python",
   "nbconvert_exporter": "python",
   "pygments_lexer": "ipython3",
   "version": "3.9.7"
  },
  "vscode": {
   "interpreter": {
    "hash": "79ab8fd01a8cec42884b8b2a5d7fb4751c5402d97e9e61d151ed5c6a6352873c"
   }
  }
 },
 "nbformat": 4,
 "nbformat_minor": 1
}
