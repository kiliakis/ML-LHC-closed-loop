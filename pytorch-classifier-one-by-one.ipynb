{
 "cells": [
  {
   "cell_type": "markdown",
   "metadata": {
    "collapsed": true,
    "pycharm": {
     "name": "#%% md\n"
    }
   },
   "source": [
    "## Example curve prediction script\n",
    "In this notebook we will try to predict the function coefficients."
   ]
  },
  {
   "cell_type": "code",
   "execution_count": 68,
   "metadata": {
    "pycharm": {
     "name": "#%%\n"
    }
   },
   "outputs": [],
   "source": [
    "import numpy as np\n",
    "import pandas as pd\n",
    "from matplotlib import pyplot as plt\n",
    "from scipy.optimize import curve_fit\n",
    "from prettytable import PrettyTable\n",
    "%matplotlib widget\n",
    "\n",
    "from generate_TF import GenerateTF\n",
    "\n",
    "# from sklearn.model_selection import RepeatedKFold\n",
    "from sklearn.model_selection import train_test_split\n",
    "from sklearn import preprocessing\n",
    "\n",
    "import torch\n",
    "import torchvision.transforms as transforms\n",
    "import torch.nn as nn\n",
    "import torch.nn.functional as F\n"
   ]
  },
  {
   "cell_type": "code",
   "execution_count": 69,
   "outputs": [],
   "source": [
    "def scale(X):\n",
    "    return (X - X.min(axis=0)) / (X.max(axis=0) - X.min(axis=0))\n",
    "\n",
    "def descale(X, X_old):\n",
    "    return (X_old.max(axis=0) - X_old.min(axis=0)) * X + X_old.min(axis=0)\n",
    "\n",
    "# plot train and validation loss\n",
    "%matplotlib widget\n",
    "\n",
    "def plot_loss(loss, val_loss, epoch=(-1, -1)):\n",
    "    fig = plt.figure()\n",
    "\n",
    "    if epoch[0] == -1:\n",
    "        start_idx = 0\n",
    "    else:\n",
    "        start_idx = epoch[0]\n",
    "\n",
    "    if epoch[1] == -1:\n",
    "        end_idx = len(loss)\n",
    "    else:\n",
    "        end_idx = epoch[1]\n",
    "    loss = loss[start_idx: end_idx]\n",
    "    val_loss = val_loss[start_idx: end_idx]\n",
    "    plt.plot(np.arange(start_idx, end_idx), loss, label='train')\n",
    "    plt.plot(np.arange(start_idx, end_idx), val_loss, label='validation')\n",
    "    plt.title('Model Accuracy')\n",
    "    plt.ylabel(criterion_name)\n",
    "    plt.xlabel('epoch')\n",
    "    plt.legend()\n",
    "    plt.show()\n",
    "    plt.close()\n",
    "\n",
    "\n"
   ],
   "metadata": {
    "collapsed": false,
    "pycharm": {
     "name": "#%%\n"
    }
   }
  },
  {
   "cell_type": "code",
   "execution_count": 186,
   "metadata": {
    "pycharm": {
     "name": "#%%\n"
    }
   },
   "outputs": [
    {
     "data": {
      "text/plain": "    phi      g_oo                                                  x  \\\n0 -20.0  0.000100  [-1619443.0, -1614543.0211800302, -1609643.042...   \n1 -20.0  0.000621  [-1619443.0, -1614543.0211800302, -1609643.042...   \n2 -20.0  0.001142  [-1619443.0, -1614543.0211800302, -1609643.042...   \n3 -20.0  0.001663  [-1619443.0, -1614543.0211800302, -1609643.042...   \n4 -20.0  0.002184  [-1619443.0, -1614543.0211800302, -1609643.042...   \n\n                                                   y  \n0  [-22.425862483348567, -34.50558003150795, -39....  \n1  [-17.111296708758623, -19.276097087349733, -21...  \n2  [-37.10041261060839, -21.007891272269745, -20....  \n3  [-23.37838521227782, -24.835608713413627, -24....  \n4  [-21.79184944021594, -28.996907099851697, -27....  ",
      "text/html": "<div>\n<style scoped>\n    .dataframe tbody tr th:only-of-type {\n        vertical-align: middle;\n    }\n\n    .dataframe tbody tr th {\n        vertical-align: top;\n    }\n\n    .dataframe thead th {\n        text-align: right;\n    }\n</style>\n<table border=\"1\" class=\"dataframe\">\n  <thead>\n    <tr style=\"text-align: right;\">\n      <th></th>\n      <th>phi</th>\n      <th>g_oo</th>\n      <th>x</th>\n      <th>y</th>\n    </tr>\n  </thead>\n  <tbody>\n    <tr>\n      <th>0</th>\n      <td>-20.0</td>\n      <td>0.000100</td>\n      <td>[-1619443.0, -1614543.0211800302, -1609643.042...</td>\n      <td>[-22.425862483348567, -34.50558003150795, -39....</td>\n    </tr>\n    <tr>\n      <th>1</th>\n      <td>-20.0</td>\n      <td>0.000621</td>\n      <td>[-1619443.0, -1614543.0211800302, -1609643.042...</td>\n      <td>[-17.111296708758623, -19.276097087349733, -21...</td>\n    </tr>\n    <tr>\n      <th>2</th>\n      <td>-20.0</td>\n      <td>0.001142</td>\n      <td>[-1619443.0, -1614543.0211800302, -1609643.042...</td>\n      <td>[-37.10041261060839, -21.007891272269745, -20....</td>\n    </tr>\n    <tr>\n      <th>3</th>\n      <td>-20.0</td>\n      <td>0.001663</td>\n      <td>[-1619443.0, -1614543.0211800302, -1609643.042...</td>\n      <td>[-23.37838521227782, -24.835608713413627, -24....</td>\n    </tr>\n    <tr>\n      <th>4</th>\n      <td>-20.0</td>\n      <td>0.002184</td>\n      <td>[-1619443.0, -1614543.0211800302, -1609643.042...</td>\n      <td>[-21.79184944021594, -28.996907099851697, -27....</td>\n    </tr>\n  </tbody>\n</table>\n</div>"
     },
     "execution_count": 186,
     "metadata": {},
     "output_type": "execute_result"
    }
   ],
   "source": [
    "# Load the data\n",
    "df = pd.read_pickle('./data/transfer-functions-82000.pkl')\n",
    "df.head()"
   ]
  },
  {
   "cell_type": "code",
   "execution_count": 187,
   "outputs": [
    {
     "name": "stdout",
     "output_type": "stream",
     "text": [
      "[-20. -19. -18. -17. -16. -15. -14. -13. -12. -11. -10.  -9.  -8.  -7.\n",
      "  -6.  -5.  -4.  -3.  -2.  -1.   0.   1.   2.   3.   4.   5.   6.   7.\n",
      "   8.   9.  10.  11.  12.  13.  14.  15.  16.  17.  18.  19.  20.]\n",
      "[0.0001     0.00062105 0.00114211 0.00166316 0.00218421 0.00270526\n",
      " 0.00322632 0.00374737 0.00426842 0.00478947 0.00531053 0.00583158\n",
      " 0.00635263 0.00687368 0.00739474 0.00791579 0.00843684 0.00895789\n",
      " 0.00947895 0.01      ]\n",
      "phi           float64\n",
      "g_oo          float64\n",
      "x              object\n",
      "y              object\n",
      "phi_label       int64\n",
      "g_oo_label      int64\n",
      "dtype: object\n"
     ]
    }
   ],
   "source": [
    "# quantize the output features\n",
    "# factorized, uniques = pd.factorize(df['phi'])\n",
    "# print(uniques)\n",
    "# df['phi'] = factorized\n",
    "\n",
    "# factorized, uniques = pd.factorize(df['g_oo'])\n",
    "# print(uniques)\n",
    "# df['g_oo'] = factorized\n",
    "\n",
    "\n",
    "phi_encoder = preprocessing.LabelEncoder()\n",
    "df['phi_label'] = phi_encoder.fit_transform(df['phi'])\n",
    "print(phi_encoder.classes_)\n",
    "\n",
    "gain_encoder = preprocessing.LabelEncoder()\n",
    "df['g_oo_label'] = gain_encoder.fit_transform(df['g_oo'])\n",
    "print(gain_encoder.classes_)\n",
    "\n",
    "\n",
    "print(df.dtypes)\n",
    "\n"
   ],
   "metadata": {
    "collapsed": false,
    "pycharm": {
     "name": "#%%\n"
    }
   }
  },
  {
   "cell_type": "code",
   "execution_count": 188,
   "outputs": [
    {
     "data": {
      "text/plain": "<Figure size 432x288 with 1 Axes>",
      "image/png": "[encoded data removed]"
     },
     "metadata": {
      "needs_background": "light"
     },
     "output_type": "display_data"
    }
   ],
   "source": [
    "# Visualize the data\n",
    "for index, row in df.sample(n=3).iterrows():\n",
    "    y = row['y']\n",
    "    x = row['x']\n",
    "    plt.plot(x, y)\n",
    "plt.show()"
   ],
   "metadata": {
    "collapsed": false,
    "pycharm": {
     "name": "#%%\n"
    }
   }
  },
  {
   "cell_type": "code",
   "execution_count": 189,
   "metadata": {
    "pycharm": {
     "name": "#%%\n"
    }
   },
   "outputs": [],
   "source": [
    "# Extract the target variables\n",
    "param_a_label = df.pop('phi_label')\n",
    "param_b_label = df.pop('g_oo_label')\n",
    "\n",
    "param_a = df.pop('phi')\n",
    "param_b = df.pop('g_oo')\n",
    "\n",
    "\n",
    "# All x should be equal\n",
    "x = df.iloc[0].x.astype(np.float32)\n",
    "df.drop(columns='x', inplace=True)"
   ]
  },
  {
   "cell_type": "code",
   "execution_count": 190,
   "metadata": {
    "pycharm": {
     "name": "#%%\n"
    }
   },
   "outputs": [
    {
     "name": "stdout",
     "output_type": "stream",
     "text": [
      "tensor([[ 0,  5],\n",
      "        [ 0,  6],\n",
      "        [ 0,  7],\n",
      "        [ 0,  8],\n",
      "        [ 0,  9],\n",
      "        [ 0, 10],\n",
      "        [ 0, 11],\n",
      "        [ 0, 12],\n",
      "        [ 0, 13],\n",
      "        [ 0, 14]], dtype=torch.uint8)\n"
     ]
    }
   ],
   "source": [
    "# target is the target vector\n",
    "target = np.array((param_a_label, param_b_label), dtype=np.uint8).T\n",
    "\n",
    "target_original = np.array((param_a, param_b)).T\n",
    "\n",
    "# scaled_target = scale(target)\n",
    "# target_scaler = preprocessing.StandardScaler().fit(target)\n",
    "# print(target_scaler.mean_)\n",
    "# print(target_scaler.scale_)\n",
    "# scaled_target = target_scaler.transform(target)\n",
    "target = torch.tensor(target, dtype=torch.uint8)\n",
    "print(target[5:15])\n",
    "# scaler_target = preprocessing.MinMaxScaler()\n",
    "# scaled_target = torch.tensor(scaled_target)\n",
    "# print(scaled_target[5:15])"
   ]
  },
  {
   "cell_type": "code",
   "execution_count": 191,
   "metadata": {
    "pycharm": {
     "name": "#%%\n"
    }
   },
   "outputs": [
    {
     "data": {
      "text/plain": "                                                   y\n0  [-22.425862483348567, -34.50558003150795, -39....\n1  [-17.111296708758623, -19.276097087349733, -21...\n2  [-37.10041261060839, -21.007891272269745, -20....\n3  [-23.37838521227782, -24.835608713413627, -24....\n4  [-21.79184944021594, -28.996907099851697, -27....",
      "text/html": "<div>\n<style scoped>\n    .dataframe tbody tr th:only-of-type {\n        vertical-align: middle;\n    }\n\n    .dataframe tbody tr th {\n        vertical-align: top;\n    }\n\n    .dataframe thead th {\n        text-align: right;\n    }\n</style>\n<table border=\"1\" class=\"dataframe\">\n  <thead>\n    <tr style=\"text-align: right;\">\n      <th></th>\n      <th>y</th>\n    </tr>\n  </thead>\n  <tbody>\n    <tr>\n      <th>0</th>\n      <td>[-22.425862483348567, -34.50558003150795, -39....</td>\n    </tr>\n    <tr>\n      <th>1</th>\n      <td>[-17.111296708758623, -19.276097087349733, -21...</td>\n    </tr>\n    <tr>\n      <th>2</th>\n      <td>[-37.10041261060839, -21.007891272269745, -20....</td>\n    </tr>\n    <tr>\n      <th>3</th>\n      <td>[-23.37838521227782, -24.835608713413627, -24....</td>\n    </tr>\n    <tr>\n      <th>4</th>\n      <td>[-21.79184944021594, -28.996907099851697, -27....</td>\n    </tr>\n  </tbody>\n</table>\n</div>"
     },
     "execution_count": 191,
     "metadata": {},
     "output_type": "execute_result"
    }
   ],
   "source": [
    "# Only the input points have been left\n",
    "df.head()"
   ]
  },
  {
   "cell_type": "code",
   "execution_count": 192,
   "metadata": {
    "pycharm": {
     "name": "#%%\n"
    }
   },
   "outputs": [
    {
     "name": "stdout",
     "output_type": "stream",
     "text": [
      "(82000, 662)\n",
      "<class 'numpy.ndarray'>\n"
     ]
    }
   ],
   "source": [
    "values = np.zeros((len(df), len(df.iloc[0,0])), dtype=np.float32)\n",
    "# print(values.shape)\n",
    "index = 0\n",
    "for _, row in df.iterrows():\n",
    "    values[index, :] = row.values[0]\n",
    "    index += 1\n",
    "print(values.shape)\n",
    "print(type(values))"
   ]
  },
  {
   "cell_type": "code",
   "execution_count": 193,
   "metadata": {
    "pycharm": {
     "name": "#%%\n"
    }
   },
   "outputs": [
    {
     "name": "stdout",
     "output_type": "stream",
     "text": [
      "tensor([[-1.2695, -2.2140, -2.7280,  ..., -0.9453, -1.3646, -2.3427],\n",
      "        [-0.7820, -0.7954, -0.9861,  ..., -0.7045, -0.7330, -2.1319],\n",
      "        [-2.6156, -0.9567, -0.9385,  ..., -0.9320, -1.0220, -1.4074],\n",
      "        ...,\n",
      "        [ 0.1626,  0.3590,  0.2569,  ..., -0.3814, -0.2362,  0.3938],\n",
      "        [-0.3497,  0.5654,  0.5511,  ...,  0.5762,  0.7127,  0.0781],\n",
      "        [-0.0635,  0.6010,  0.6840,  ...,  0.0100,  0.1177,  0.4430]])\n"
     ]
    }
   ],
   "source": [
    "# Convert data to torch tensor\n",
    "data_scaler = preprocessing.StandardScaler().fit(values)\n",
    "# scaled_values = scale(values)\n",
    "scaled_values = data_scaler.transform(values)\n",
    "# scaled_values = values\n",
    "# print(data_scaler.mean_)\n",
    "# print(data_scaler.scale_)\n",
    "data = torch.tensor(scaled_values)\n",
    "# data = torch.tensor(values, dtype=torch.float32)\n",
    "print(data)"
   ]
  },
  {
   "cell_type": "code",
   "execution_count": 194,
   "outputs": [
    {
     "name": "stdout",
     "output_type": "stream",
     "text": [
      "torch.Size([65600, 662])\n",
      "torch.Size([16400, 662])\n",
      "torch.Size([65600, 2])\n",
      "torch.Size([16400, 2])\n"
     ]
    }
   ],
   "source": [
    "# Split in train and test\n",
    "X_train, X_test, y_train, y_test, y_train_original, y_test_original = train_test_split(data, target, target_original, test_size=0.2, random_state=2)\n",
    "print(X_train.shape)\n",
    "print(X_test.shape)\n",
    "print(y_train.shape)\n",
    "print(y_test.shape)"
   ],
   "metadata": {
    "collapsed": false,
    "pycharm": {
     "name": "#%%\n"
    }
   }
  },
  {
   "cell_type": "code",
   "execution_count": 195,
   "metadata": {
    "pycharm": {
     "name": "#%%\n"
    }
   },
   "outputs": [],
   "source": [
    "# Define the network architecture2\n",
    "\n",
    "class Net(nn.Module):\n",
    "    def __init__(self, n_inputs, n_outputs, name='classifer', activation_func=F.gelu,\n",
    "                 hidden_1=140, hidden_2=110, hidden_3=0,\n",
    "                 kernel_size=10, stride=10, trim_edges=120, save_best=True):\n",
    "        super(Net, self).__init__()\n",
    "        self.activate = activation_func\n",
    "        self.name = name\n",
    "        self.save_best = save_best\n",
    "        # A layer that trims out the edges\n",
    "        self.center = nn.ConstantPad1d(-trim_edges, 0)\n",
    "        n_inputs -= 2 * trim_edges\n",
    "        # An avgpooling layer to smoothen the curve\n",
    "        padding = 0\n",
    "        n_pool_out = (n_inputs + 2 * padding - kernel_size)//stride +1\n",
    "        self.pool1 = nn.AvgPool1d(kernel_size=kernel_size, stride=stride, padding=padding)\n",
    "\n",
    "        # linear layer (n_pool_out -> hidden_1)\n",
    "        self.fc1 = nn.Linear(n_pool_out, hidden_1)\n",
    "\n",
    "        # linear layer (n_hidden -> hidden_2)\n",
    "        self.fc2 = nn.Linear(hidden_1, hidden_2)\n",
    "\n",
    "        # linear layer (n_hidden -> n_outputs)\n",
    "        if hidden_3 > 0:\n",
    "            self.fc3 = nn.Linear(hidden_2, hidden_3)\n",
    "            self.fc4 = nn.Linear(hidden_3, n_outputs)\n",
    "        else:\n",
    "            self.fc3 = nn.Linear(hidden_2, n_outputs)\n",
    "            self.fc4 = None\n",
    "\n",
    "        # dropout layer (p=0.2)\n",
    "        # dropout prevents overfitting of data\n",
    "        self.dropout = nn.Dropout(0.2)\n",
    "\n",
    "    def forward(self, x):\n",
    "        # remove some points from the edges\n",
    "        x = self.center(x)\n",
    "\n",
    "        # This performs the average pooling layer\n",
    "        x = self.pool1(x)\n",
    "\n",
    "        # add hidden layer, with relu activation function\n",
    "        x = self.activate(self.fc1(x))\n",
    "\n",
    "        # add dropout layer\n",
    "        x = self.dropout(x)\n",
    "\n",
    "        # add hidden layer, with relu activation function\n",
    "        x = self.activate(self.fc2(x))\n",
    "\n",
    "        # add dropout layer\n",
    "        x = self.dropout(x)\n",
    "\n",
    "        if self.fc4:\n",
    "            x = self.dropout(self.activate(self.fc3(x)))\n",
    "            # add outputlayer\n",
    "            x = self.fc4(x)\n",
    "        else:\n",
    "            # add output layer\n",
    "            x = self.fc3(x)\n",
    "\n",
    "        # Output layer with softmax activation\n",
    "        x = F.log_softmax(x, dim=1)\n",
    "\n",
    "        return x\n",
    "\n",
    "\n",
    "    def get_accuracy(self, log_probs, labels):\n",
    "        ps = torch.exp(log_probs)\n",
    "        top_p, top_class = ps.topk(1, dim=1)\n",
    "        # print(top_class.shape)\n",
    "        # print(top_class.view(-1)[:5])\n",
    "        # print(labels.shape)\n",
    "        # print(labels.view(-1)[:5])\n",
    "        n_correct = top_class == labels.view(*top_class.shape)\n",
    "        # n_correct = torch.eq(top_class.view(-1,), labels.view(-1))\n",
    "        # print(n_correct.sum().item())\n",
    "        # n_correct = torch.sum((torch.abs(pred_arr-original_arr) < torch.abs(pct * original_arr)))\n",
    "        acc = (n_correct.sum().item() * 100.0 / len(labels))\n",
    "        return acc\n",
    "\n",
    "\n",
    "    def save(self, name='model.pt'):\n",
    "        torch.save(self.state_dict(), name)\n",
    "\n",
    "\n",
    "    def train_net(self, optimizer, criterion, X_train, y_train, X_test, y_test, num_epochs=100):\n",
    "        l_train_loss=[]\n",
    "        l_train_accuracy=[]\n",
    "        l_test_loss=[]\n",
    "        l_test_accuracy=[]\n",
    "        min_test_loss = np.Inf\n",
    "        for epoch in range(num_epochs):\n",
    "            # put the model in training mode\n",
    "            self.train()\n",
    "\n",
    "            # clear the gradients of all optimized variables\n",
    "            optimizer.zero_grad()\n",
    "\n",
    "            # forward pass: compute predicted outputs by passing inputs to the model\n",
    "            output_train = self(X_train)\n",
    "\n",
    "            l_train_accuracy.append(self.get_accuracy(output_train, y_train))\n",
    "\n",
    "            #calculate the loss\n",
    "            train_loss = criterion(output_train, y_train)\n",
    "            l_train_loss.append(train_loss.item())\n",
    "\n",
    "            #backward pass: compute gradient of the loss with respect to model parameters\n",
    "            train_loss.backward()\n",
    "\n",
    "            # perform a single optimization step (parameter update)\n",
    "            optimizer.step()\n",
    "\n",
    "            with torch.no_grad():\n",
    "                output_test = self(X_test)\n",
    "                test_loss = criterion(output_test, y_test)\n",
    "                l_test_loss.append(test_loss.item())\n",
    "                l_test_accuracy.append(self.get_accuracy(output_test, y_test))\n",
    "\n",
    "            if l_test_loss[-1] < min_test_loss:\n",
    "                print(f\"Epoch {epoch+1}/{num_epochs}: Test loss decreased ({min_test_loss:.6f} --> {l_test_loss[-1]:.6f})\")\n",
    "                if self.save_best:\n",
    "                    self.save(f'models/{self.name}.pt')\n",
    "                min_test_loss = l_test_loss[-1]\n",
    "\n",
    "            if (epoch + 1) % 50 == 0:\n",
    "                print(f\"Epoch {epoch+1}/{num_epochs}, Train Loss: {l_train_loss[-1]:.4f}, Test Loss: {l_test_loss[-1]:.4f}\")\n",
    "\n",
    "        return l_train_loss, l_train_accuracy, l_test_loss, l_test_accuracy\n"
   ]
  },
  {
   "cell_type": "code",
   "execution_count": 196,
   "outputs": [
    {
     "name": "stdout",
     "output_type": "stream",
     "text": [
      "Net(\n",
      "  (center): ConstantPad1d(padding=(-110, -110), value=0)\n",
      "  (pool1): AvgPool1d(kernel_size=(4,), stride=(4,), padding=(0,))\n",
      "  (fc1): Linear(in_features=110, out_features=420, bias=True)\n",
      "  (fc2): Linear(in_features=420, out_features=70, bias=True)\n",
      "  (fc3): Linear(in_features=70, out_features=41, bias=True)\n",
      "  (dropout): Dropout(p=0.2, inplace=False)\n",
      ")\n",
      "Epoch 1/500: Test loss decreased (inf --> 3.689182), saving model.\n",
      "Epoch 2/500: Test loss decreased (3.689182 --> 3.621456), saving model.\n",
      "Epoch 3/500: Test loss decreased (3.621456 --> 3.521177), saving model.\n",
      "Epoch 5/500: Test loss decreased (3.521177 --> 3.269024), saving model.\n",
      "Epoch 8/500: Test loss decreased (3.269024 --> 3.101156), saving model.\n",
      "Epoch 9/500: Test loss decreased (3.101156 --> 3.062357), saving model.\n",
      "Epoch 10/500: Test loss decreased (3.062357 --> 2.980801), saving model.\n",
      "Epoch 11/500: Test loss decreased (2.980801 --> 2.920134), saving model.\n",
      "Epoch 12/500: Test loss decreased (2.920134 --> 2.856459), saving model.\n",
      "Epoch 13/500: Test loss decreased (2.856459 --> 2.822288), saving model.\n",
      "Epoch 14/500: Test loss decreased (2.822288 --> 2.758753), saving model.\n",
      "Epoch 15/500: Test loss decreased (2.758753 --> 2.703408), saving model.\n",
      "Epoch 16/500: Test loss decreased (2.703408 --> 2.652602), saving model.\n",
      "Epoch 17/500: Test loss decreased (2.652602 --> 2.633322), saving model.\n",
      "Epoch 18/500: Test loss decreased (2.633322 --> 2.573862), saving model.\n",
      "Epoch 19/500: Test loss decreased (2.573862 --> 2.512516), saving model.\n",
      "Epoch 20/500: Test loss decreased (2.512516 --> 2.483911), saving model.\n",
      "Epoch 21/500: Test loss decreased (2.483911 --> 2.443534), saving model.\n",
      "Epoch 22/500: Test loss decreased (2.443534 --> 2.401533), saving model.\n",
      "Epoch 23/500: Test loss decreased (2.401533 --> 2.337012), saving model.\n",
      "Epoch 24/500: Test loss decreased (2.337012 --> 2.332093), saving model.\n",
      "Epoch 25/500: Test loss decreased (2.332093 --> 2.328887), saving model.\n",
      "Epoch 29/500: Test loss decreased (2.328887 --> 2.243961), saving model.\n",
      "Epoch 31/500: Test loss decreased (2.243961 --> 2.214888), saving model.\n",
      "Epoch 33/500: Test loss decreased (2.214888 --> 2.207255), saving model.\n",
      "Epoch 35/500: Test loss decreased (2.207255 --> 2.176805), saving model.\n",
      "Epoch 36/500: Test loss decreased (2.176805 --> 2.159864), saving model.\n",
      "Epoch 37/500: Test loss decreased (2.159864 --> 2.139077), saving model.\n",
      "Epoch 38/500: Test loss decreased (2.139077 --> 2.098389), saving model.\n",
      "Epoch 39/500: Test loss decreased (2.098389 --> 2.097906), saving model.\n",
      "Epoch 40/500: Test loss decreased (2.097906 --> 2.055650), saving model.\n",
      "Epoch 41/500: Test loss decreased (2.055650 --> 2.052007), saving model.\n",
      "Epoch 42/500: Test loss decreased (2.052007 --> 2.028567), saving model.\n",
      "Epoch 44/500: Test loss decreased (2.028567 --> 2.027005), saving model.\n",
      "Epoch 46/500: Test loss decreased (2.027005 --> 1.996368), saving model.\n",
      "Epoch 47/500: Test loss decreased (1.996368 --> 1.968623), saving model.\n",
      "Epoch 49/500: Test loss decreased (1.968623 --> 1.966737), saving model.\n",
      "Epoch 50/500, Train Loss: 1.9787, Test Loss: 2.0064\n",
      "Epoch 52/500: Test loss decreased (1.966737 --> 1.924267), saving model.\n",
      "Epoch 55/500: Test loss decreased (1.924267 --> 1.912416), saving model.\n",
      "Epoch 56/500: Test loss decreased (1.912416 --> 1.893467), saving model.\n",
      "Epoch 57/500: Test loss decreased (1.893467 --> 1.886262), saving model.\n",
      "Epoch 60/500: Test loss decreased (1.886262 --> 1.868111), saving model.\n",
      "Epoch 62/500: Test loss decreased (1.868111 --> 1.865844), saving model.\n",
      "Epoch 63/500: Test loss decreased (1.865844 --> 1.844665), saving model.\n",
      "Epoch 64/500: Test loss decreased (1.844665 --> 1.840412), saving model.\n",
      "Epoch 65/500: Test loss decreased (1.840412 --> 1.820470), saving model.\n",
      "Epoch 66/500: Test loss decreased (1.820470 --> 1.810683), saving model.\n",
      "Epoch 75/500: Test loss decreased (1.810683 --> 1.795058), saving model.\n",
      "Epoch 78/500: Test loss decreased (1.795058 --> 1.783911), saving model.\n",
      "Epoch 81/500: Test loss decreased (1.783911 --> 1.760110), saving model.\n",
      "Epoch 82/500: Test loss decreased (1.760110 --> 1.746620), saving model.\n",
      "Epoch 85/500: Test loss decreased (1.746620 --> 1.731088), saving model.\n",
      "Epoch 89/500: Test loss decreased (1.731088 --> 1.721483), saving model.\n",
      "Epoch 91/500: Test loss decreased (1.721483 --> 1.703126), saving model.\n",
      "Epoch 95/500: Test loss decreased (1.703126 --> 1.693881), saving model.\n",
      "Epoch 96/500: Test loss decreased (1.693881 --> 1.692173), saving model.\n",
      "Epoch 97/500: Test loss decreased (1.692173 --> 1.678082), saving model.\n",
      "Epoch 100/500, Train Loss: 1.6704, Test Loss: 1.6781\n",
      "Epoch 103/500: Test loss decreased (1.678082 --> 1.675722), saving model.\n",
      "Epoch 110/500: Test loss decreased (1.675722 --> 1.662310), saving model.\n",
      "Epoch 113/500: Test loss decreased (1.662310 --> 1.641640), saving model.\n",
      "Epoch 116/500: Test loss decreased (1.641640 --> 1.640531), saving model.\n",
      "Epoch 117/500: Test loss decreased (1.640531 --> 1.640120), saving model.\n",
      "Epoch 122/500: Test loss decreased (1.640120 --> 1.623739), saving model.\n",
      "Epoch 123/500: Test loss decreased (1.623739 --> 1.613938), saving model.\n",
      "Epoch 124/500: Test loss decreased (1.613938 --> 1.600486), saving model.\n",
      "Epoch 129/500: Test loss decreased (1.600486 --> 1.597082), saving model.\n",
      "Epoch 130/500: Test loss decreased (1.597082 --> 1.574614), saving model.\n",
      "Epoch 150/500, Train Loss: 1.5929, Test Loss: 1.5989\n",
      "Epoch 151/500: Test loss decreased (1.574614 --> 1.571628), saving model.\n",
      "Epoch 152/500: Test loss decreased (1.571628 --> 1.568775), saving model.\n",
      "Epoch 158/500: Test loss decreased (1.568775 --> 1.560053), saving model.\n",
      "Epoch 159/500: Test loss decreased (1.560053 --> 1.543162), saving model.\n",
      "Epoch 162/500: Test loss decreased (1.543162 --> 1.535191), saving model.\n",
      "Epoch 163/500: Test loss decreased (1.535191 --> 1.527217), saving model.\n",
      "Epoch 165/500: Test loss decreased (1.527217 --> 1.524493), saving model.\n",
      "Epoch 168/500: Test loss decreased (1.524493 --> 1.522368), saving model.\n",
      "Epoch 169/500: Test loss decreased (1.522368 --> 1.508002), saving model.\n",
      "Epoch 179/500: Test loss decreased (1.508002 --> 1.501996), saving model.\n",
      "Epoch 180/500: Test loss decreased (1.501996 --> 1.495040), saving model.\n",
      "Epoch 184/500: Test loss decreased (1.495040 --> 1.485048), saving model.\n",
      "Epoch 187/500: Test loss decreased (1.485048 --> 1.479981), saving model.\n",
      "Epoch 188/500: Test loss decreased (1.479981 --> 1.474943), saving model.\n",
      "Epoch 192/500: Test loss decreased (1.474943 --> 1.469490), saving model.\n",
      "Epoch 200/500, Train Loss: 1.5190, Test Loss: 1.5652\n",
      "Epoch 207/500: Test loss decreased (1.469490 --> 1.468699), saving model.\n",
      "Epoch 217/500: Test loss decreased (1.468699 --> 1.452233), saving model.\n",
      "Epoch 220/500: Test loss decreased (1.452233 --> 1.452130), saving model.\n",
      "Epoch 222/500: Test loss decreased (1.452130 --> 1.431627), saving model.\n",
      "Epoch 239/500: Test loss decreased (1.431627 --> 1.427431), saving model.\n",
      "Epoch 244/500: Test loss decreased (1.427431 --> 1.414336), saving model.\n",
      "Epoch 250/500, Train Loss: 1.4246, Test Loss: 1.4202\n",
      "Epoch 251/500: Test loss decreased (1.414336 --> 1.405584), saving model.\n",
      "Epoch 252/500: Test loss decreased (1.405584 --> 1.402345), saving model.\n",
      "Epoch 282/500: Test loss decreased (1.402345 --> 1.399198), saving model.\n",
      "Epoch 284/500: Test loss decreased (1.399198 --> 1.390955), saving model.\n",
      "Epoch 285/500: Test loss decreased (1.390955 --> 1.371416), saving model.\n",
      "Epoch 300/500, Train Loss: 1.3743, Test Loss: 1.3777\n",
      "Epoch 302/500: Test loss decreased (1.371416 --> 1.367975), saving model.\n",
      "Epoch 321/500: Test loss decreased (1.367975 --> 1.353948), saving model.\n",
      "Epoch 325/500: Test loss decreased (1.353948 --> 1.349825), saving model.\n",
      "Epoch 329/500: Test loss decreased (1.349825 --> 1.341664), saving model.\n",
      "Epoch 350/500, Train Loss: 1.3307, Test Loss: 1.3683\n",
      "Epoch 356/500: Test loss decreased (1.341664 --> 1.333922), saving model.\n",
      "Epoch 364/500: Test loss decreased (1.333922 --> 1.326996), saving model.\n",
      "Epoch 365/500: Test loss decreased (1.326996 --> 1.318614), saving model.\n",
      "Epoch 374/500: Test loss decreased (1.318614 --> 1.310150), saving model.\n",
      "Epoch 375/500: Test loss decreased (1.310150 --> 1.294458), saving model.\n",
      "Epoch 400/500, Train Loss: 1.3295, Test Loss: 1.3421\n",
      "Epoch 414/500: Test loss decreased (1.294458 --> 1.282461), saving model.\n",
      "Epoch 415/500: Test loss decreased (1.282461 --> 1.277328), saving model.\n",
      "Epoch 431/500: Test loss decreased (1.277328 --> 1.272600), saving model.\n",
      "Epoch 446/500: Test loss decreased (1.272600 --> 1.271127), saving model.\n",
      "Epoch 450/500, Train Loss: 1.2488, Test Loss: 1.2796\n",
      "Epoch 451/500: Test loss decreased (1.271127 --> 1.269489), saving model.\n",
      "Epoch 461/500: Test loss decreased (1.269489 --> 1.263906), saving model.\n",
      "Epoch 465/500: Test loss decreased (1.263906 --> 1.263450), saving model.\n",
      "Epoch 469/500: Test loss decreased (1.263450 --> 1.256748), saving model.\n",
      "Epoch 500/500: Test loss decreased (1.256748 --> 1.251029), saving model.\n",
      "Epoch 500/500, Train Loss: 1.2308, Test Loss: 1.2510\n"
     ]
    }
   ],
   "source": [
    "# Initialize model, loss function and optimizer\n",
    "# This is for the first parameter: phi\n",
    "n_inputs = data.shape[1]\n",
    "# we will build one model per output target\n",
    "n_outputs = len(np.unique(target[:, 0]))\n",
    "model1 = Net(n_inputs, n_outputs, name='classifier1', activation_func=F.gelu,\n",
    "                hidden_1=420, hidden_2=70, hidden_3=0,\n",
    "                kernel_size=4, stride=4, trim_edges=110, save_best=True)\n",
    "print(model1)\n",
    "\n",
    "# specify loss function (regression)\n",
    "criterion = nn.NLLLoss(); criterion_name = 'NLL'\n",
    "# criterion = nn.L1Loss(); criterion_name = 'MAE'\n",
    "\n",
    "# specify optimizer\n",
    "optimizer1 = torch.optim.Adam(model1.parameters(), lr=0.01)\n",
    "\n",
    "# train the network\n",
    "train_loss1, train_accuracy1, test_loss1, test_accuracy1 = model1.train_net(\n",
    "    optimizer1, criterion, X_train, y_train[:, 0].view(-1,), X_test, y_test[:, 0].view(-1,), 500)\n"
   ],
   "metadata": {
    "collapsed": false,
    "pycharm": {
     "name": "#%%\n"
    }
   }
  },
  {
   "cell_type": "code",
   "execution_count": 197,
   "outputs": [
    {
     "data": {
      "text/plain": "<Figure size 432x288 with 1 Axes>",
      "image/png": "[encoded data removed]"
     },
     "metadata": {
      "needs_background": "light"
     },
     "output_type": "display_data"
    },
    {
     "data": {
      "text/plain": "<Figure size 432x288 with 1 Axes>",
      "image/png": "[encoded data removed]"
     },
     "metadata": {
      "needs_background": "light"
     },
     "output_type": "display_data"
    },
    {
     "name": "stdout",
     "output_type": "stream",
     "text": [
      "Max accuracy:  49.97560975609756\n"
     ]
    }
   ],
   "source": [
    "plot_loss(train_loss1, test_loss1, epoch=(50,-1))\n",
    "plot_loss(train_accuracy1, test_accuracy1, epoch=(50, -1))\n",
    "print('Max accuracy: ', np.max(test_accuracy1))"
   ],
   "metadata": {
    "collapsed": false,
    "pycharm": {
     "name": "#%%\n"
    }
   }
  },
  {
   "cell_type": "code",
   "execution_count": 198,
   "outputs": [
    {
     "name": "stdout",
     "output_type": "stream",
     "text": [
      "Net(\n",
      "  (center): ConstantPad1d(padding=(-120, -120), value=0)\n",
      "  (pool1): AvgPool1d(kernel_size=(4,), stride=(4,), padding=(0,))\n",
      "  (fc1): Linear(in_features=105, out_features=420, bias=True)\n",
      "  (fc2): Linear(in_features=420, out_features=350, bias=True)\n",
      "  (fc3): Linear(in_features=350, out_features=20, bias=True)\n",
      "  (dropout): Dropout(p=0.2, inplace=False)\n",
      ")\n",
      "Epoch 1/500: Test loss decreased (inf --> 2.734514), saving model.\n",
      "Epoch 4/500: Test loss decreased (2.734514 --> 2.537671), saving model.\n",
      "Epoch 5/500: Test loss decreased (2.537671 --> 1.956689), saving model.\n",
      "Epoch 6/500: Test loss decreased (1.956689 --> 1.815214), saving model.\n",
      "Epoch 7/500: Test loss decreased (1.815214 --> 1.616220), saving model.\n",
      "Epoch 8/500: Test loss decreased (1.616220 --> 1.446275), saving model.\n",
      "Epoch 9/500: Test loss decreased (1.446275 --> 1.307204), saving model.\n",
      "Epoch 10/500: Test loss decreased (1.307204 --> 1.132893), saving model.\n",
      "Epoch 12/500: Test loss decreased (1.132893 --> 0.956117), saving model.\n",
      "Epoch 14/500: Test loss decreased (0.956117 --> 0.884690), saving model.\n",
      "Epoch 15/500: Test loss decreased (0.884690 --> 0.789045), saving model.\n",
      "Epoch 16/500: Test loss decreased (0.789045 --> 0.782337), saving model.\n",
      "Epoch 17/500: Test loss decreased (0.782337 --> 0.725625), saving model.\n",
      "Epoch 18/500: Test loss decreased (0.725625 --> 0.671973), saving model.\n",
      "Epoch 19/500: Test loss decreased (0.671973 --> 0.669538), saving model.\n",
      "Epoch 20/500: Test loss decreased (0.669538 --> 0.633027), saving model.\n",
      "Epoch 21/500: Test loss decreased (0.633027 --> 0.586174), saving model.\n",
      "Epoch 22/500: Test loss decreased (0.586174 --> 0.577367), saving model.\n",
      "Epoch 23/500: Test loss decreased (0.577367 --> 0.549816), saving model.\n",
      "Epoch 24/500: Test loss decreased (0.549816 --> 0.532755), saving model.\n",
      "Epoch 25/500: Test loss decreased (0.532755 --> 0.522058), saving model.\n",
      "Epoch 26/500: Test loss decreased (0.522058 --> 0.492407), saving model.\n",
      "Epoch 27/500: Test loss decreased (0.492407 --> 0.470546), saving model.\n",
      "Epoch 28/500: Test loss decreased (0.470546 --> 0.460079), saving model.\n",
      "Epoch 29/500: Test loss decreased (0.460079 --> 0.445003), saving model.\n",
      "Epoch 30/500: Test loss decreased (0.445003 --> 0.436732), saving model.\n",
      "Epoch 31/500: Test loss decreased (0.436732 --> 0.420387), saving model.\n",
      "Epoch 32/500: Test loss decreased (0.420387 --> 0.412416), saving model.\n",
      "Epoch 33/500: Test loss decreased (0.412416 --> 0.411711), saving model.\n",
      "Epoch 34/500: Test loss decreased (0.411711 --> 0.398177), saving model.\n",
      "Epoch 35/500: Test loss decreased (0.398177 --> 0.380610), saving model.\n",
      "Epoch 36/500: Test loss decreased (0.380610 --> 0.375772), saving model.\n",
      "Epoch 37/500: Test loss decreased (0.375772 --> 0.362320), saving model.\n",
      "Epoch 38/500: Test loss decreased (0.362320 --> 0.344873), saving model.\n",
      "Epoch 39/500: Test loss decreased (0.344873 --> 0.342984), saving model.\n",
      "Epoch 40/500: Test loss decreased (0.342984 --> 0.323883), saving model.\n",
      "Epoch 41/500: Test loss decreased (0.323883 --> 0.321822), saving model.\n",
      "Epoch 42/500: Test loss decreased (0.321822 --> 0.315145), saving model.\n",
      "Epoch 43/500: Test loss decreased (0.315145 --> 0.302087), saving model.\n",
      "Epoch 48/500: Test loss decreased (0.302087 --> 0.284048), saving model.\n",
      "Epoch 49/500: Test loss decreased (0.284048 --> 0.274878), saving model.\n",
      "Epoch 50/500, Train Loss: 0.2675, Test Loss: 0.3008\n",
      "Epoch 51/500: Test loss decreased (0.274878 --> 0.267254), saving model.\n",
      "Epoch 52/500: Test loss decreased (0.267254 --> 0.252397), saving model.\n",
      "Epoch 54/500: Test loss decreased (0.252397 --> 0.244963), saving model.\n",
      "Epoch 55/500: Test loss decreased (0.244963 --> 0.222489), saving model.\n",
      "Epoch 57/500: Test loss decreased (0.222489 --> 0.213676), saving model.\n",
      "Epoch 58/500: Test loss decreased (0.213676 --> 0.209826), saving model.\n",
      "Epoch 59/500: Test loss decreased (0.209826 --> 0.209693), saving model.\n",
      "Epoch 60/500: Test loss decreased (0.209693 --> 0.203153), saving model.\n",
      "Epoch 61/500: Test loss decreased (0.203153 --> 0.188739), saving model.\n",
      "Epoch 63/500: Test loss decreased (0.188739 --> 0.187186), saving model.\n",
      "Epoch 64/500: Test loss decreased (0.187186 --> 0.170932), saving model.\n",
      "Epoch 67/500: Test loss decreased (0.170932 --> 0.164416), saving model.\n",
      "Epoch 68/500: Test loss decreased (0.164416 --> 0.154470), saving model.\n",
      "Epoch 70/500: Test loss decreased (0.154470 --> 0.149968), saving model.\n",
      "Epoch 71/500: Test loss decreased (0.149968 --> 0.146071), saving model.\n",
      "Epoch 72/500: Test loss decreased (0.146071 --> 0.145903), saving model.\n",
      "Epoch 73/500: Test loss decreased (0.145903 --> 0.144995), saving model.\n",
      "Epoch 74/500: Test loss decreased (0.144995 --> 0.136521), saving model.\n",
      "Epoch 75/500: Test loss decreased (0.136521 --> 0.133941), saving model.\n",
      "Epoch 76/500: Test loss decreased (0.133941 --> 0.131381), saving model.\n",
      "Epoch 77/500: Test loss decreased (0.131381 --> 0.130350), saving model.\n",
      "Epoch 78/500: Test loss decreased (0.130350 --> 0.126362), saving model.\n",
      "Epoch 79/500: Test loss decreased (0.126362 --> 0.123989), saving model.\n",
      "Epoch 80/500: Test loss decreased (0.123989 --> 0.122949), saving model.\n",
      "Epoch 81/500: Test loss decreased (0.122949 --> 0.117301), saving model.\n",
      "Epoch 84/500: Test loss decreased (0.117301 --> 0.115894), saving model.\n",
      "Epoch 85/500: Test loss decreased (0.115894 --> 0.111410), saving model.\n",
      "Epoch 86/500: Test loss decreased (0.111410 --> 0.109061), saving model.\n",
      "Epoch 87/500: Test loss decreased (0.109061 --> 0.104456), saving model.\n",
      "Epoch 89/500: Test loss decreased (0.104456 --> 0.102667), saving model.\n",
      "Epoch 91/500: Test loss decreased (0.102667 --> 0.102382), saving model.\n",
      "Epoch 92/500: Test loss decreased (0.102382 --> 0.095257), saving model.\n",
      "Epoch 94/500: Test loss decreased (0.095257 --> 0.093388), saving model.\n",
      "Epoch 95/500: Test loss decreased (0.093388 --> 0.092634), saving model.\n",
      "Epoch 96/500: Test loss decreased (0.092634 --> 0.089175), saving model.\n",
      "Epoch 99/500: Test loss decreased (0.089175 --> 0.087506), saving model.\n",
      "Epoch 100/500, Train Loss: 0.0832, Test Loss: 0.0884\n",
      "Epoch 101/500: Test loss decreased (0.087506 --> 0.085993), saving model.\n",
      "Epoch 102/500: Test loss decreased (0.085993 --> 0.085981), saving model.\n",
      "Epoch 103/500: Test loss decreased (0.085981 --> 0.079477), saving model.\n",
      "Epoch 106/500: Test loss decreased (0.079477 --> 0.078749), saving model.\n",
      "Epoch 109/500: Test loss decreased (0.078749 --> 0.075884), saving model.\n",
      "Epoch 110/500: Test loss decreased (0.075884 --> 0.073367), saving model.\n",
      "Epoch 150/500, Train Loss: 0.0688, Test Loss: 0.0744\n",
      "Epoch 152/500: Test loss decreased (0.073367 --> 0.073342), saving model.\n",
      "Epoch 153/500: Test loss decreased (0.073342 --> 0.068142), saving model.\n",
      "Epoch 155/500: Test loss decreased (0.068142 --> 0.066599), saving model.\n",
      "Epoch 156/500: Test loss decreased (0.066599 --> 0.065753), saving model.\n",
      "Epoch 157/500: Test loss decreased (0.065753 --> 0.064247), saving model.\n",
      "Epoch 158/500: Test loss decreased (0.064247 --> 0.061361), saving model.\n",
      "Epoch 161/500: Test loss decreased (0.061361 --> 0.057123), saving model.\n",
      "Epoch 162/500: Test loss decreased (0.057123 --> 0.056862), saving model.\n",
      "Epoch 164/500: Test loss decreased (0.056862 --> 0.054406), saving model.\n",
      "Epoch 166/500: Test loss decreased (0.054406 --> 0.053121), saving model.\n",
      "Epoch 170/500: Test loss decreased (0.053121 --> 0.052850), saving model.\n",
      "Epoch 171/500: Test loss decreased (0.052850 --> 0.051454), saving model.\n",
      "Epoch 172/500: Test loss decreased (0.051454 --> 0.050928), saving model.\n",
      "Epoch 174/500: Test loss decreased (0.050928 --> 0.050842), saving model.\n",
      "Epoch 176/500: Test loss decreased (0.050842 --> 0.049955), saving model.\n",
      "Epoch 177/500: Test loss decreased (0.049955 --> 0.047539), saving model.\n",
      "Epoch 178/500: Test loss decreased (0.047539 --> 0.046328), saving model.\n",
      "Epoch 180/500: Test loss decreased (0.046328 --> 0.044963), saving model.\n",
      "Epoch 188/500: Test loss decreased (0.044963 --> 0.043841), saving model.\n",
      "Epoch 190/500: Test loss decreased (0.043841 --> 0.042898), saving model.\n",
      "Epoch 192/500: Test loss decreased (0.042898 --> 0.041834), saving model.\n",
      "Epoch 193/500: Test loss decreased (0.041834 --> 0.040633), saving model.\n",
      "Epoch 200/500: Test loss decreased (0.040633 --> 0.040148), saving model.\n",
      "Epoch 200/500, Train Loss: 0.0343, Test Loss: 0.0401\n",
      "Epoch 203/500: Test loss decreased (0.040148 --> 0.039888), saving model.\n",
      "Epoch 204/500: Test loss decreased (0.039888 --> 0.038923), saving model.\n",
      "Epoch 206/500: Test loss decreased (0.038923 --> 0.038296), saving model.\n",
      "Epoch 208/500: Test loss decreased (0.038296 --> 0.038261), saving model.\n",
      "Epoch 210/500: Test loss decreased (0.038261 --> 0.037664), saving model.\n",
      "Epoch 216/500: Test loss decreased (0.037664 --> 0.037221), saving model.\n",
      "Epoch 221/500: Test loss decreased (0.037221 --> 0.035394), saving model.\n",
      "Epoch 223/500: Test loss decreased (0.035394 --> 0.035155), saving model.\n",
      "Epoch 224/500: Test loss decreased (0.035155 --> 0.034539), saving model.\n",
      "Epoch 226/500: Test loss decreased (0.034539 --> 0.033422), saving model.\n",
      "Epoch 229/500: Test loss decreased (0.033422 --> 0.033129), saving model.\n",
      "Epoch 235/500: Test loss decreased (0.033129 --> 0.033074), saving model.\n",
      "Epoch 236/500: Test loss decreased (0.033074 --> 0.032924), saving model.\n",
      "Epoch 239/500: Test loss decreased (0.032924 --> 0.032522), saving model.\n",
      "Epoch 244/500: Test loss decreased (0.032522 --> 0.031878), saving model.\n",
      "Epoch 247/500: Test loss decreased (0.031878 --> 0.031492), saving model.\n",
      "Epoch 249/500: Test loss decreased (0.031492 --> 0.030490), saving model.\n",
      "Epoch 250/500: Test loss decreased (0.030490 --> 0.029940), saving model.\n",
      "Epoch 250/500, Train Loss: 0.0254, Test Loss: 0.0299\n",
      "Epoch 257/500: Test loss decreased (0.029940 --> 0.029137), saving model.\n",
      "Epoch 260/500: Test loss decreased (0.029137 --> 0.028818), saving model.\n",
      "Epoch 265/500: Test loss decreased (0.028818 --> 0.028091), saving model.\n",
      "Epoch 269/500: Test loss decreased (0.028091 --> 0.027780), saving model.\n",
      "Epoch 273/500: Test loss decreased (0.027780 --> 0.027624), saving model.\n",
      "Epoch 275/500: Test loss decreased (0.027624 --> 0.027287), saving model.\n",
      "Epoch 278/500: Test loss decreased (0.027287 --> 0.026662), saving model.\n",
      "Epoch 283/500: Test loss decreased (0.026662 --> 0.026475), saving model.\n",
      "Epoch 291/500: Test loss decreased (0.026475 --> 0.025984), saving model.\n",
      "Epoch 292/500: Test loss decreased (0.025984 --> 0.025712), saving model.\n",
      "Epoch 293/500: Test loss decreased (0.025712 --> 0.025051), saving model.\n",
      "Epoch 300/500, Train Loss: 0.0188, Test Loss: 0.0269\n",
      "Epoch 303/500: Test loss decreased (0.025051 --> 0.024742), saving model.\n",
      "Epoch 307/500: Test loss decreased (0.024742 --> 0.024678), saving model.\n",
      "Epoch 311/500: Test loss decreased (0.024678 --> 0.023937), saving model.\n",
      "Epoch 313/500: Test loss decreased (0.023937 --> 0.023816), saving model.\n",
      "Epoch 325/500: Test loss decreased (0.023816 --> 0.023655), saving model.\n",
      "Epoch 327/500: Test loss decreased (0.023655 --> 0.021753), saving model.\n",
      "Epoch 343/500: Test loss decreased (0.021753 --> 0.021702), saving model.\n",
      "Epoch 346/500: Test loss decreased (0.021702 --> 0.021639), saving model.\n",
      "Epoch 350/500: Test loss decreased (0.021639 --> 0.020751), saving model.\n",
      "Epoch 350/500, Train Loss: 0.0150, Test Loss: 0.0208\n",
      "Epoch 366/500: Test loss decreased (0.020751 --> 0.019967), saving model.\n",
      "Epoch 372/500: Test loss decreased (0.019967 --> 0.019631), saving model.\n",
      "Epoch 385/500: Test loss decreased (0.019631 --> 0.018922), saving model.\n",
      "Epoch 399/500: Test loss decreased (0.018922 --> 0.018829), saving model.\n",
      "Epoch 400/500, Train Loss: 0.0115, Test Loss: 0.0228\n",
      "Epoch 401/500: Test loss decreased (0.018829 --> 0.018813), saving model.\n",
      "Epoch 409/500: Test loss decreased (0.018813 --> 0.017330), saving model.\n",
      "Epoch 446/500: Test loss decreased (0.017330 --> 0.016472), saving model.\n",
      "Epoch 450/500, Train Loss: 0.0097, Test Loss: 0.0204\n",
      "Epoch 458/500: Test loss decreased (0.016472 --> 0.016326), saving model.\n",
      "Epoch 473/500: Test loss decreased (0.016326 --> 0.015571), saving model.\n",
      "Epoch 489/500: Test loss decreased (0.015571 --> 0.015256), saving model.\n",
      "Epoch 500/500, Train Loss: 0.0089, Test Loss: 0.0168\n"
     ]
    }
   ],
   "source": [
    "# Initialize model, loss function and optimizer\n",
    "# This is for the second parameter: g_oo\n",
    "\n",
    "n_inputs = data.shape[1]\n",
    "# we will build one model per output target\n",
    "n_outputs = len(np.unique(target[:, 1]))\n",
    "\n",
    "model2 = Net(n_inputs, n_outputs, name='classifier2', activation_func=F.gelu,\n",
    "                hidden_1=420, hidden_2=350, hidden_3=0,\n",
    "                kernel_size=4, stride=4, trim_edges=120, save_best=True)\n",
    "print(model2)\n",
    "\n",
    "# specify loss function (regression)\n",
    "criterion = nn.NLLLoss(); criterion_name = 'NLLLoss'\n",
    "# criterion = nn.L1Loss(); criterion_name = 'MAE'\n",
    "\n",
    "# specify optimizer\n",
    "optimizer2 = torch.optim.Adam(model2.parameters(), lr=0.01)\n",
    "\n",
    "# train the network\n",
    "\n",
    "train_loss2, train_accuracy2, test_loss2, test_accuracy2 = model2.train_net(\n",
    "    optimizer2, criterion, X_train, y_train[:, 1].view(-1,), X_test, y_test[:, 1].view(-1,), 500)\n"
   ],
   "metadata": {
    "collapsed": false,
    "pycharm": {
     "name": "#%%\n"
    }
   }
  },
  {
   "cell_type": "code",
   "execution_count": 199,
   "outputs": [
    {
     "data": {
      "text/plain": "<Figure size 432x288 with 1 Axes>",
      "image/png": "[encoded data removed]"
     },
     "metadata": {
      "needs_background": "light"
     },
     "output_type": "display_data"
    },
    {
     "data": {
      "text/plain": "<Figure size 432x288 with 1 Axes>",
      "image/png": "[encoded data removed]"
     },
     "metadata": {
      "needs_background": "light"
     },
     "output_type": "display_data"
    },
    {
     "name": "stdout",
     "output_type": "stream",
     "text": [
      "Max accuracy:  99.4939024390244\n"
     ]
    }
   ],
   "source": [
    "plot_loss(train_loss2, test_loss2, epoch=(50, -1))\n",
    "plot_loss(train_accuracy2, test_accuracy2, epoch=(50, -1))\n",
    "print('Max accuracy: ', np.max(test_accuracy2))\n"
   ],
   "metadata": {
    "collapsed": false,
    "pycharm": {
     "name": "#%%\n"
    }
   }
  },
  {
   "cell_type": "code",
   "execution_count": 121,
   "outputs": [
    {
     "name": "stdout",
     "output_type": "stream",
     "text": [
      "Training net with: activation, kernel_size, stride, h_1, h_2, h_3, trim = (gelu, 4, 4,420, 70, 0, 110)\n",
      "Epoch 1/150: Test loss decreased (inf --> 3.747838), saving model.\n",
      "Epoch 2/150: Test loss decreased (3.747838 --> 3.671403), saving model.\n",
      "Epoch 3/150: Test loss decreased (3.671403 --> 3.640469), saving model.\n",
      "Epoch 4/150: Test loss decreased (3.640469 --> 3.547704), saving model.\n",
      "Epoch 5/150: Test loss decreased (3.547704 --> 3.379106), saving model.\n",
      "Epoch 6/150: Test loss decreased (3.379106 --> 3.348790), saving model.\n",
      "Epoch 7/150: Test loss decreased (3.348790 --> 3.182041), saving model.\n",
      "Epoch 8/150: Test loss decreased (3.182041 --> 3.101953), saving model.\n",
      "Epoch 9/150: Test loss decreased (3.101953 --> 3.083135), saving model.\n",
      "Epoch 10/150: Test loss decreased (3.083135 --> 3.020586), saving model.\n",
      "Epoch 11/150: Test loss decreased (3.020586 --> 2.981534), saving model.\n",
      "Epoch 12/150: Test loss decreased (2.981534 --> 2.884096), saving model.\n",
      "Epoch 13/150: Test loss decreased (2.884096 --> 2.859407), saving model.\n",
      "Epoch 14/150: Test loss decreased (2.859407 --> 2.851764), saving model.\n",
      "Epoch 15/150: Test loss decreased (2.851764 --> 2.763837), saving model.\n",
      "Epoch 16/150: Test loss decreased (2.763837 --> 2.672383), saving model.\n",
      "Epoch 17/150: Test loss decreased (2.672383 --> 2.642959), saving model.\n",
      "Epoch 18/150: Test loss decreased (2.642959 --> 2.615018), saving model.\n",
      "Epoch 21/150: Test loss decreased (2.615018 --> 2.578613), saving model.\n",
      "Epoch 23/150: Test loss decreased (2.578613 --> 2.486773), saving model.\n",
      "Epoch 25/150: Test loss decreased (2.486773 --> 2.459873), saving model.\n",
      "Epoch 26/150: Test loss decreased (2.459873 --> 2.435477), saving model.\n",
      "Epoch 27/150: Test loss decreased (2.435477 --> 2.386384), saving model.\n",
      "Epoch 28/150: Test loss decreased (2.386384 --> 2.363646), saving model.\n",
      "Epoch 29/150: Test loss decreased (2.363646 --> 2.307877), saving model.\n",
      "Epoch 31/150: Test loss decreased (2.307877 --> 2.273681), saving model.\n",
      "Epoch 33/150: Test loss decreased (2.273681 --> 2.237168), saving model.\n",
      "Epoch 34/150: Test loss decreased (2.237168 --> 2.213341), saving model.\n",
      "Epoch 36/150: Test loss decreased (2.213341 --> 2.190977), saving model.\n",
      "Epoch 37/150: Test loss decreased (2.190977 --> 2.153097), saving model.\n",
      "Epoch 42/150: Test loss decreased (2.153097 --> 2.103009), saving model.\n",
      "Epoch 43/150: Test loss decreased (2.103009 --> 2.101213), saving model.\n",
      "Epoch 46/150: Test loss decreased (2.101213 --> 2.096555), saving model.\n",
      "Epoch 47/150: Test loss decreased (2.096555 --> 2.058774), saving model.\n",
      "Epoch 48/150: Test loss decreased (2.058774 --> 2.025577), saving model.\n",
      "Epoch 50/150, Train Loss: 1.9694, Test Loss: 2.0378\n",
      "Epoch 51/150: Test loss decreased (2.025577 --> 2.002547), saving model.\n",
      "Epoch 57/150: Test loss decreased (2.002547 --> 1.976166), saving model.\n",
      "Epoch 60/150: Test loss decreased (1.976166 --> 1.931880), saving model.\n",
      "Epoch 63/150: Test loss decreased (1.931880 --> 1.911965), saving model.\n",
      "Epoch 68/150: Test loss decreased (1.911965 --> 1.900508), saving model.\n",
      "Epoch 72/150: Test loss decreased (1.900508 --> 1.895972), saving model.\n",
      "Epoch 73/150: Test loss decreased (1.895972 --> 1.886027), saving model.\n",
      "Epoch 75/150: Test loss decreased (1.886027 --> 1.860586), saving model.\n",
      "Epoch 78/150: Test loss decreased (1.860586 --> 1.835282), saving model.\n",
      "Epoch 81/150: Test loss decreased (1.835282 --> 1.827558), saving model.\n",
      "Epoch 100/150, Train Loss: 1.7721, Test Loss: 1.8315\n",
      "Epoch 102/150: Test loss decreased (1.827558 --> 1.809800), saving model.\n",
      "Epoch 107/150: Test loss decreased (1.809800 --> 1.774363), saving model.\n",
      "Epoch 110/150: Test loss decreased (1.774363 --> 1.764418), saving model.\n",
      "Epoch 112/150: Test loss decreased (1.764418 --> 1.757361), saving model.\n",
      "Epoch 115/150: Test loss decreased (1.757361 --> 1.745637), saving model.\n",
      "Epoch 117/150: Test loss decreased (1.745637 --> 1.734921), saving model.\n",
      "Epoch 119/150: Test loss decreased (1.734921 --> 1.730953), saving model.\n",
      "Epoch 122/150: Test loss decreased (1.730953 --> 1.723845), saving model.\n",
      "Epoch 142/150: Test loss decreased (1.723845 --> 1.717615), saving model.\n",
      "Epoch 146/150: Test loss decreased (1.717615 --> 1.714983), saving model.\n",
      "Epoch 147/150: Test loss decreased (1.714983 --> 1.680846), saving model.\n",
      "Epoch 150/150, Train Loss: 1.5215, Test Loss: 1.7462\n",
      "Training net with: activation, kernel_size, stride, h_1, h_2, h_3, trim = (gelu, 4, 4,420, 70, 50, 110)\n",
      "Epoch 1/150: Test loss decreased (inf --> 3.717997), saving model.\n",
      "Epoch 2/150: Test loss decreased (3.717997 --> 3.684446), saving model.\n",
      "Epoch 3/150: Test loss decreased (3.684446 --> 3.605734), saving model.\n",
      "Epoch 5/150: Test loss decreased (3.605734 --> 3.512535), saving model.\n",
      "Epoch 6/150: Test loss decreased (3.512535 --> 3.363324), saving model.\n",
      "Epoch 7/150: Test loss decreased (3.363324 --> 3.340871), saving model.\n",
      "Epoch 8/150: Test loss decreased (3.340871 --> 3.258352), saving model.\n",
      "Epoch 9/150: Test loss decreased (3.258352 --> 3.160852), saving model.\n",
      "Epoch 10/150: Test loss decreased (3.160852 --> 3.056281), saving model.\n",
      "Epoch 11/150: Test loss decreased (3.056281 --> 2.989672), saving model.\n",
      "Epoch 12/150: Test loss decreased (2.989672 --> 2.958806), saving model.\n",
      "Epoch 13/150: Test loss decreased (2.958806 --> 2.957540), saving model.\n",
      "Epoch 14/150: Test loss decreased (2.957540 --> 2.912251), saving model.\n",
      "Epoch 15/150: Test loss decreased (2.912251 --> 2.763525), saving model.\n",
      "Epoch 16/150: Test loss decreased (2.763525 --> 2.730380), saving model.\n",
      "Epoch 19/150: Test loss decreased (2.730380 --> 2.609668), saving model.\n",
      "Epoch 23/150: Test loss decreased (2.609668 --> 2.549269), saving model.\n",
      "Epoch 25/150: Test loss decreased (2.549269 --> 2.496287), saving model.\n",
      "Epoch 26/150: Test loss decreased (2.496287 --> 2.469953), saving model.\n",
      "Epoch 27/150: Test loss decreased (2.469953 --> 2.439231), saving model.\n",
      "Epoch 28/150: Test loss decreased (2.439231 --> 2.423360), saving model.\n",
      "Epoch 29/150: Test loss decreased (2.423360 --> 2.375232), saving model.\n",
      "Epoch 30/150: Test loss decreased (2.375232 --> 2.344908), saving model.\n",
      "Epoch 31/150: Test loss decreased (2.344908 --> 2.274051), saving model.\n",
      "Epoch 38/150: Test loss decreased (2.274051 --> 2.238127), saving model.\n",
      "Epoch 41/150: Test loss decreased (2.238127 --> 2.202611), saving model.\n",
      "Epoch 42/150: Test loss decreased (2.202611 --> 2.185475), saving model.\n",
      "Epoch 43/150: Test loss decreased (2.185475 --> 2.171762), saving model.\n",
      "Epoch 46/150: Test loss decreased (2.171762 --> 2.152244), saving model.\n",
      "Epoch 47/150: Test loss decreased (2.152244 --> 2.124642), saving model.\n",
      "Epoch 48/150: Test loss decreased (2.124642 --> 2.074238), saving model.\n",
      "Epoch 49/150: Test loss decreased (2.074238 --> 2.072582), saving model.\n",
      "Epoch 50/150, Train Loss: 2.0062, Test Loss: 2.0837\n",
      "Epoch 51/150: Test loss decreased (2.072582 --> 2.069043), saving model.\n",
      "Epoch 52/150: Test loss decreased (2.069043 --> 2.063997), saving model.\n",
      "Epoch 56/150: Test loss decreased (2.063997 --> 2.040912), saving model.\n",
      "Epoch 57/150: Test loss decreased (2.040912 --> 2.002391), saving model.\n",
      "Epoch 58/150: Test loss decreased (2.002391 --> 1.997807), saving model.\n",
      "Epoch 61/150: Test loss decreased (1.997807 --> 1.958546), saving model.\n",
      "Epoch 62/150: Test loss decreased (1.958546 --> 1.956549), saving model.\n",
      "Epoch 66/150: Test loss decreased (1.956549 --> 1.942898), saving model.\n",
      "Epoch 67/150: Test loss decreased (1.942898 --> 1.941181), saving model.\n",
      "Epoch 69/150: Test loss decreased (1.941181 --> 1.936863), saving model.\n",
      "Epoch 72/150: Test loss decreased (1.936863 --> 1.911359), saving model.\n",
      "Epoch 73/150: Test loss decreased (1.911359 --> 1.863808), saving model.\n",
      "Epoch 87/150: Test loss decreased (1.863808 --> 1.848256), saving model.\n",
      "Epoch 89/150: Test loss decreased (1.848256 --> 1.818754), saving model.\n",
      "Epoch 100/150, Train Loss: 1.9403, Test Loss: 1.9040\n",
      "Epoch 108/150: Test loss decreased (1.818754 --> 1.817421), saving model.\n",
      "Epoch 114/150: Test loss decreased (1.817421 --> 1.807543), saving model.\n",
      "Epoch 115/150: Test loss decreased (1.807543 --> 1.781113), saving model.\n",
      "Epoch 118/150: Test loss decreased (1.781113 --> 1.779132), saving model.\n",
      "Epoch 132/150: Test loss decreased (1.779132 --> 1.761297), saving model.\n",
      "Epoch 138/150: Test loss decreased (1.761297 --> 1.755552), saving model.\n",
      "Epoch 141/150: Test loss decreased (1.755552 --> 1.750952), saving model.\n",
      "Epoch 145/150: Test loss decreased (1.750952 --> 1.720000), saving model.\n",
      "Epoch 150/150, Train Loss: 1.6106, Test Loss: 1.8137\n",
      "Training net with: activation, kernel_size, stride, h_1, h_2, h_3, trim = (gelu, 4, 4,420, 70, 100, 110)\n",
      "Epoch 1/150: Test loss decreased (inf --> 3.710236), saving model.\n",
      "Epoch 2/150: Test loss decreased (3.710236 --> 3.626362), saving model.\n",
      "Epoch 3/150: Test loss decreased (3.626362 --> 3.451924), saving model.\n",
      "Epoch 5/150: Test loss decreased (3.451924 --> 3.433469), saving model.\n",
      "Epoch 7/150: Test loss decreased (3.433469 --> 3.390902), saving model.\n",
      "Epoch 8/150: Test loss decreased (3.390902 --> 3.365209), saving model.\n",
      "Epoch 11/150: Test loss decreased (3.365209 --> 3.331932), saving model.\n",
      "Epoch 12/150: Test loss decreased (3.331932 --> 3.234514), saving model.\n",
      "Epoch 13/150: Test loss decreased (3.234514 --> 3.186336), saving model.\n",
      "Epoch 14/150: Test loss decreased (3.186336 --> 3.100584), saving model.\n",
      "Epoch 15/150: Test loss decreased (3.100584 --> 3.003168), saving model.\n",
      "Epoch 16/150: Test loss decreased (3.003168 --> 2.925306), saving model.\n",
      "Epoch 17/150: Test loss decreased (2.925306 --> 2.877257), saving model.\n",
      "Epoch 18/150: Test loss decreased (2.877257 --> 2.743825), saving model.\n",
      "Epoch 20/150: Test loss decreased (2.743825 --> 2.690272), saving model.\n",
      "Epoch 21/150: Test loss decreased (2.690272 --> 2.648681), saving model.\n",
      "Epoch 22/150: Test loss decreased (2.648681 --> 2.611475), saving model.\n",
      "Epoch 24/150: Test loss decreased (2.611475 --> 2.541363), saving model.\n",
      "Epoch 25/150: Test loss decreased (2.541363 --> 2.532115), saving model.\n",
      "Epoch 27/150: Test loss decreased (2.532115 --> 2.476569), saving model.\n",
      "Epoch 28/150: Test loss decreased (2.476569 --> 2.474759), saving model.\n",
      "Epoch 29/150: Test loss decreased (2.474759 --> 2.392580), saving model.\n",
      "Epoch 31/150: Test loss decreased (2.392580 --> 2.362062), saving model.\n",
      "Epoch 34/150: Test loss decreased (2.362062 --> 2.330802), saving model.\n",
      "Epoch 35/150: Test loss decreased (2.330802 --> 2.316654), saving model.\n",
      "Epoch 37/150: Test loss decreased (2.316654 --> 2.233735), saving model.\n",
      "Epoch 40/150: Test loss decreased (2.233735 --> 2.193733), saving model.\n",
      "Epoch 43/150: Test loss decreased (2.193733 --> 2.162929), saving model.\n",
      "Epoch 44/150: Test loss decreased (2.162929 --> 2.142415), saving model.\n",
      "Epoch 45/150: Test loss decreased (2.142415 --> 2.131573), saving model.\n",
      "Epoch 46/150: Test loss decreased (2.131573 --> 2.117890), saving model.\n",
      "Epoch 50/150, Train Loss: 2.2022, Test Loss: 2.1383\n",
      "Epoch 53/150: Test loss decreased (2.117890 --> 2.050805), saving model.\n",
      "Epoch 56/150: Test loss decreased (2.050805 --> 2.016561), saving model.\n",
      "Epoch 59/150: Test loss decreased (2.016561 --> 2.006185), saving model.\n",
      "Epoch 64/150: Test loss decreased (2.006185 --> 1.978212), saving model.\n",
      "Epoch 65/150: Test loss decreased (1.978212 --> 1.964180), saving model.\n",
      "Epoch 67/150: Test loss decreased (1.964180 --> 1.958888), saving model.\n",
      "Epoch 68/150: Test loss decreased (1.958888 --> 1.928083), saving model.\n",
      "Epoch 70/150: Test loss decreased (1.928083 --> 1.915422), saving model.\n",
      "Epoch 87/150: Test loss decreased (1.915422 --> 1.914459), saving model.\n",
      "Epoch 89/150: Test loss decreased (1.914459 --> 1.867396), saving model.\n",
      "Epoch 94/150: Test loss decreased (1.867396 --> 1.842338), saving model.\n",
      "Epoch 100/150, Train Loss: 1.8474, Test Loss: 1.8940\n",
      "Epoch 102/150: Test loss decreased (1.842338 --> 1.808544), saving model.\n",
      "Epoch 105/150: Test loss decreased (1.808544 --> 1.804207), saving model.\n",
      "Epoch 111/150: Test loss decreased (1.804207 --> 1.787525), saving model.\n",
      "Epoch 119/150: Test loss decreased (1.787525 --> 1.780788), saving model.\n",
      "Epoch 120/150: Test loss decreased (1.780788 --> 1.777832), saving model.\n",
      "Epoch 122/150: Test loss decreased (1.777832 --> 1.762979), saving model.\n",
      "Epoch 126/150: Test loss decreased (1.762979 --> 1.760714), saving model.\n",
      "Epoch 127/150: Test loss decreased (1.760714 --> 1.721861), saving model.\n",
      "Epoch 144/150: Test loss decreased (1.721861 --> 1.708928), saving model.\n",
      "Epoch 147/150: Test loss decreased (1.708928 --> 1.685715), saving model.\n",
      "Epoch 150/150, Train Loss: 1.5785, Test Loss: 1.7563\n",
      "Training net with: activation, kernel_size, stride, h_1, h_2, h_3, trim = (gelu, 4, 4,420, 70, 150, 110)\n",
      "Epoch 1/150: Test loss decreased (inf --> 3.727471), saving model.\n",
      "Epoch 2/150: Test loss decreased (3.727471 --> 3.665781), saving model.\n",
      "Epoch 3/150: Test loss decreased (3.665781 --> 3.485078), saving model.\n",
      "Epoch 6/150: Test loss decreased (3.485078 --> 3.285876), saving model.\n",
      "Epoch 10/150: Test loss decreased (3.285876 --> 3.269525), saving model.\n",
      "Epoch 11/150: Test loss decreased (3.269525 --> 3.177892), saving model.\n",
      "Epoch 12/150: Test loss decreased (3.177892 --> 3.101003), saving model.\n",
      "Epoch 13/150: Test loss decreased (3.101003 --> 3.011593), saving model.\n",
      "Epoch 14/150: Test loss decreased (3.011593 --> 2.958528), saving model.\n",
      "Epoch 15/150: Test loss decreased (2.958528 --> 2.907887), saving model.\n",
      "Epoch 16/150: Test loss decreased (2.907887 --> 2.776463), saving model.\n",
      "Epoch 17/150: Test loss decreased (2.776463 --> 2.720927), saving model.\n",
      "Epoch 18/150: Test loss decreased (2.720927 --> 2.694299), saving model.\n",
      "Epoch 21/150: Test loss decreased (2.694299 --> 2.595568), saving model.\n",
      "Epoch 23/150: Test loss decreased (2.595568 --> 2.553483), saving model.\n",
      "Epoch 25/150: Test loss decreased (2.553483 --> 2.457345), saving model.\n",
      "Epoch 26/150: Test loss decreased (2.457345 --> 2.455247), saving model.\n",
      "Epoch 29/150: Test loss decreased (2.455247 --> 2.407152), saving model.\n",
      "Epoch 30/150: Test loss decreased (2.407152 --> 2.348065), saving model.\n",
      "Epoch 32/150: Test loss decreased (2.348065 --> 2.305422), saving model.\n",
      "Epoch 33/150: Test loss decreased (2.305422 --> 2.293825), saving model.\n",
      "Epoch 35/150: Test loss decreased (2.293825 --> 2.284715), saving model.\n",
      "Epoch 37/150: Test loss decreased (2.284715 --> 2.174894), saving model.\n",
      "Epoch 42/150: Test loss decreased (2.174894 --> 2.140734), saving model.\n",
      "Epoch 45/150: Test loss decreased (2.140734 --> 2.130247), saving model.\n",
      "Epoch 46/150: Test loss decreased (2.130247 --> 2.115943), saving model.\n",
      "Epoch 47/150: Test loss decreased (2.115943 --> 2.107600), saving model.\n",
      "Epoch 50/150, Train Loss: 2.1686, Test Loss: 2.2150\n",
      "Epoch 51/150: Test loss decreased (2.107600 --> 2.044851), saving model.\n",
      "Epoch 56/150: Test loss decreased (2.044851 --> 2.040996), saving model.\n",
      "Epoch 58/150: Test loss decreased (2.040996 --> 2.010990), saving model.\n",
      "Epoch 59/150: Test loss decreased (2.010990 --> 1.974747), saving model.\n",
      "Epoch 65/150: Test loss decreased (1.974747 --> 1.904438), saving model.\n",
      "Epoch 79/150: Test loss decreased (1.904438 --> 1.867202), saving model.\n",
      "Epoch 85/150: Test loss decreased (1.867202 --> 1.865689), saving model.\n",
      "Epoch 86/150: Test loss decreased (1.865689 --> 1.858576), saving model.\n",
      "Epoch 87/150: Test loss decreased (1.858576 --> 1.854799), saving model.\n",
      "Epoch 88/150: Test loss decreased (1.854799 --> 1.838130), saving model.\n",
      "Epoch 92/150: Test loss decreased (1.838130 --> 1.829350), saving model.\n",
      "Epoch 98/150: Test loss decreased (1.829350 --> 1.819633), saving model.\n",
      "Epoch 100/150, Train Loss: 1.6915, Test Loss: 1.8387\n",
      "Epoch 101/150: Test loss decreased (1.819633 --> 1.814453), saving model.\n",
      "Epoch 104/150: Test loss decreased (1.814453 --> 1.796214), saving model.\n",
      "Epoch 107/150: Test loss decreased (1.796214 --> 1.773891), saving model.\n",
      "Epoch 108/150: Test loss decreased (1.773891 --> 1.748441), saving model.\n",
      "Epoch 120/150: Test loss decreased (1.748441 --> 1.744600), saving model.\n",
      "Epoch 124/150: Test loss decreased (1.744600 --> 1.739592), saving model.\n",
      "Epoch 125/150: Test loss decreased (1.739592 --> 1.714937), saving model.\n",
      "Epoch 138/150: Test loss decreased (1.714937 --> 1.699580), saving model.\n",
      "Epoch 150/150, Train Loss: 1.6654, Test Loss: 1.7007\n"
     ]
    }
   ],
   "source": [
    "# Hyper parameter tuning\n",
    "# criterion = nn.L1Loss(); criterion_name = 'MAE'\n",
    "n_inputs = data.shape[1]\n",
    "n_outputs = len(np.unique(target[:, 0]))\n",
    "test_results = []\n",
    "num_epochs = 150\n",
    "# for activ_f, activ_f_name in [(F.relu, 'relu'), (F.relu6, 'relu6'), (F.gelu, 'gelu')]:\n",
    "for activ_f, activ_f_name in [(F.gelu, 'gelu')]:\n",
    "    for kernel_size, stride in [(4, 4)]:\n",
    "        for hidden_1 in [420]:\n",
    "            for hidden_2 in [70]:\n",
    "                for hidden_3 in [0]:\n",
    "                    for trim_edges in [110]:\n",
    "                        print(f\"Training net with: activation, kernel_size, stride, h_1, h_2, h_3, trim \"\n",
    "                              f\"= ({activ_f_name}, {kernel_size}, {stride},\"\n",
    "                              f\"{hidden_1}, {hidden_2}, {hidden_3}, {trim_edges})\")\n",
    "                        model = Net(n_inputs, n_outputs, name='classifier1', activation_func=activ_f,\n",
    "                                    hidden_1=hidden_1, hidden_2=hidden_2, hidden_3=hidden_3,\n",
    "                                    kernel_size=kernel_size, stride=stride, trim_edges=trim_edges, save_best=False)\n",
    "                        criterion = nn.NLLLoss(); criterion_name = 'NLLLoss'\n",
    "                        optimizer = torch.optim.Adam(model.parameters(), lr=0.01)\n",
    "                        train_loss, train_accuracy, test_loss, test_accuracy = model.train_net(\n",
    "                            optimizer, criterion, X_train, y_train[:, 0].view(-1), X_test, y_test[:, 0].view(-1), num_epochs)\n",
    "                        test_results.append([activ_f_name, kernel_size, stride, hidden_1, hidden_2, hidden_3,\n",
    "                                             trim_edges, np.min(test_loss)])\n",
    "        # plot_loss(train_loss, test_loss, epoch=(10,-1))\n",
    "\n",
    "table = PrettyTable()\n",
    "table.field_names = [\"activation\", \"kernel size\", \"stride\",\n",
    "                     \"hidden_1\", \"hidden_2\", \"hidden_3\", \"trim_edges\", \"Min Loss\"]\n",
    "test_results.sort(key=lambda x: x[-1])\n",
    "for row in test_results:\n",
    "    table.add_row(row)\n",
    "# print('kernel_size, stride, Min loss')\n",
    "print(table)"
   ],
   "metadata": {
    "collapsed": false,
    "pycharm": {
     "name": "#%%\n"
    }
   }
  },
  {
   "cell_type": "code",
   "execution_count": 184,
   "outputs": [
    {
     "name": "stdout",
     "output_type": "stream",
     "text": [
      "Training net with: activation, kernel_size, stride, h_1, h_2, h_3, trim = (gelu, 4, 4,420, 350, 0, 120)\n",
      "Epoch 1/150: Test loss decreased (inf --> 2.518597), saving model.\n",
      "Epoch 5/150: Test loss decreased (2.518597 --> 2.147688), saving model.\n",
      "Epoch 6/150: Test loss decreased (2.147688 --> 1.988690), saving model.\n",
      "Epoch 7/150: Test loss decreased (1.988690 --> 1.557503), saving model.\n",
      "Epoch 8/150: Test loss decreased (1.557503 --> 1.491342), saving model.\n",
      "Epoch 9/150: Test loss decreased (1.491342 --> 1.391999), saving model.\n",
      "Epoch 10/150: Test loss decreased (1.391999 --> 1.193513), saving model.\n",
      "Epoch 11/150: Test loss decreased (1.193513 --> 1.154846), saving model.\n",
      "Epoch 12/150: Test loss decreased (1.154846 --> 1.016436), saving model.\n",
      "Epoch 13/150: Test loss decreased (1.016436 --> 0.967871), saving model.\n",
      "Epoch 14/150: Test loss decreased (0.967871 --> 0.853078), saving model.\n",
      "Epoch 15/150: Test loss decreased (0.853078 --> 0.834278), saving model.\n",
      "Epoch 16/150: Test loss decreased (0.834278 --> 0.768262), saving model.\n",
      "Epoch 17/150: Test loss decreased (0.768262 --> 0.726577), saving model.\n",
      "Epoch 18/150: Test loss decreased (0.726577 --> 0.678478), saving model.\n",
      "Epoch 19/150: Test loss decreased (0.678478 --> 0.662246), saving model.\n",
      "Epoch 20/150: Test loss decreased (0.662246 --> 0.614432), saving model.\n",
      "Epoch 21/150: Test loss decreased (0.614432 --> 0.593108), saving model.\n",
      "Epoch 22/150: Test loss decreased (0.593108 --> 0.560344), saving model.\n",
      "Epoch 24/150: Test loss decreased (0.560344 --> 0.521190), saving model.\n",
      "Epoch 25/150: Test loss decreased (0.521190 --> 0.494117), saving model.\n",
      "Epoch 26/150: Test loss decreased (0.494117 --> 0.493816), saving model.\n",
      "Epoch 27/150: Test loss decreased (0.493816 --> 0.459437), saving model.\n",
      "Epoch 28/150: Test loss decreased (0.459437 --> 0.438643), saving model.\n",
      "Epoch 30/150: Test loss decreased (0.438643 --> 0.411382), saving model.\n",
      "Epoch 31/150: Test loss decreased (0.411382 --> 0.397595), saving model.\n",
      "Epoch 34/150: Test loss decreased (0.397595 --> 0.367233), saving model.\n",
      "Epoch 36/150: Test loss decreased (0.367233 --> 0.334702), saving model.\n",
      "Epoch 39/150: Test loss decreased (0.334702 --> 0.313526), saving model.\n",
      "Epoch 40/150: Test loss decreased (0.313526 --> 0.306772), saving model.\n",
      "Epoch 41/150: Test loss decreased (0.306772 --> 0.297723), saving model.\n",
      "Epoch 42/150: Test loss decreased (0.297723 --> 0.276474), saving model.\n",
      "Epoch 43/150: Test loss decreased (0.276474 --> 0.271862), saving model.\n",
      "Epoch 44/150: Test loss decreased (0.271862 --> 0.268624), saving model.\n",
      "Epoch 45/150: Test loss decreased (0.268624 --> 0.262301), saving model.\n",
      "Epoch 46/150: Test loss decreased (0.262301 --> 0.253059), saving model.\n",
      "Epoch 50/150: Test loss decreased (0.253059 --> 0.225967), saving model.\n",
      "Epoch 50/150, Train Loss: 0.2914, Test Loss: 0.2260\n",
      "Epoch 54/150: Test loss decreased (0.225967 --> 0.206832), saving model.\n",
      "Epoch 57/150: Test loss decreased (0.206832 --> 0.188495), saving model.\n",
      "Epoch 63/150: Test loss decreased (0.188495 --> 0.165390), saving model.\n",
      "Epoch 64/150: Test loss decreased (0.165390 --> 0.165170), saving model.\n",
      "Epoch 67/150: Test loss decreased (0.165170 --> 0.156265), saving model.\n",
      "Epoch 69/150: Test loss decreased (0.156265 --> 0.151977), saving model.\n",
      "Epoch 70/150: Test loss decreased (0.151977 --> 0.146357), saving model.\n",
      "Epoch 72/150: Test loss decreased (0.146357 --> 0.143971), saving model.\n",
      "Epoch 75/150: Test loss decreased (0.143971 --> 0.131990), saving model.\n",
      "Epoch 78/150: Test loss decreased (0.131990 --> 0.129547), saving model.\n",
      "Epoch 80/150: Test loss decreased (0.129547 --> 0.121623), saving model.\n",
      "Epoch 83/150: Test loss decreased (0.121623 --> 0.120154), saving model.\n",
      "Epoch 85/150: Test loss decreased (0.120154 --> 0.117370), saving model.\n",
      "Epoch 89/150: Test loss decreased (0.117370 --> 0.110468), saving model.\n",
      "Epoch 93/150: Test loss decreased (0.110468 --> 0.109529), saving model.\n",
      "Epoch 94/150: Test loss decreased (0.109529 --> 0.103989), saving model.\n",
      "Epoch 95/150: Test loss decreased (0.103989 --> 0.098682), saving model.\n",
      "Epoch 100/150: Test loss decreased (0.098682 --> 0.096562), saving model.\n",
      "Epoch 100/150, Train Loss: 0.0744, Test Loss: 0.0966\n",
      "Epoch 105/150: Test loss decreased (0.096562 --> 0.090675), saving model.\n",
      "Epoch 112/150: Test loss decreased (0.090675 --> 0.083021), saving model.\n",
      "Epoch 114/150: Test loss decreased (0.083021 --> 0.082725), saving model.\n",
      "Epoch 124/150: Test loss decreased (0.082725 --> 0.078352), saving model.\n",
      "Epoch 136/150: Test loss decreased (0.078352 --> 0.077660), saving model.\n",
      "Epoch 137/150: Test loss decreased (0.077660 --> 0.070980), saving model.\n",
      "Epoch 143/150: Test loss decreased (0.070980 --> 0.061332), saving model.\n",
      "Epoch 150/150, Train Loss: 0.0346, Test Loss: 0.0663\n",
      "Training net with: activation, kernel_size, stride, h_1, h_2, h_3, trim = (gelu, 3, 3,420, 350, 0, 120)\n",
      "Epoch 1/150: Test loss decreased (inf --> 2.431878), saving model.\n",
      "Epoch 5/150: Test loss decreased (2.431878 --> 2.381566), saving model.\n",
      "Epoch 6/150: Test loss decreased (2.381566 --> 2.003424), saving model.\n",
      "Epoch 7/150: Test loss decreased (2.003424 --> 1.715766), saving model.\n",
      "Epoch 8/150: Test loss decreased (1.715766 --> 1.617459), saving model.\n",
      "Epoch 10/150: Test loss decreased (1.617459 --> 1.451528), saving model.\n",
      "Epoch 11/150: Test loss decreased (1.451528 --> 1.354225), saving model.\n",
      "Epoch 12/150: Test loss decreased (1.354225 --> 1.299049), saving model.\n",
      "Epoch 13/150: Test loss decreased (1.299049 --> 1.148571), saving model.\n",
      "Epoch 15/150: Test loss decreased (1.148571 --> 1.061102), saving model.\n",
      "Epoch 16/150: Test loss decreased (1.061102 --> 1.058006), saving model.\n",
      "Epoch 17/150: Test loss decreased (1.058006 --> 0.906997), saving model.\n",
      "Epoch 18/150: Test loss decreased (0.906997 --> 0.848712), saving model.\n",
      "Epoch 19/150: Test loss decreased (0.848712 --> 0.805227), saving model.\n",
      "Epoch 20/150: Test loss decreased (0.805227 --> 0.752859), saving model.\n",
      "Epoch 21/150: Test loss decreased (0.752859 --> 0.697267), saving model.\n",
      "Epoch 22/150: Test loss decreased (0.697267 --> 0.677922), saving model.\n",
      "Epoch 23/150: Test loss decreased (0.677922 --> 0.622028), saving model.\n",
      "Epoch 24/150: Test loss decreased (0.622028 --> 0.608488), saving model.\n",
      "Epoch 25/150: Test loss decreased (0.608488 --> 0.569035), saving model.\n",
      "Epoch 26/150: Test loss decreased (0.569035 --> 0.565116), saving model.\n",
      "Epoch 28/150: Test loss decreased (0.565116 --> 0.519791), saving model.\n",
      "Epoch 29/150: Test loss decreased (0.519791 --> 0.516670), saving model.\n",
      "Epoch 30/150: Test loss decreased (0.516670 --> 0.504909), saving model.\n",
      "Epoch 31/150: Test loss decreased (0.504909 --> 0.467758), saving model.\n",
      "Epoch 32/150: Test loss decreased (0.467758 --> 0.462948), saving model.\n",
      "Epoch 33/150: Test loss decreased (0.462948 --> 0.451767), saving model.\n",
      "Epoch 34/150: Test loss decreased (0.451767 --> 0.434641), saving model.\n",
      "Epoch 35/150: Test loss decreased (0.434641 --> 0.426248), saving model.\n",
      "Epoch 37/150: Test loss decreased (0.426248 --> 0.410349), saving model.\n",
      "Epoch 38/150: Test loss decreased (0.410349 --> 0.388215), saving model.\n",
      "Epoch 39/150: Test loss decreased (0.388215 --> 0.387705), saving model.\n",
      "Epoch 40/150: Test loss decreased (0.387705 --> 0.365150), saving model.\n",
      "Epoch 45/150: Test loss decreased (0.365150 --> 0.359603), saving model.\n",
      "Epoch 46/150: Test loss decreased (0.359603 --> 0.352459), saving model.\n",
      "Epoch 47/150: Test loss decreased (0.352459 --> 0.324415), saving model.\n",
      "Epoch 48/150: Test loss decreased (0.324415 --> 0.306254), saving model.\n",
      "Epoch 50/150, Train Loss: 0.3390, Test Loss: 0.3188\n",
      "Epoch 51/150: Test loss decreased (0.306254 --> 0.278808), saving model.\n",
      "Epoch 55/150: Test loss decreased (0.278808 --> 0.256630), saving model.\n",
      "Epoch 56/150: Test loss decreased (0.256630 --> 0.254030), saving model.\n",
      "Epoch 58/150: Test loss decreased (0.254030 --> 0.238985), saving model.\n",
      "Epoch 60/150: Test loss decreased (0.238985 --> 0.221675), saving model.\n",
      "Epoch 64/150: Test loss decreased (0.221675 --> 0.211751), saving model.\n",
      "Epoch 65/150: Test loss decreased (0.211751 --> 0.200689), saving model.\n",
      "Epoch 72/150: Test loss decreased (0.200689 --> 0.198104), saving model.\n",
      "Epoch 73/150: Test loss decreased (0.198104 --> 0.186106), saving model.\n",
      "Epoch 74/150: Test loss decreased (0.186106 --> 0.180199), saving model.\n",
      "Epoch 78/150: Test loss decreased (0.180199 --> 0.171829), saving model.\n",
      "Epoch 81/150: Test loss decreased (0.171829 --> 0.164076), saving model.\n",
      "Epoch 82/150: Test loss decreased (0.164076 --> 0.153668), saving model.\n",
      "Epoch 87/150: Test loss decreased (0.153668 --> 0.153167), saving model.\n",
      "Epoch 89/150: Test loss decreased (0.153167 --> 0.140603), saving model.\n",
      "Epoch 92/150: Test loss decreased (0.140603 --> 0.133109), saving model.\n",
      "Epoch 98/150: Test loss decreased (0.133109 --> 0.132404), saving model.\n",
      "Epoch 99/150: Test loss decreased (0.132404 --> 0.129666), saving model.\n",
      "Epoch 100/150, Train Loss: 0.0934, Test Loss: 0.1376\n",
      "Epoch 102/150: Test loss decreased (0.129666 --> 0.128226), saving model.\n",
      "Epoch 107/150: Test loss decreased (0.128226 --> 0.125974), saving model.\n",
      "Epoch 108/150: Test loss decreased (0.125974 --> 0.119038), saving model.\n",
      "Epoch 109/150: Test loss decreased (0.119038 --> 0.118106), saving model.\n",
      "Epoch 113/150: Test loss decreased (0.118106 --> 0.113751), saving model.\n",
      "Epoch 116/150: Test loss decreased (0.113751 --> 0.113719), saving model.\n",
      "Epoch 117/150: Test loss decreased (0.113719 --> 0.113513), saving model.\n",
      "Epoch 122/150: Test loss decreased (0.113513 --> 0.104629), saving model.\n",
      "Epoch 127/150: Test loss decreased (0.104629 --> 0.100527), saving model.\n",
      "Epoch 135/150: Test loss decreased (0.100527 --> 0.098045), saving model.\n",
      "Epoch 150/150, Train Loss: 0.0435, Test Loss: 0.1033\n",
      "Training net with: activation, kernel_size, stride, h_1, h_2, h_3, trim = (gelu, 4, 2,420, 350, 0, 120)\n",
      "Epoch 1/150: Test loss decreased (inf --> 2.520699), saving model.\n",
      "Epoch 5/150: Test loss decreased (2.520699 --> 2.108021), saving model.\n",
      "Epoch 6/150: Test loss decreased (2.108021 --> 2.073199), saving model.\n",
      "Epoch 7/150: Test loss decreased (2.073199 --> 1.914890), saving model.\n",
      "Epoch 8/150: Test loss decreased (1.914890 --> 1.662008), saving model.\n",
      "Epoch 11/150: Test loss decreased (1.662008 --> 1.654694), saving model.\n",
      "Epoch 12/150: Test loss decreased (1.654694 --> 1.387509), saving model.\n",
      "Epoch 13/150: Test loss decreased (1.387509 --> 1.267010), saving model.\n",
      "Epoch 14/150: Test loss decreased (1.267010 --> 1.165542), saving model.\n",
      "Epoch 15/150: Test loss decreased (1.165542 --> 1.096842), saving model.\n",
      "Epoch 16/150: Test loss decreased (1.096842 --> 1.030928), saving model.\n",
      "Epoch 17/150: Test loss decreased (1.030928 --> 0.944929), saving model.\n",
      "Epoch 18/150: Test loss decreased (0.944929 --> 0.859068), saving model.\n",
      "Epoch 19/150: Test loss decreased (0.859068 --> 0.818225), saving model.\n",
      "Epoch 20/150: Test loss decreased (0.818225 --> 0.779204), saving model.\n",
      "Epoch 21/150: Test loss decreased (0.779204 --> 0.710991), saving model.\n",
      "Epoch 22/150: Test loss decreased (0.710991 --> 0.700666), saving model.\n",
      "Epoch 23/150: Test loss decreased (0.700666 --> 0.645207), saving model.\n",
      "Epoch 24/150: Test loss decreased (0.645207 --> 0.609846), saving model.\n",
      "Epoch 25/150: Test loss decreased (0.609846 --> 0.603875), saving model.\n",
      "Epoch 26/150: Test loss decreased (0.603875 --> 0.579351), saving model.\n",
      "Epoch 27/150: Test loss decreased (0.579351 --> 0.558054), saving model.\n",
      "Epoch 28/150: Test loss decreased (0.558054 --> 0.532541), saving model.\n",
      "Epoch 29/150: Test loss decreased (0.532541 --> 0.507931), saving model.\n",
      "Epoch 30/150: Test loss decreased (0.507931 --> 0.496108), saving model.\n",
      "Epoch 31/150: Test loss decreased (0.496108 --> 0.481649), saving model.\n",
      "Epoch 32/150: Test loss decreased (0.481649 --> 0.461301), saving model.\n",
      "Epoch 33/150: Test loss decreased (0.461301 --> 0.446945), saving model.\n",
      "Epoch 34/150: Test loss decreased (0.446945 --> 0.441403), saving model.\n",
      "Epoch 35/150: Test loss decreased (0.441403 --> 0.421907), saving model.\n",
      "Epoch 36/150: Test loss decreased (0.421907 --> 0.404568), saving model.\n",
      "Epoch 37/150: Test loss decreased (0.404568 --> 0.401853), saving model.\n",
      "Epoch 38/150: Test loss decreased (0.401853 --> 0.395720), saving model.\n",
      "Epoch 39/150: Test loss decreased (0.395720 --> 0.382426), saving model.\n",
      "Epoch 40/150: Test loss decreased (0.382426 --> 0.373558), saving model.\n",
      "Epoch 41/150: Test loss decreased (0.373558 --> 0.368983), saving model.\n",
      "Epoch 42/150: Test loss decreased (0.368983 --> 0.358367), saving model.\n",
      "Epoch 43/150: Test loss decreased (0.358367 --> 0.334954), saving model.\n",
      "Epoch 45/150: Test loss decreased (0.334954 --> 0.330929), saving model.\n",
      "Epoch 46/150: Test loss decreased (0.330929 --> 0.325479), saving model.\n",
      "Epoch 47/150: Test loss decreased (0.325479 --> 0.307288), saving model.\n",
      "Epoch 48/150: Test loss decreased (0.307288 --> 0.298202), saving model.\n",
      "Epoch 49/150: Test loss decreased (0.298202 --> 0.271490), saving model.\n",
      "Epoch 50/150, Train Loss: 0.2861, Test Loss: 0.2855\n",
      "Epoch 52/150: Test loss decreased (0.271490 --> 0.270178), saving model.\n",
      "Epoch 53/150: Test loss decreased (0.270178 --> 0.252291), saving model.\n",
      "Epoch 54/150: Test loss decreased (0.252291 --> 0.241668), saving model.\n",
      "Epoch 55/150: Test loss decreased (0.241668 --> 0.240971), saving model.\n",
      "Epoch 58/150: Test loss decreased (0.240971 --> 0.222176), saving model.\n",
      "Epoch 59/150: Test loss decreased (0.222176 --> 0.210862), saving model.\n",
      "Epoch 64/150: Test loss decreased (0.210862 --> 0.192459), saving model.\n",
      "Epoch 68/150: Test loss decreased (0.192459 --> 0.191136), saving model.\n",
      "Epoch 69/150: Test loss decreased (0.191136 --> 0.165254), saving model.\n",
      "Epoch 72/150: Test loss decreased (0.165254 --> 0.147462), saving model.\n",
      "Epoch 73/150: Test loss decreased (0.147462 --> 0.144233), saving model.\n",
      "Epoch 78/150: Test loss decreased (0.144233 --> 0.142864), saving model.\n",
      "Epoch 80/150: Test loss decreased (0.142864 --> 0.131744), saving model.\n",
      "Epoch 86/150: Test loss decreased (0.131744 --> 0.120493), saving model.\n",
      "Epoch 87/150: Test loss decreased (0.120493 --> 0.117735), saving model.\n",
      "Epoch 92/150: Test loss decreased (0.117735 --> 0.117592), saving model.\n",
      "Epoch 93/150: Test loss decreased (0.117592 --> 0.102265), saving model.\n",
      "Epoch 100/150, Train Loss: 0.5030, Test Loss: 0.5927\n",
      "Epoch 144/150: Test loss decreased (0.102265 --> 0.099733), saving model.\n",
      "Epoch 146/150: Test loss decreased (0.099733 --> 0.095844), saving model.\n",
      "Epoch 148/150: Test loss decreased (0.095844 --> 0.089750), saving model.\n",
      "Epoch 150/150, Train Loss: 0.0531, Test Loss: 0.1078\n"
     ]
    }
   ],
   "source": [
    "# Hyper parameter tuning\n",
    "# criterion = nn.L1Loss(); criterion_name = 'MAE'\n",
    "n_inputs = data.shape[1]\n",
    "n_outputs = len(np.unique(target[:, 1]))\n",
    "test_results = []\n",
    "num_epochs = 150\n",
    "# for activ_f, activ_f_name in [(F.relu, 'relu'), (F.relu6, 'relu6'), (F.gelu, 'gelu')]:\n",
    "for activ_f, activ_f_name in [(F.gelu, 'gelu')]:\n",
    "    for kernel_size, stride in [(4,4)]:\n",
    "        for hidden_1 in [420]:\n",
    "            for hidden_2 in [350]:\n",
    "                for hidden_3 in [0]:\n",
    "                    for trim_edges in [120]:\n",
    "                        print(f\"Training net with: activation, kernel_size, stride, h_1, h_2, h_3, trim \"\n",
    "                              f\"= ({activ_f_name}, {kernel_size}, {stride},\"\n",
    "                              f\"{hidden_1}, {hidden_2}, {hidden_3}, {trim_edges})\")\n",
    "                        model = Net(n_inputs, n_outputs, name='classifier2', activation_func=activ_f,\n",
    "                                    hidden_1=hidden_1, hidden_2=hidden_2, hidden_3=hidden_3,\n",
    "                                    kernel_size=kernel_size, stride=stride, trim_edges=trim_edges, save_best=False)\n",
    "                        criterion = nn.NLLLoss(); criterion_name = 'NLLLoss'\n",
    "                        optimizer = torch.optim.Adam(model.parameters(), lr=0.01)\n",
    "                        train_loss, train_accuracy, test_loss, test_accuracy = model.train_net(\n",
    "                            optimizer, criterion, X_train, y_train[:, 1].view(-1), X_test, y_test[:, 1].view(-1), num_epochs)\n",
    "                        test_results.append([activ_f_name, kernel_size, stride, hidden_1, hidden_2, hidden_3,\n",
    "                                             trim_edges, np.min(test_loss)])\n",
    "        # plot_loss(train_loss, test_loss, epoch=(10,-1))\n"
   ],
   "metadata": {
    "collapsed": false,
    "pycharm": {
     "name": "#%%\n"
    }
   }
  },
  {
   "cell_type": "code",
   "execution_count": 185,
   "outputs": [
    {
     "name": "stdout",
     "output_type": "stream",
     "text": [
      "+------------+-------------+--------+----------+----------+----------+------------+---------------------+\n",
      "| activation | kernel size | stride | hidden_1 | hidden_2 | hidden_3 | trim_edges |       Min Loss      |\n",
      "+------------+-------------+--------+----------+----------+----------+------------+---------------------+\n",
      "|    gelu    |      4      |   4    |   420    |   350    |    0     |    120     | 0.06133159250020981 |\n",
      "|    gelu    |      4      |   2    |   420    |   350    |    0     |    120     | 0.08975013345479965 |\n",
      "|    gelu    |      3      |   3    |   420    |   350    |    0     |    120     | 0.09804467111825943 |\n",
      "+------------+-------------+--------+----------+----------+----------+------------+---------------------+\n"
     ]
    }
   ],
   "source": [
    "table = PrettyTable()\n",
    "table.field_names = [\"activation\", \"kernel size\", \"stride\",\n",
    "                     \"hidden_1\", \"hidden_2\", \"hidden_3\", \"trim_edges\", \"Min Loss\"]\n",
    "test_results.sort(key=lambda x: x[-1])\n",
    "for row in test_results:\n",
    "    table.add_row(row)\n",
    "# print('kernel_size, stride, Min loss')\n",
    "print(table)"
   ],
   "metadata": {
    "collapsed": false,
    "pycharm": {
     "name": "#%%\n"
    }
   }
  },
  {
   "cell_type": "code",
   "execution_count": 201,
   "outputs": [
    {
     "data": {
      "text/plain": "<All keys matched successfully>"
     },
     "execution_count": 201,
     "metadata": {},
     "output_type": "execute_result"
    }
   ],
   "source": [
    "# load model with the highest accuracy\n",
    "model1.load_state_dict(torch.load('models/model1.pt'))\n",
    "model2.load_state_dict(torch.load('models/model2.pt'))"
   ],
   "metadata": {
    "collapsed": false,
    "pycharm": {
     "name": "#%%\n"
    }
   }
  },
  {
   "cell_type": "code",
   "execution_count": 203,
   "outputs": [],
   "source": [
    "# make predictions\n",
    "random_idx = np.random.choice(np.arange(len(X_test)), size=100, replace=False)\n",
    "X_validate = X_test[random_idx]\n",
    "y_validate = y_test[random_idx]\n",
    "y_validate_new = y_test_original[random_idx]\n",
    "# print(y_validate_new)\n",
    "# print(y_validate)"
   ],
   "metadata": {
    "collapsed": false,
    "pycharm": {
     "name": "#%%\n"
    }
   }
  },
  {
   "cell_type": "code",
   "execution_count": 204,
   "outputs": [],
   "source": [
    "with torch.no_grad():\n",
    "    yhat1 = model1(X_validate)\n",
    "    yhat2 = model2(X_validate)\n",
    "\n",
    "# Extract top category\n",
    "_, yhat1 = torch.exp(yhat1).topk(1, dim=1)\n",
    "_, yhat2 = torch.exp(yhat2).topk(1, dim=1)\n",
    "# Convert from category to value\n",
    "yhat1 = phi_encoder.inverse_transform(yhat1.ravel().numpy())\n",
    "yhat2 = gain_encoder.inverse_transform(yhat2.ravel().numpy())\n",
    "yhat = np.array([yhat1, yhat2]).T.reshape(-1, 2)\n",
    "yhat_new = yhat\n",
    "\n",
    "# Descale the input values\n",
    "X_validate_new = data_scaler.inverse_transform(X_validate.numpy())\n",
    "#\n"
   ],
   "metadata": {
    "collapsed": false,
    "pycharm": {
     "name": "#%%\n"
    }
   }
  },
  {
   "cell_type": "code",
   "execution_count": 205,
   "outputs": [
    {
     "name": "stdout",
     "output_type": "stream",
     "text": [
      "+-----+-------+-----------------------+-----------------------+----------------------+\n",
      "| idx | param |        original       |         model         |         opt          |\n",
      "+-----+-------+-----------------------+-----------------------+----------------------+\n",
      "|  78 |  phi  |          -2.0         |          -3.0         | -2.3157759144890164  |\n",
      "|  78 |  g_oo | 0.0006210526315789474 | 0.0006210526315789474 | 0.000733715373496072 |\n",
      "|  16 |  phi  |         -13.0         |         -14.0         |  -4.123059623813585  |\n",
      "|  16 |  g_oo |  0.007394736842105264 |  0.007394736842105264 | 0.00472105456668373  |\n",
      "|  11 |  phi  |          11.0         |          11.0         |  12.239808577891155  |\n",
      "|  11 |  g_oo | 0.0027052631578947366 | 0.0027052631578947366 | 0.002732908560087032 |\n",
      "+-----+-------+-----------------------+-----------------------+----------------------+\n"
     ]
    },
    {
     "data": {
      "text/plain": "<Figure size 720x720 with 1 Axes>",
      "image/png": "[encoded data removed]"
     },
     "metadata": {
      "needs_background": "light"
     },
     "output_type": "display_data"
    }
   ],
   "source": [
    "# plot the validation curves\n",
    "%matplotlib inline\n",
    "\n",
    "plt.figure(figsize=(10, 10))\n",
    "gen_tf = GenerateTF(fb_attn_index=3, with_noise=False)\n",
    "x = gen_tf.frequency.astype(np.float32)\n",
    "\n",
    "table = PrettyTable()\n",
    "table.field_names = [\"idx\", \"param\", \"original\", \"model\", \"opt\"] #, \"model+opt\"]\n",
    "# print(table)\n",
    "\n",
    "for idx in np.random.choice(np.arange(0, len(X_validate_new)), size=3):\n",
    "    try:\n",
    "        popt, _  = curve_fit(gen_tf, x, X_validate_new[idx], bounds=([-20, 1e-4], [20, 1e-2]), method='trf')\n",
    "        # Initial guesses coming from the model\n",
    "        # poptModel,_ = curve_fit(gen_tf, x, X_validate_new[idx], bounds=([-20, 1e-4], [20, 1e-2]), method='trf', p0=yhat_new[idx])\n",
    "    except:\n",
    "        print(f'Scipy curve fit failed for idx: {idx}')\n",
    "        continue\n",
    "\n",
    "    # print('Param, Original, Model, Optimizer')\n",
    "    table.add_row([idx, 'phi', y_validate_new[idx][0], yhat_new[idx][0], popt[0]]) #, poptModel[0]])\n",
    "    table.add_row([idx, 'g_oo', y_validate_new[idx][1], yhat_new[idx][1], popt[1]]) #, poptModel[1]])\n",
    "\n",
    "    # print('phi', y_validate_new[idx][0], yhat_new[idx][0], popt[0])\n",
    "    # print('g_oo', y_validate_new[idx][1], yhat_new[idx][1], popt[1])\n",
    "\n",
    "    p = plt.plot(x, gen_tf(x, *(y_validate_new[idx])), label=f'real_{idx}', ls='-')\n",
    "    plt.plot(x, gen_tf(x, *(yhat_new[idx])), label=f'model_{idx}', ls='--', color=p[0].get_color())\n",
    "    plt.plot(x, gen_tf(x, *popt), label=f'opt_{idx}', ls=':', color=p[0].get_color())\n",
    "    # plt.plot(x, gen_tf(x, *poptModel), label=f'opt+model_{idx}', ls='-.', color=p[0].get_color())\n",
    "print(table)\n",
    "plt.legend(ncol=3)\n",
    "plt.show()\n",
    "plt.close()"
   ],
   "metadata": {
    "collapsed": false,
    "pycharm": {
     "name": "#%%\n"
    }
   }
  },
  {
   "cell_type": "code",
   "execution_count": 206,
   "outputs": [],
   "source": [
    "def calc_mae_model(yhat, yreal):\n",
    "\n",
    "    return np.abs(np.mean(np.abs(yhat-yreal), axis=0)/ np.max(yreal, axis=0))\n",
    "\n",
    "def calc_mae_optimize(test_x, test_y):\n",
    "    gen_tf = GenerateTF(fb_attn_index=3, with_noise=False)\n",
    "    x = gen_tf.frequency.astype(np.float32)\n",
    "    coeffs = []\n",
    "    real = []\n",
    "    for xi, yi in zip(test_x, test_y):\n",
    "        try:\n",
    "            popt, pcov  = curve_fit(gen_tf, x, xi, bounds=([-20, 1e-4], [20, 1e-2]), method='trf')\n",
    "        except:\n",
    "            # print(f'Scipy curve fit failed for idx: {idx}')\n",
    "            continue\n",
    "        coeffs.append(popt)\n",
    "        real.append(yi)\n",
    "    yhat = np.array(coeffs)\n",
    "    real = np.array(real)\n",
    "    return np.abs(np.mean(np.abs(yhat - real), axis=0)/ np.max(real, axis=0))\n"
   ],
   "metadata": {
    "collapsed": false,
    "pycharm": {
     "name": "#%%\n"
    }
   }
  },
  {
   "cell_type": "code",
   "execution_count": 207,
   "outputs": [
    {
     "name": "stdout",
     "output_type": "stream",
     "text": [
      "Model mae:  [0.0585     0.00052105]\n",
      "Optimize mae:  [0.21391082 0.22277602]\n"
     ]
    }
   ],
   "source": [
    "mae_model = calc_mae_model(yhat_new, y_validate_new)\n",
    "mae_optimize = calc_mae_optimize(X_validate_new, y_validate_new)\n",
    "# mae_optimize_model = calc_mae_optimize_model(yhat_new, X_validate_new, y_validate_new)\n",
    "print('Model mae: ', mae_model)\n",
    "print('Optimize mae: ', mae_optimize)\n",
    "# print('Optimize+Model mae: ', mae_optimize_model)"
   ],
   "metadata": {
    "collapsed": false,
    "pycharm": {
     "name": "#%%\n"
    }
   }
  },
  {
   "cell_type": "code",
   "execution_count": null,
   "metadata": {
    "pycharm": {
     "name": "#%%\n"
    }
   },
   "outputs": [],
   "source": []
  }
 ],
 "metadata": {
  "kernelspec": {
   "display_name": "Python 3 (ipykernel)",
   "language": "python",
   "name": "python3"
  },
  "language_info": {
   "codemirror_mode": {
    "name": "ipython",
    "version": 3
   },
   "file_extension": ".py",
   "mimetype": "text/x-python",
   "name": "python",
   "nbconvert_exporter": "python",
   "pygments_lexer": "ipython3",
   "version": "3.9.7"
  }
 },
 "nbformat": 4,
 "nbformat_minor": 1
}