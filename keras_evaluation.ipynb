{
 "cells": [
  {
   "cell_type": "markdown",
   "metadata": {
    "collapsed": true,
    "pycharm": {
     "name": "#%% md\n"
    }
   },
   "source": [
    "## Example curve prediction script\n",
    "In this notebook we will try to predict the function coefficients."
   ]
  },
  {
   "cell_type": "code",
   "execution_count": null,
   "metadata": {
    "pycharm": {
     "name": "#%%\n"
    }
   },
   "outputs": [],
   "source": [
    "%matplotlib widget\n",
    "\n",
    "import numpy as np\n",
    "import pandas as pd\n",
    "import tensorflow as tf\n",
    "\n",
    "from tensorflow import keras\n",
    "\n",
    "from sklearn.model_selection import train_test_split\n",
    "from matplotlib import pyplot as plt\n",
    "from sklearn import preprocessing\n",
    "\n",
    "from generate_TF import GenerateTF, get_freq\n",
    "from scipy.optimize import curve_fit\n",
    "from prettytable import PrettyTable\n",
    "\n",
    "from pytorchClassifiers import get_keras_nn, plot_history\n",
    "\n",
    "avg_pool1d = keras.layers.AveragePooling1D\n",
    "\n"
   ]
  },
  {
   "cell_type": "code",
   "execution_count": null,
   "metadata": {
    "pycharm": {
     "name": "#%%\n"
    }
   },
   "outputs": [],
   "source": [
    "# Load the data\n",
    "df = pd.read_pickle('./data/tf-ampl-response-82000-noise0.1.pkl')\n",
    "df.head()"
   ]
  },
  {
   "cell_type": "code",
   "execution_count": null,
   "metadata": {
    "pycharm": {
     "name": "#%%\n"
    }
   },
   "outputs": [],
   "source": [
    "# Extract the target variables\n",
    "phase = df.pop('phase')\n",
    "gain = df.pop('gain')\n",
    "\n",
    "# All fmax, np should be equal\n",
    "fmax = df.iloc[0].fmax\n",
    "NP = df.iloc[0].np\n",
    "df.drop(columns=['fmax', 'np'], inplace=True)"
   ]
  },
  {
   "cell_type": "code",
   "execution_count": null,
   "metadata": {
    "collapsed": false,
    "pycharm": {
     "name": "#%%\n"
    }
   },
   "outputs": [],
   "source": [
    "# target_orig is the vector with the originale phase, gain labels\n",
    "target_orig = np.array((phase, gain), dtype=np.float32).T\n",
    "\n",
    "target_scaler = preprocessing.StandardScaler().fit(target_orig)\n",
    "# target is scaled, better for training\n",
    "target = target_scaler.transform(target_orig)\n"
   ]
  },
  {
   "cell_type": "code",
   "execution_count": null,
   "metadata": {
    "collapsed": false,
    "pycharm": {
     "name": "#%%\n"
    }
   },
   "outputs": [],
   "source": [
    "# our dataset is 3D\n",
    "values = np.zeros((len(df), len(df.iloc[0].real), 3), dtype=np.float32)\n",
    "print(values.shape)\n",
    "for index, row in df.iterrows():\n",
    "    # print(row)\n",
    "    values[index, :, 0] = row.real\n",
    "    values[index, :, 1] = row.imag\n",
    "    values[index, :, 2] = row.amplitude\n",
    "data = values"
   ]
  },
  {
   "cell_type": "code",
   "execution_count": null,
   "metadata": {
    "collapsed": false,
    "pycharm": {
     "name": "#%%\n"
    }
   },
   "outputs": [],
   "source": [
    "# Split in train and test\n",
    "X_train_orig, X_test_orig, y_train, y_test, y_train_orig, y_test_orig = train_test_split(\n",
    "    data, target, target_orig, test_size=0.2, random_state=0)\n",
    "\n",
    "# further divide X_test in test + validate\n",
    "X_test_orig, X_validate_orig, y_test, y_validate, y_test_orig, y_validate_orig = \\\n",
    "    train_test_split(X_test_orig, y_test, y_test_orig, test_size=0.4, random_state=1)\n",
    "\n",
    "X_train = X_train_orig[:, :, :2]\n",
    "X_test = X_test_orig[:, :, :2]\n",
    "X_validate = X_validate_orig[:, :, :2]\n",
    "\n",
    "print(X_train.shape)\n",
    "print(X_test.shape)\n",
    "print(X_validate.shape)\n",
    "print(y_train.shape)\n",
    "print(y_test.shape)\n",
    "print(y_validate.shape)\n"
   ]
  },
  {
   "cell_type": "code",
   "execution_count": null,
   "metadata": {},
   "outputs": [],
   "source": [
    "# load the models\n",
    "model1 = keras.models.load_model('models/keras/regression/phase_best')\n",
    "model2 = keras.models.load_model('models/keras/regression/gain_best')\n"
   ]
  },
  {
   "cell_type": "code",
   "execution_count": null,
   "metadata": {
    "collapsed": false,
    "pycharm": {
     "name": "#%%\n"
    }
   },
   "outputs": [],
   "source": [
    "def curve_fit_deluxe(func, freq, sample, trim_edges=0, kernel_size=1, stride=1, **kwargs):\n",
    "    # center crop sample\n",
    "    if trim_edges > 0:\n",
    "        freq, sample = freq[trim_edges:-trim_edges], sample[trim_edges:-trim_edges]\n",
    "    # prepare the shapes for avg_pooling\n",
    "    freq = freq.reshape(1, -1, 1)\n",
    "    sample = sample.reshape(1, -1, 1)\n",
    "    # perform average pooling\n",
    "    freq = avg_pool1d(pool_size=kernel_size, strides=stride)(freq).numpy().flatten()\n",
    "    sample = avg_pool1d(pool_size=kernel_size, strides=stride)(sample).numpy().flatten()\n",
    "    # pass to curve_fit\n",
    "    return curve_fit(func, freq, sample, **kwargs)"
   ]
  },
  {
   "cell_type": "code",
   "execution_count": null,
   "metadata": {},
   "outputs": [],
   "source": [
    "# Get curve fit predictions\n",
    "gen_tf = GenerateTF(fb_attn_index=3, with_noise=False)\n",
    "freq = gen_tf.frequency.astype(np.float32)\n",
    "y_optimizer = []\n",
    "for sample in X_validate_orig[:, :, 2]:\n",
    "    popt, _ = curve_fit_deluxe(gen_tf, freq, sample, trim_edges=130, kernel_size=4, stride=1,\n",
    "                               bounds=([-20, 1e-4], [20, 1e-2]), method='trf')\n",
    "    y_optimizer.append(popt)\n",
    "y_optimizer = np.array(y_optimizer)\n"
   ]
  },
  {
   "cell_type": "code",
   "execution_count": null,
   "metadata": {
    "collapsed": false,
    "pycharm": {
     "name": "#%%\n"
    }
   },
   "outputs": [],
   "source": [
    "# Get model's predictions\n",
    "y_nn_phase = model1.predict(X_validate).flatten()\n",
    "y_nn_gain = model2.predict(X_validate).flatten()\n",
    "y_nn = np.array([y_nn_phase, y_nn_gain]).T\n"
   ]
  },
  {
   "cell_type": "code",
   "execution_count": null,
   "metadata": {},
   "outputs": [],
   "source": [
    "# Descale predictions\n",
    "y_nn_descaled = target_scaler.inverse_transform(y_nn)\n",
    "y_nn_phase_descaled = y_nn_descaled[:, 0]\n",
    "y_nn_gain_descaled = y_nn_descaled[:, 1]\n",
    "\n",
    "phase_loss = model1.evaluate(X_validate, y_validate[:, 0])\n",
    "gain_loss = model2.evaluate(X_validate, y_validate[:, 1])\n"
   ]
  },
  {
   "cell_type": "code",
   "execution_count": null,
   "metadata": {},
   "outputs": [],
   "source": [
    "# I want to make a heatmap, x axis phase, y axis gain, z: accuracy\n",
    "x = np.unique(target_orig[:, 0])\n",
    "y = np.unique(target_orig[:, 1])\n",
    "\n",
    "# Z phase shows the correctly predicted phase per gain\n",
    "z_phase = np.zeros((2, len(y)), dtype=float)\n",
    "# Z gain shows the correctly predicted phase per phase\n",
    "z_gain = np.zeros((2, len(px)), dtype=float)\n",
    "\n",
    "# phase_one_off_acc = 0\n",
    "# gain_one_off_acc = 0\n",
    "\n",
    "# Tolerance for phase: 0.5\n",
    "# tolerance for gain: 0.0001\n",
    "\n",
    "for i in range(len(X_validate)):\n",
    "    true_p, true_g = y_validate[i].numpy()\n",
    "    pred_p, pred_g = y_nn_descaled[i].numpy()\n",
    "    z_phase[1][true_g] += 1\n",
    "    # Increase by 1 if predicted phase is equal to true phase\n",
    "    z_phase[0][true_g] += np.abs(true_p - pred_p) < 0.5\n",
    "\n",
    "    z_gain[1][true_p] += 1\n",
    "    z_gain[0][true_p] += np.abs(true_g - pred_g) < 0.5\n",
    "\n",
    "    # if np.abs(true_p - pred_p) < 2:\n",
    "    #     phase_one_off_acc += 1\n",
    "\n",
    "    # if np.abs(true_g - pred_g) < 2:\n",
    "    #     gain_one_off_acc += 1\n",
    "\n",
    "\n",
    "phase_acc = np.sum(z_phase[0]) / np.sum(z_phase[1])\n",
    "gain_acc = np.sum(z_gain[0]) / np.sum(z_gain[1])\n",
    "z_phase[0] /= z_phase[1]\n",
    "z_gain[0] /= z_gain[1]\n",
    "\n",
    "# caclulate 1 degree off accuracy\n",
    "# phase_one_off_acc /= len(y_validate)\n",
    "# gain_one_off_acc /= len(y_validate)\n"
   ]
  },
  {
   "cell_type": "code",
   "execution_count": null,
   "metadata": {},
   "outputs": [],
   "source": [
    "import matplotlib.pyplot as plt\n",
    "\n",
    "fig, (ax1, ax2) = plt.subplots(nrows=2)\n",
    "plt.sca(ax1)\n",
    "bars = plt.bar(np.arange(len(z_phase[0])), z_phase[0], width=0.6, edgecolor='black', color='tab:blue',\n",
    "               label=f'Phase accuracy per gain, AVG: {phase_acc:.3f}')\n",
    "ax1.bar_label(bars, fmt='%.3f', rotation='vertical')\n",
    "# for i, v in enumerate(z_phase[0]):\n",
    "#     ax1.text()\n",
    "plt.ylim(0, 1.05)\n",
    "plt.xlabel('Gain')\n",
    "plt.ylabel('Accuracy')\n",
    "plt.legend(loc='lower right')\n",
    "\n",
    "plt.sca(ax2)\n",
    "plt.bar(np.arange(len(z_gain[0])), z_gain[0], width=0.6, edgecolor='black', color='tab:blue',\n",
    "        label=f'Gain accuracy per phase, AVG: {gain_acc:.3f}')\n",
    "plt.ylim(0, 1.05)\n",
    "plt.xlabel('Phase')\n",
    "plt.ylabel('Accuracy')\n",
    "plt.legend(loc='lower right')\n",
    "plt.tight_layout()\n",
    "# plt.title('Gain prediction accuracy, per phase')\n"
   ]
  },
  {
   "cell_type": "code",
   "execution_count": null,
   "metadata": {},
   "outputs": [],
   "source": [
    "from sklearn.metrics import r2_score, mean_squared_error\n",
    "\n",
    "r2_nn = r2_score(y_validate_orig, y_nn_descaled,\n",
    "                   multioutput='raw_values')\n",
    "mse_nn = mean_squared_error(y_validate_orig, y_nn_descaled,\n",
    "                               multioutput='raw_values')\n",
    "\n",
    "r2_opt = r2_score(y_validate_orig, y_optimizer,\n",
    "                  multioutput='raw_values')\n",
    "mse_opt = mean_squared_error(y_validate_orig, y_optimizer,\n",
    "                              multioutput='raw_values')\n",
    "\n",
    "print('R2\\tPhase\\tGain')\n",
    "print('NeuralNet: ', r2_nn)\n",
    "print('Optimizer:', r2_opt)\n",
    "\n",
    "print('MSE\\tPhase\\tGain')\n",
    "print('NeuralNet: ', mse_nn)\n",
    "print('Optimizer:', mse_opt)\n",
    "\n"
   ]
  },
  {
   "cell_type": "code",
   "execution_count": null,
   "metadata": {},
   "outputs": [],
   "source": [
    "plt.figure(figsize=(7, 6))\n",
    "\n",
    "table = PrettyTable()\n",
    "table.field_names = [\"idx\", \"param\", \"original\", \"NN\", \"Opt\"]\n",
    "\n",
    "gen_tf = GenerateTF(fb_attn_index=3, with_noise=False)\n",
    "freq = gen_tf.frequency.astype(np.float32)\n",
    "\n",
    "for idx in np.random.choice(np.arange(0, len(X_validate)), size=3):\n",
    "    try:\n",
    "        popt, _ = curve_fit_deluxe(gen_tf, freq, X_validate_orig[idx, :, 2], trim_edges=130, kernel_size=4, stride=1,\n",
    "                                   bounds=([-20, 1e-4], [20, 1e-2]), method='trf')\n",
    "    except:\n",
    "        print(f'Scipy curve fit failed for idx: {idx}')\n",
    "        continue\n",
    "\n",
    "    table.add_row([idx, 'phase', y_validate_orig[idx]\n",
    "                  [0], y_nn_descaled[idx][0], popt[0]])\n",
    "    table.add_row([idx, 'gain', y_validate_orig[idx][1],\n",
    "                  y_nn_descaled[idx][1], popt[1]])\n",
    "\n",
    "    p = plt.plot(\n",
    "        freq, gen_tf(freq, *(y_validate_orig[idx])), label=f'real_{idx}', ls='-')\n",
    "    plt.plot(freq, gen_tf(\n",
    "        freq, *(y_nn_descaled[idx])), label=f'NN_{idx}', ls='--', color=p[0].get_color())\n",
    "    plt.plot(freq, gen_tf(freq, *popt),\n",
    "             label=f'opt_{idx}', ls=':', color=p[0].get_color())\n",
    "    # plt.plot(x, gen_tf(x, *poptModel), label=f'opt+model_{idx}', ls='-.', color=p[0].get_color())\n",
    "print(table)\n",
    "plt.legend(ncol=3)\n",
    "plt.tight_layout()\n"
   ]
  },
  {
   "cell_type": "code",
   "execution_count": null,
   "metadata": {
    "pycharm": {
     "name": "#%%\n"
    }
   },
   "outputs": [],
   "source": []
  }
 ],
 "metadata": {
  "kernelspec": {
   "display_name": "Python 3.9.7 ('base')",
   "language": "python",
   "name": "python3"
  },
  "language_info": {
   "codemirror_mode": {
    "name": "ipython",
    "version": 3
   },
   "file_extension": ".py",
   "mimetype": "text/x-python",
   "name": "python",
   "nbconvert_exporter": "python",
   "pygments_lexer": "ipython3",
   "version": "3.9.7"
  },
  "vscode": {
   "interpreter": {
    "hash": "79ab8fd01a8cec42884b8b2a5d7fb4751c5402d97e9e61d151ed5c6a6352873c"
   }
  }
 },
 "nbformat": 4,
 "nbformat_minor": 1
}
