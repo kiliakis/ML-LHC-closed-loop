{
 "cells": [
  {
   "cell_type": "markdown",
   "metadata": {
    "collapsed": true,
    "pycharm": {
     "name": "#%% md\n"
    }
   },
   "source": [
    "## Example curve prediction script\n",
    "In this notebook we will try to predict the function coefficients."
   ]
  },
  {
   "cell_type": "code",
   "execution_count": null,
   "metadata": {
    "pycharm": {
     "name": "#%%\n"
    }
   },
   "outputs": [],
   "source": [
    "import numpy as np\n",
    "import pandas as pd\n",
    "import tensorflow as tf\n",
    "from keras.models import Sequential\n",
    "from keras.layers import Dense\n",
    "from sklearn.model_selection import RepeatedKFold\n",
    "from sklearn.model_selection import train_test_split\n",
    "from matplotlib import pyplot as plt\n"
   ]
  },
  {
   "cell_type": "code",
   "execution_count": null,
   "metadata": {
    "pycharm": {
     "name": "#%%\n"
    }
   },
   "outputs": [],
   "source": [
    "# function to predict\n",
    "def func(x, a, b, c):\n",
    "    # 2nd degree polynomial\n",
    "    # return a * x**2 + b * x + c\n",
    "\n",
    "    # random, non-linear function\n",
    "    return a * x**2 * np.sin(b * x) + c * x"
   ]
  },
  {
   "cell_type": "code",
   "execution_count": null,
   "metadata": {
    "pycharm": {
     "name": "#%%\n"
    }
   },
   "outputs": [],
   "source": [
    "# Load the data\n",
    "df = pd.read_pickle('./data/random-curve.pkl')\n",
    "df.head()"
   ]
  },
  {
   "cell_type": "code",
   "execution_count": null,
   "metadata": {
    "pycharm": {
     "name": "#%%\n"
    }
   },
   "outputs": [],
   "source": [
    "# The targets are m, s\n",
    "param_a = df.pop('a')\n",
    "param_b = df.pop('b')\n",
    "param_c = df.pop('c')\n",
    "# All x should be equal\n",
    "x = df.iloc[0].x\n",
    "df.pop('x')"
   ]
  },
  {
   "cell_type": "code",
   "execution_count": null,
   "metadata": {
    "pycharm": {
     "name": "#%%\n"
    }
   },
   "outputs": [],
   "source": [
    "print(x)"
   ]
  },
  {
   "cell_type": "code",
   "execution_count": null,
   "metadata": {
    "pycharm": {
     "name": "#%%\n"
    }
   },
   "outputs": [],
   "source": [
    "df.head()"
   ]
  },
  {
   "cell_type": "code",
   "execution_count": null,
   "metadata": {
    "pycharm": {
     "name": "#%%\n"
    }
   },
   "outputs": [],
   "source": [
    "values = np.zeros((len(df), len(df.iloc[0,0])), dtype=float)\n",
    "# print(values.shape)\n",
    "for index, row in df.iterrows():\n",
    "    values[index, :] = row.values[0]\n",
    "print(values.shape)\n",
    "print(type(values))"
   ]
  },
  {
   "cell_type": "code",
   "execution_count": null,
   "metadata": {
    "pycharm": {
     "name": "#%%\n"
    }
   },
   "outputs": [],
   "source": [
    "# Now I need to start setting up the NN with keras\n",
    "tf_data = tf.convert_to_tensor(values)\n",
    "print(tf_data)"
   ]
  },
  {
   "cell_type": "code",
   "execution_count": null,
   "metadata": {
    "pycharm": {
     "name": "#%%\n"
    }
   },
   "outputs": [],
   "source": [
    "# tf_target = tf.convert_to_tensor(np.array([param_a, param_b, param_c]))\n",
    "target = np.zeros(shape=(len(param_a), 3), dtype=float)\n",
    "target[:, 0] = np.array(param_a)\n",
    "target[:, 1] = np.array(param_b)\n",
    "target[:, 2] = np.array(param_c)\n",
    "tf_target = tf.convert_to_tensor(target)\n",
    "print(tf_target)"
   ]
  },
  {
   "cell_type": "code",
   "execution_count": null,
   "metadata": {
    "pycharm": {
     "name": "#%%\n"
    }
   },
   "outputs": [],
   "source": [
    "# Define a simple model\n",
    "\n",
    "def get_model(n_inputs, n_outputs):\n",
    "    model = Sequential()\n",
    "    model.add(Dense(64, input_dim=n_inputs, kernel_initializer='he_uniform', activation='relu'))\n",
    "    model.add(Dense(n_outputs))\n",
    "    model.compile(loss='mae', optimizer='adam')\n",
    "    return model"
   ]
  },
  {
   "cell_type": "code",
   "execution_count": null,
   "metadata": {
    "pycharm": {
     "name": "#%%\n"
    }
   },
   "outputs": [],
   "source": [
    "# evaluate our model\n",
    "def evaluate_model(X, y):\n",
    "    results = list()\n",
    "    n_inputs = X.shape[1]\n",
    "    n_outputs = y.shape[1]\n",
    "        # define evaluation procedure\n",
    "    cv = RepeatedKFold(n_splits=5, n_repeats=3, random_state=1)\n",
    "    # enumerate folds\n",
    "    for train_ix, test_ix in cv.split(X):\n",
    "        # prepare data\n",
    "        X_train, X_test = tf.gather(X, train_ix), tf.gather(X, test_ix)\n",
    "        y_train, y_test = tf.gather(y, train_ix), tf.gather(y, test_ix)\n",
    "\n",
    "        # X_train, X_test = tf_data[train_ix], tf_data[test_ix]\n",
    "        # y_train, y_test = tf_target[train_ix], tf_target[test_ix]\n",
    "        # define model\n",
    "        model = get_model(n_inputs, n_outputs)\n",
    "        # fit model\n",
    "        model.fit(X_train, y_train, verbose=0, epochs=100)\n",
    "        # evaluate model on test set\n",
    "        mae = model.evaluate(X_test, y_test, verbose=0)\n",
    "        # store result\n",
    "        print('>%.3f' % mae)\n",
    "        results.append(mae)\n",
    "    print('MAE: %3f (%.3f)' % (np.mean(results), np.std(results)))\n",
    "    return results"
   ]
  },
  {
   "cell_type": "code",
   "execution_count": null,
   "metadata": {
    "pycharm": {
     "name": "#%%\n"
    }
   },
   "outputs": [],
   "source": [
    "n_inputs = tf_data.shape[1]\n",
    "n_outputs = tf_target.shape[1]\n",
    "train_ix, test_ix = train_test_split(np.arange(tf_data.shape[0]), test_size=0.05)\n",
    "X_train, X_test = tf.gather(tf_data, train_ix), tf.gather(tf_data, test_ix)\n",
    "y_train, y_test = tf.gather(tf_target, train_ix), tf.gather(tf_target, test_ix)\n",
    "model = get_model(n_inputs, n_outputs)\n",
    "# fit model\n",
    "print('Fitting the model')\n",
    "history = model.fit(X_train, y_train, validation_split=0.05, verbose=0, epochs=400)\n",
    "# evaluate model on test set\n",
    "print('Evaluating the model')\n",
    "mae = model.evaluate(X_test, y_test, verbose=1)\n",
    "# store result\n",
    "print('MAE: %.3f' % mae)"
   ]
  },
  {
   "cell_type": "code",
   "execution_count": null,
   "metadata": {
    "pycharm": {
     "name": "#%%\n"
    }
   },
   "outputs": [],
   "source": [
    "# plot history\n",
    "%matplotlib widget\n",
    "\n",
    "def plot_loss(loss, val_loss, epoch=(-1, -1)):\n",
    "    fig = plt.figure()\n",
    "\n",
    "    if epoch[0] == -1:\n",
    "        start_idx = 0\n",
    "    else:\n",
    "        start_idx = epoch[0]\n",
    "\n",
    "    if epoch[1] == -1:\n",
    "        end_idx = len(loss)\n",
    "    else:\n",
    "        end_idx = epoch[1]\n",
    "    loss = loss[start_idx: end_idx]\n",
    "    val_loss = val_loss[start_idx: end_idx]\n",
    "    plt.plot(np.arange(start_idx, end_idx), loss, label='train')\n",
    "    plt.plot(np.arange(start_idx, end_idx), val_loss, label='validation')\n",
    "    plt.title('Model Accuracy')\n",
    "    plt.ylabel('MAE')\n",
    "    plt.xlabel('epoch')\n",
    "    plt.legend()\n",
    "    plt.show()\n",
    "\n",
    "plot_loss(history.history['loss'], history.history['val_loss'], epoch=(-1,-1))"
   ]
  },
  {
   "cell_type": "code",
   "execution_count": null,
   "metadata": {
    "pycharm": {
     "name": "#%%\n"
    }
   },
   "outputs": [],
   "source": [
    "# make predictions, and plot them\n",
    "random_idx = np.random.choice(np.arange(len(X_test)), size=5, replace=False)\n",
    "X_validate = tf.gather(X_test, random_idx)\n",
    "y_validate = tf.gather(y_test, random_idx)\n",
    "yhat = model.predict(X_validate)\n",
    "print('Original: ', y_validate)\n",
    "print('Predicted:', yhat)"
   ]
  },
  {
   "cell_type": "code",
   "execution_count": null,
   "metadata": {
    "pycharm": {
     "name": "#%%\n"
    }
   },
   "outputs": [],
   "source": [
    "# plot the validation curves\n",
    "# %matplotlib inline\n",
    "%matplotlib widget\n",
    "from scipy.optimize import curve_fit\n",
    "plt.figure(figsize=(10, 10))\n",
    "for idx in range(len(y_validate)):\n",
    "    y_real = func(x, *y_validate[idx])\n",
    "    y_pred = func(x, *yhat[idx])\n",
    "    popt, pcov  = curve_fit(func, x, X_validate[idx])\n",
    "    p = plt.plot(x, y_real, label=f'y_real{idx}', ls='-')\n",
    "    plt.plot(x, y_pred, label=f'y_pred{idx}', ls='--', color=p[0].get_color())\n",
    "    plt.plot(x, func(x, *popt), label=f'y_opt{idx}', ls=':', color=p[0].get_color())\n",
    "plt.legend(ncol=3)\n",
    "plt.show()"
   ]
  },
  {
   "cell_type": "code",
   "execution_count": null,
   "metadata": {
    "pycharm": {
     "name": "#%%\n"
    }
   },
   "outputs": [],
   "source": []
  }
 ],
 "metadata": {
  "kernelspec": {
   "display_name": "Python 3 (ipykernel)",
   "language": "python",
   "name": "python3"
  },
  "language_info": {
   "codemirror_mode": {
    "name": "ipython",
    "version": 3
   },
   "file_extension": ".py",
   "mimetype": "text/x-python",
   "name": "python",
   "nbconvert_exporter": "python",
   "pygments_lexer": "ipython3",
   "version": "3.9.7"
  }
 },
 "nbformat": 4,
 "nbformat_minor": 1
}