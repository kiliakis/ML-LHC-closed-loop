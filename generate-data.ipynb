{
 "cells": [
  {
   "cell_type": "markdown",
   "metadata": {
    "collapsed": true,
    "pycharm": {
     "name": "#%% md\n"
    }
   },
   "source": [
    "## Example data generation script\n",
    "In this notebook I will generate some example data to work on."
   ]
  },
  {
   "cell_type": "code",
   "execution_count": null,
   "metadata": {
    "pycharm": {
     "name": "#%%\n"
    }
   },
   "outputs": [],
   "source": [
    "import numpy as np\n",
    "import pandas as pd\n",
    "\n",
    "def func(a, b, c, x):\n",
    "    # 2nd degree polynomial\n",
    "    # return a * x**2 + b * x + c\n",
    "\n",
    "    # random, non-linear function\n",
    "    return a * x**2 * np.sin(b * x) + c * x\n",
    "\n",
    "# Number of curves to generate. This will be the total number of training/ testing data.\n",
    "num_curves = 1 << 12\n",
    "# Number of samples per curve.\n",
    "points = 1 << 10\n",
    "# Generate all combinations of m, sigma\n",
    "a_lst = np.linspace(0.1, 1, int(num_curves**(1./3)))\n",
    "b_lst = np.linspace(0.1, 1, int(num_curves**(1./3)))\n",
    "c_lst = np.linspace(0.1, 1, int(num_curves**(1./3)))\n",
    "\n",
    "# x coordinates of the points\n",
    "x = np.linspace(-10, 10, points)\n",
    "\n",
    "df = pd.DataFrame(columns=['a', 'b', 'c', 'x', 'y'])\n",
    "for a in a_lst:\n",
    "    for b in b_lst:\n",
    "        for c in c_lst:\n",
    "            # Draw the random points, following the normal distribution\n",
    "            y = func(a, b, c, x)\n",
    "            # add to the dataframe\n",
    "            df = df.append({'a': a, 'b': b, 'c': c, 'x': x, 'y': y}, ignore_index=True)\n"
   ]
  },
  {
   "cell_type": "code",
   "execution_count": null,
   "metadata": {
    "pycharm": {
     "name": "#%%\n"
    }
   },
   "outputs": [],
   "source": [
    "df.head()"
   ]
  },
  {
   "cell_type": "code",
   "execution_count": null,
   "metadata": {
    "pycharm": {
     "name": "#%%\n"
    }
   },
   "outputs": [],
   "source": [
    "%matplotlib inline\n",
    "\n",
    "from matplotlib import pyplot as plt\n",
    "\n",
    "for index, row in df.iterrows():\n",
    "    y = row['y']\n",
    "    x = row['x']\n",
    "    # label = f'm{m}-s{s}'\n",
    "    plt.plot(x, y)\n",
    "plt.show()"
   ]
  },
  {
   "cell_type": "code",
   "execution_count": null,
   "metadata": {
    "pycharm": {
     "name": "#%%\n"
    }
   },
   "outputs": [],
   "source": [
    "df.to_pickle('./data/random-curve.pkl')"
   ]
  },
  {
   "cell_type": "code",
   "execution_count": null,
   "metadata": {
    "pycharm": {
     "name": "#%%\n"
    }
   },
   "outputs": [],
   "source": []
  }
 ],
 "metadata": {
  "kernelspec": {
   "display_name": "Python 3 (ipykernel)",
   "language": "python",
   "name": "python3"
  },
  "language_info": {
   "codemirror_mode": {
    "name": "ipython",
    "version": 3
   },
   "file_extension": ".py",
   "mimetype": "text/x-python",
   "name": "python",
   "nbconvert_exporter": "python",
   "pygments_lexer": "ipython3",
   "version": "3.9.7"
  }
 },
 "nbformat": 4,
 "nbformat_minor": 1
}