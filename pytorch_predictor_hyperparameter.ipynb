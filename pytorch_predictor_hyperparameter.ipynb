{
 "cells": [
  {
   "cell_type": "markdown",
   "metadata": {
    "collapsed": true,
    "pycharm": {
     "name": "#%% md\n"
    },
    "id": "g3hAeYMcVtK3"
   },
   "source": [
    "## Example curve prediction script\n",
    "In this notebook we will try to predict the function coefficients."
   ]
  },
  {
   "cell_type": "code",
   "source": [
    "%load_ext autoreload\n",
    "%autoreload 2\n",
    "!pip install --quiet ray pickle5\n",
    "from google.colab import drive\n",
    "drive.mount('/content/gdrive/')\n",
    "!cp -r /content/gdrive/MyDrive/Colab\\ Notebooks/otfb-lhc-ml/* ./\n",
    "import pickle5 as pickle"
   ],
   "metadata": {
    "colab": {
     "base_uri": "https://localhost:8080/"
    },
    "id": "j_ZiM72EWIJG",
    "outputId": "e8a10d28-7eb4-4b49-f6f2-b342a32c0f6a"
   },
   "execution_count": 1,
   "outputs": [
    {
     "output_type": "stream",
     "name": "stdout",
     "text": [
      "\u001B[K     |████████████████████████████████| 54.5 MB 57.9 MB/s \n",
      "\u001B[K     |████████████████████████████████| 256 kB 47.9 MB/s \n",
      "\u001B[K     |████████████████████████████████| 144 kB 37.5 MB/s \n",
      "\u001B[K     |████████████████████████████████| 8.8 MB 39.3 MB/s \n",
      "\u001B[K     |████████████████████████████████| 4.1 MB 32.8 MB/s \n",
      "\u001B[K     |████████████████████████████████| 461 kB 34.4 MB/s \n",
      "\u001B[?25hMounted at /content/gdrive/\n"
     ]
    }
   ]
  },
  {
   "cell_type": "code",
   "source": [
    "%load_ext autoreload\n",
    "%autoreload 2"
   ],
   "metadata": {
    "id": "cPxYkyDim6va"
   },
   "execution_count": 11,
   "outputs": []
  },
  {
   "cell_type": "code",
   "execution_count": 1,
   "metadata": {
    "pycharm": {
     "name": "#%%\n"
    },
    "id": "D37NGt9bVtK4"
   },
   "outputs": [],
   "source": [
    "%matplotlib inline\n",
    "import numpy as np\n",
    "import pandas as pd\n",
    "import os\n",
    "from matplotlib import pyplot as plt\n",
    "from scipy.optimize import curve_fit\n",
    "from prettytable import PrettyTable\n",
    "\n",
    "from generate_TF import GenerateTF\n",
    "\n",
    "# from sklearn.model_selection import RepeatedKFold\n",
    "from sklearn.model_selection import train_test_split\n",
    "from sklearn import preprocessing\n",
    "\n",
    "import torch\n",
    "import torchvision.transforms as transforms\n",
    "import torch.nn as nn\n",
    "import torch.nn.functional as F\n",
    "\n",
    "import ray\n",
    "from ray import tune\n",
    "from ray.tune.schedulers import ASHAScheduler\n",
    "from ray.tune import CLIReporter\n",
    "from pytorchClassifiers import Net\n"
   ]
  },
  {
   "cell_type": "code",
   "execution_count": 2,
   "metadata": {
    "pycharm": {
     "name": "#%%\n"
    },
    "colab": {
     "base_uri": "https://localhost:8080/",
     "height": 424
    },
    "id": "kg3bVRqCVtK6",
    "outputId": "c4685760-a68c-4cbf-da7b-cdc2566c11d6"
   },
   "outputs": [
    {
     "data": {
      "text/plain": "    phi      g_oo                                                  x  \\\n0 -20.0  0.001000  [-1619443.0, -1614543.0211800302, -1609643.042...   \n1 -20.0  0.001088  [-1619443.0, -1614543.0211800302, -1609643.042...   \n2 -20.0  0.001185  [-1619443.0, -1614543.0211800302, -1609643.042...   \n3 -20.0  0.001289  [-1619443.0, -1614543.0211800302, -1609643.042...   \n4 -20.0  0.001403  [-1619443.0, -1614543.0211800302, -1609643.042...   \n\n                                                   y  \n0  [-19.88111092306877, -24.65165651883909, -18.7...  \n1  [-22.868232696282362, -17.698964676040426, -16...  \n2  [-17.300864575069816, -25.87749055893209, -28....  \n3  [-15.239813657422143, -28.608066399706654, -24...  \n4  [-18.40240405493654, -20.57374582325774, -24.8...  ",
      "text/html": "<div>\n<style scoped>\n    .dataframe tbody tr th:only-of-type {\n        vertical-align: middle;\n    }\n\n    .dataframe tbody tr th {\n        vertical-align: top;\n    }\n\n    .dataframe thead th {\n        text-align: right;\n    }\n</style>\n<table border=\"1\" class=\"dataframe\">\n  <thead>\n    <tr style=\"text-align: right;\">\n      <th></th>\n      <th>phi</th>\n      <th>g_oo</th>\n      <th>x</th>\n      <th>y</th>\n    </tr>\n  </thead>\n  <tbody>\n    <tr>\n      <th>0</th>\n      <td>-20.0</td>\n      <td>0.001000</td>\n      <td>[-1619443.0, -1614543.0211800302, -1609643.042...</td>\n      <td>[-19.88111092306877, -24.65165651883909, -18.7...</td>\n    </tr>\n    <tr>\n      <th>1</th>\n      <td>-20.0</td>\n      <td>0.001088</td>\n      <td>[-1619443.0, -1614543.0211800302, -1609643.042...</td>\n      <td>[-22.868232696282362, -17.698964676040426, -16...</td>\n    </tr>\n    <tr>\n      <th>2</th>\n      <td>-20.0</td>\n      <td>0.001185</td>\n      <td>[-1619443.0, -1614543.0211800302, -1609643.042...</td>\n      <td>[-17.300864575069816, -25.87749055893209, -28....</td>\n    </tr>\n    <tr>\n      <th>3</th>\n      <td>-20.0</td>\n      <td>0.001289</td>\n      <td>[-1619443.0, -1614543.0211800302, -1609643.042...</td>\n      <td>[-15.239813657422143, -28.608066399706654, -24...</td>\n    </tr>\n    <tr>\n      <th>4</th>\n      <td>-20.0</td>\n      <td>0.001403</td>\n      <td>[-1619443.0, -1614543.0211800302, -1609643.042...</td>\n      <td>[-18.40240405493654, -20.57374582325774, -24.8...</td>\n    </tr>\n  </tbody>\n</table>\n</div>"
     },
     "execution_count": 2,
     "metadata": {},
     "output_type": "execute_result"
    }
   ],
   "source": [
    "# with open('data/transfer-functions-82000.pkl', \"rb\") as fh:\n",
    "#     raw_data = pickle.load(fh)\n",
    "# Load the data\n",
    "# df = pd.DataFrame(raw_data)\n",
    "df = pd.read_pickle('./data/transfer-functions-82000.pkl')\n",
    "df.head()"
   ]
  },
  {
   "cell_type": "code",
   "source": [
    "\n",
    "phi_encoder = preprocessing.LabelEncoder()\n",
    "df['phi_label'] = phi_encoder.fit_transform(df['phi'])\n",
    "print(phi_encoder.classes_)\n",
    "\n",
    "gain_encoder = preprocessing.LabelEncoder()\n",
    "df['g_oo_label'] = gain_encoder.fit_transform(df['g_oo'])\n",
    "print(gain_encoder.classes_)\n",
    "\n",
    "print(df.dtypes)\n"
   ],
   "metadata": {
    "colab": {
     "base_uri": "https://localhost:8080/"
    },
    "id": "nRj9ku5GYsZ2",
    "outputId": "2fb6e580-b242-45f8-e98a-b261a8a6de4c"
   },
   "execution_count": 3,
   "outputs": [
    {
     "name": "stdout",
     "output_type": "stream",
     "text": [
      "[-20. -19. -18. -17. -16. -15. -14. -13. -12. -11. -10.  -9.  -8.  -7.\n",
      "  -6.  -5.  -4.  -3.  -2.  -1.   0.   1.   2.   3.   4.   5.   6.   7.\n",
      "   8.   9.  10.  11.  12.  13.  14.  15.  16.  17.  18.  19.  20.]\n",
      "[0.001      0.0010884  0.00118461 0.00128933 0.0014033  0.00152735\n",
      " 0.00166237 0.00180932 0.00196926 0.00214334 0.00233281 0.00253902\n",
      " 0.00276347 0.00300776 0.00327364 0.00356302 0.00387799 0.00422079\n",
      " 0.00459391 0.005     ]\n",
      "phi           float64\n",
      "g_oo          float64\n",
      "x              object\n",
      "y              object\n",
      "phi_label       int64\n",
      "g_oo_label      int64\n",
      "dtype: object\n"
     ]
    }
   ]
  },
  {
   "cell_type": "code",
   "execution_count": 4,
   "outputs": [
    {
     "data": {
      "text/plain": "<Figure size 432x288 with 1 Axes>",
      "image/png": "[encoded data removed]"
     },
     "metadata": {
      "needs_background": "light"
     },
     "output_type": "display_data"
    }
   ],
   "source": [
    "# Visualize the data\n",
    "for index, row in df.sample(n=3).iterrows():\n",
    "    y = row['y']\n",
    "    x = row['x']\n",
    "    plt.plot(x, y)\n",
    "plt.show()"
   ],
   "metadata": {
    "pycharm": {
     "name": "#%%\n"
    },
    "colab": {
     "base_uri": "https://localhost:8080/",
     "height": 278
    },
    "id": "gARJOZXKVtK6",
    "outputId": "96f9e684-316f-47f7-daa4-b1cb22384176"
   }
  },
  {
   "cell_type": "code",
   "execution_count": 5,
   "metadata": {
    "pycharm": {
     "name": "#%%\n"
    },
    "id": "x13UDFMxVtK7"
   },
   "outputs": [],
   "source": [
    "# Extract the target variables\n",
    "param_a_label = df.pop('phi_label')\n",
    "param_b_label = df.pop('g_oo_label')\n",
    "\n",
    "param_a = df.pop('phi')\n",
    "param_b = df.pop('g_oo')\n",
    "\n",
    "# All x should be equal\n",
    "x = df.iloc[0].x.astype(np.float32)\n",
    "df.drop(columns='x', inplace=True)"
   ]
  },
  {
   "cell_type": "code",
   "execution_count": 6,
   "metadata": {
    "pycharm": {
     "name": "#%%\n"
    },
    "colab": {
     "base_uri": "https://localhost:8080/"
    },
    "id": "DcAQMh1qVtK8",
    "outputId": "7a1a8082-df5c-48c5-f43c-5d619e47a9ed"
   },
   "outputs": [
    {
     "name": "stdout",
     "output_type": "stream",
     "text": [
      "tensor([[ 0,  5],\n",
      "        [ 0,  6],\n",
      "        [ 0,  7],\n",
      "        [ 0,  8],\n",
      "        [ 0,  9],\n",
      "        [ 0, 10],\n",
      "        [ 0, 11],\n",
      "        [ 0, 12],\n",
      "        [ 0, 13],\n",
      "        [ 0, 14]], dtype=torch.uint8)\n"
     ]
    }
   ],
   "source": [
    "# target is the target vector\n",
    "target = np.array((param_a_label, param_b_label), dtype=np.uint8).T\n",
    "\n",
    "target_original = np.array((param_a, param_b)).T\n",
    "\n",
    "target = torch.tensor(target, dtype=torch.uint8)\n",
    "print(target[5:15])"
   ]
  },
  {
   "cell_type": "code",
   "execution_count": 7,
   "metadata": {
    "pycharm": {
     "name": "#%%\n"
    },
    "colab": {
     "base_uri": "https://localhost:8080/"
    },
    "id": "RlaDD98GVtK9",
    "outputId": "4bd40931-28b1-4ec5-aa63-544e1ed20db2"
   },
   "outputs": [
    {
     "name": "stdout",
     "output_type": "stream",
     "text": [
      "(82000, 662)\n",
      "<class 'numpy.ndarray'>\n"
     ]
    }
   ],
   "source": [
    "values = np.zeros((len(df), len(df.iloc[0, 0])), dtype=np.float32)\n",
    "# print(values.shape)\n",
    "index = 0\n",
    "for _, row in df.iterrows():\n",
    "    values[index, :] = row.values[0]\n",
    "    index += 1\n",
    "print(values.shape)\n",
    "print(type(values))"
   ]
  },
  {
   "cell_type": "code",
   "execution_count": 8,
   "metadata": {
    "pycharm": {
     "name": "#%%\n"
    },
    "colab": {
     "base_uri": "https://localhost:8080/"
    },
    "id": "0cT_JvJIVtK-",
    "outputId": "d519e14a-bf5d-4b5c-8a55-17ca47b54e66"
   },
   "outputs": [
    {
     "name": "stdout",
     "output_type": "stream",
     "text": [
      "tensor([[-0.5378, -0.8267, -0.2371,  ..., -0.1169, -0.1908, -1.1691],\n",
      "        [-0.8251, -0.1174, -0.0605,  ..., -0.5932, -1.5411, -1.1238],\n",
      "        [-0.2897, -0.9517, -1.2612,  ..., -0.4935, -0.5153, -0.2053],\n",
      "        ...,\n",
      "        [ 2.1191,  1.8198,  1.9688,  ...,  2.6293,  2.1272,  2.4447],\n",
      "        [ 1.5838,  1.2171,  0.5005,  ...,  0.6547,  1.2669,  1.4611],\n",
      "        [ 1.1176,  0.9647,  1.1369,  ...,  1.5023,  1.1669,  0.6056]])\n"
     ]
    }
   ],
   "source": [
    "# Convert data to torch tensor\n",
    "data_scaler = preprocessing.StandardScaler().fit(values)\n",
    "scaled_values = data_scaler.transform(values)\n",
    "data = torch.tensor(scaled_values)\n",
    "print(data)"
   ]
  },
  {
   "cell_type": "code",
   "execution_count": 9,
   "outputs": [
    {
     "name": "stdout",
     "output_type": "stream",
     "text": [
      "torch.Size([65600, 662])\n",
      "torch.Size([13120, 662])\n",
      "torch.Size([3280, 662])\n",
      "torch.Size([65600, 2])\n",
      "torch.Size([13120, 2])\n",
      "torch.Size([3280, 2])\n"
     ]
    }
   ],
   "source": [
    "# Split in train and test\n",
    "X_train, X_test, y_train, y_test, y_train_original, y_test_original = train_test_split(\n",
    "    data, target, target_original, test_size=0.2, random_state=2)\n",
    "\n",
    "# further divide X_test in test + validate\n",
    "X_test, X_validate, y_test, y_validate, y_test_original, y_validate_original = train_test_split(\n",
    "    X_test, y_test, y_test_original, test_size=0.2, random_state=1)\n",
    "print(X_train.shape)\n",
    "print(X_test.shape)\n",
    "print(X_validate.shape)\n",
    "print(y_train.shape)\n",
    "print(y_test.shape)\n",
    "print(y_validate.shape)"
   ],
   "metadata": {
    "pycharm": {
     "name": "#%%\n"
    },
    "colab": {
     "base_uri": "https://localhost:8080/"
    },
    "id": "quk4_WrcVtK_",
    "outputId": "1e776c17-864d-4ca7-c6cf-5808048d9897"
   }
  },
  {
   "cell_type": "code",
   "execution_count": 10,
   "outputs": [],
   "source": [
    "# Initialize model, loss function and optimizer\n",
    "def train_model(config, X_train, y_train, X_test, y_test, name, epochs,\n",
    "                checkpoint_dir=None):\n",
    "    \n",
    "    # if 'stride' not in config and 'kernel_size' in config:\n",
    "    #     config['stride'] = config['kernel_size']\n",
    "\n",
    "    n_inputs = X_train.shape[1]\n",
    "    \n",
    "    # we will build one model per output target\n",
    "    n_outputs = len(np.unique(y_test))\n",
    "    model = Net(n_inputs, n_outputs, name=name,\n",
    "                with_batch_norm=True, save_best=False, \n",
    "                verbose=0, **config)\n",
    "\n",
    "    # specify loss function (regression)\n",
    "    criterion = nn.NLLLoss()\n",
    "\n",
    "    # specify optimizer\n",
    "    optimizer = torch.optim.Adam(model.parameters(), lr=0.005)\n",
    "\n",
    "    if checkpoint_dir:\n",
    "        model_state, optimizer_state = torch.load(\n",
    "            os.path.join(checkpoint_dir, \"checkpoint\"))\n",
    "        model.load_state_dict(model_state)\n",
    "        optimizer.load_state_dict(optimizer_state)\n",
    "    # print(model)\n",
    "\n",
    "\n",
    "    # train the network\n",
    "    for epoch in range(epochs):\n",
    "        train_loss, train_accuracy, test_loss, test_accuracy = model.train_net(\n",
    "            optimizer, criterion, X_train, y_train, X_test, y_test, 1)\n",
    "        \n",
    "        with tune.checkpoint_dir(epoch) as checkpoint_dir:\n",
    "            path = os.path.join(checkpoint_dir, \"checkpoint\")\n",
    "            torch.save((model.state_dict(), optimizer.state_dict()), path)\n",
    "\n",
    "        tune.report(accuracy=test_accuracy[-1], loss=test_loss[-1])\n",
    "\n",
    "    return model, train_loss, test_loss, train_accuracy, test_accuracy"
   ],
   "metadata": {
    "pycharm": {
     "name": "#%%\n"
    },
    "id": "QDWCDYWoVtLA"
   }
  },
  {
   "cell_type": "code",
   "execution_count": null,
   "outputs": [
    {
     "name": "stderr",
     "output_type": "stream",
     "text": [
      "2022-06-30 11:15:41,521\tINFO trial_runner.py:803 -- starting train_model_367ce_00000\n"
     ]
    },
    {
     "name": "stdout",
     "output_type": "stream",
     "text": [
      "== Status ==\n",
      "Current time: 2022-06-30 11:15:41 (running for 00:00:00.31)\n",
      "Memory usage on this node: 14.9/14.9 GiB: ***LOW MEMORY*** less than 10% of the memory on this node is available for use. This can cause unexpected crashes. Consider reducing the memory used by your application or reducing the Ray object store size by setting `object_store_memory` when calling `ray.init`.\n",
      "Using AsyncHyperBand: num_stopped=0\n",
      "Bracket: Iter 64.000: None | Iter 32.000: None | Iter 16.000: None | Iter 8.000: None | Iter 4.000: None | Iter 2.000: None | Iter 1.000: None\n",
      "Resources requested: 1.0/12 CPUs, 0/0 GPUs, 0.0/1.22 GiB heap, 0.0/0.61 GiB objects\n",
      "Result logdir: /home/kiliakis/ray_results/train_model_2022-06-30_11-15-41\n",
      "Number of trials: 16/50 (15 PENDING, 1 RUNNING)\n",
      "+-------------------------+----------+-----------------------+-----------------------------------+------------+------------+------------+--------------+\n",
      "| Trial name              | status   | loc                   | activation_func                   | avg_pool   |   hidden_1 |   hidden_2 |   trim_edges |\n",
      "|-------------------------+----------+-----------------------+-----------------------------------+------------+------------+------------+--------------|\n",
      "| train_model_367ce_00000 | RUNNING  | 128.141.159.40:944218 | <built-in function gelu>          | (6, 6)     |        520 |        220 |          135 |\n",
      "| train_model_367ce_00001 | PENDING  |                       | <built-in function gelu>          | (6, 6)     |        500 |        220 |          135 |\n",
      "| train_model_367ce_00002 | PENDING  |                       | <built-in function gelu>          | (6, 6)     |        480 |        180 |          135 |\n",
      "| train_model_367ce_00003 | PENDING  |                       | <built-in function gelu>          | (6, 6)     |        500 |        220 |          140 |\n",
      "| train_model_367ce_00004 | PENDING  |                       | <function relu at 0x7f9112867820> | (6, 6)     |        480 |        220 |          130 |\n",
      "| train_model_367ce_00005 | PENDING  |                       | <function relu at 0x7f9112867820> | (6, 6)     |        520 |        220 |          140 |\n",
      "| train_model_367ce_00006 | PENDING  |                       | <built-in function gelu>          | (6, 6)     |        500 |        220 |          135 |\n",
      "| train_model_367ce_00007 | PENDING  |                       | <function relu at 0x7f9112867820> | (6, 6)     |        520 |        220 |          135 |\n",
      "| train_model_367ce_00008 | PENDING  |                       | <function relu at 0x7f9112867820> | (6, 6)     |        500 |        200 |          140 |\n",
      "| train_model_367ce_00009 | PENDING  |                       | <function relu at 0x7f9112867820> | (6, 6)     |        480 |        180 |          135 |\n",
      "| train_model_367ce_00010 | PENDING  |                       | <built-in function gelu>          | (6, 6)     |        520 |        180 |          130 |\n",
      "| train_model_367ce_00011 | PENDING  |                       | <function relu at 0x7f9112867820> | (6, 6)     |        500 |        180 |          135 |\n",
      "| train_model_367ce_00012 | PENDING  |                       | <function relu at 0x7f9112867820> | (6, 6)     |        480 |        220 |          140 |\n",
      "| train_model_367ce_00013 | PENDING  |                       | <function relu at 0x7f9112867820> | (6, 6)     |        480 |        180 |          140 |\n",
      "| train_model_367ce_00014 | PENDING  |                       | <function relu at 0x7f9112867820> | (6, 6)     |        480 |        180 |          140 |\n",
      "| train_model_367ce_00015 | PENDING  |                       | <built-in function gelu>          | (6, 6)     |        500 |        180 |          135 |\n",
      "+-------------------------+----------+-----------------------+-----------------------------------+------------+------------+------------+--------------+\n",
      "\n",
      "\n"
     ]
    },
    {
     "name": "stderr",
     "output_type": "stream",
     "text": [
      "2022-06-30 11:15:47,046\tINFO trial_runner.py:803 -- starting train_model_367ce_00001\n"
     ]
    }
   ],
   "source": [
    "# configuring the search space\n",
    "config = {\n",
    "    \"activation_func\": tune.choice([F.gelu, F.relu]),\n",
    "    \"avg_pool\": tune.choice([(6,6)]),\n",
    "    \"hidden_1\": tune.choice([480, 500, 520]),\n",
    "    \"hidden_2\": tune.choice([180, 200, 220]),\n",
    "    # \"hidden_3\": tune.choice([0]),\n",
    "    \"trim_edges\": tune.choice([130, 135, 140]),\n",
    "}\n",
    "\n",
    "scheduler = ASHAScheduler(\n",
    "    max_t=100,\n",
    "    grace_period=1,\n",
    "    reduction_factor=2\n",
    ")\n",
    "\n",
    "reporter = CLIReporter(\n",
    "    # parameter_columns=[\"l1\", \"l2\", \"lr\", \"batch_size\"],\n",
    "    metric_columns=[\"loss\", \"accuracy\", \"training_iteration\"])\n",
    "\n",
    "result = tune.run(\n",
    "    tune.with_parameters(train_model,\n",
    "                         X_train=X_train, y_train=y_train[:,0].view(-1,),\n",
    "                         X_test=X_test, y_test=y_test[:,0].view(-1,),\n",
    "                         name='model1', epochs=50),\n",
    "    resources_per_trial={\"cpu\": 1},\n",
    "    config=config,\n",
    "    metric='accuracy',\n",
    "    mode='max',\n",
    "    num_samples=50,\n",
    "    scheduler=scheduler,\n",
    "    progress_reporter=reporter)\n"
   ],
   "metadata": {
    "pycharm": {
     "name": "#%%\n",
     "is_executing": true
    },
    "colab": {
     "base_uri": "https://localhost:8080/"
    },
    "id": "lm5AkGUDVtLC",
    "outputId": "90c7b50f-9fd0-4c66-d4c4-7cb30a0cf36d"
   }
  },
  {
   "cell_type": "code",
   "source": [
    "results_df = result.results_df.sort_values('accuracy', ascending=False)\n",
    "results_df.drop(columns=['time_this_iter_s', 'should_checkpoint', 'done', \n",
    "                        'timesteps_total', 'episodes_total', 'experiment_id', \n",
    "                        'time_since_restore', 'timesteps_since_restore', \n",
    "                        'iterations_since_restore', 'warmup_time', \n",
    "                        'experiment_tag'], inplace=True)\n",
    "results_df.drop(columns=['timestamp', 'time_total_s', 'pid', 'hostname', \n",
    "                         'node_ip'], inplace=True)\n",
    "print(results_df)"
   ],
   "metadata": {
    "colab": {
     "base_uri": "https://localhost:8080/"
    },
    "id": "h3LB6Kil7kvc",
    "outputId": "45d14b9b-1a7b-43fc-919a-7780c1e6c05e"
   },
   "execution_count": 89,
   "outputs": [
    {
     "output_type": "stream",
     "name": "stdout",
     "text": [
      "              accuracy      loss  training_iteration                 date  \\\n",
      "trial_id                                                                    \n",
      "ae718_00045  32.240854  1.787318                  50  2022-06-24_09-05-18   \n",
      "ae718_00000  31.257622  1.799332                  50  2022-06-24_09-00-43   \n",
      "ae718_00006  19.641768  2.352236                  16  2022-06-24_08-59-15   \n",
      "ae718_00008  14.283537  2.674124                   8  2022-06-24_08-59-48   \n",
      "ae718_00021  13.452744  2.728689                   8  2022-06-24_09-01-36   \n",
      "ae718_00023  13.140244  2.742292                   8  2022-06-24_09-01-46   \n",
      "ae718_00031  13.003049  2.727978                   8  2022-06-24_09-02-37   \n",
      "ae718_00043  12.881098  2.733721                   8  2022-06-24_09-03-22   \n",
      "ae718_00012  11.913110  2.789290                   8  2022-06-24_09-00-43   \n",
      "ae718_00017   8.399390  3.091795                   4  2022-06-24_09-01-06   \n",
      "ae718_00042   7.804878  3.155393                   4  2022-06-24_09-03-06   \n",
      "ae718_00011   7.782012  3.142257                   4  2022-06-24_09-00-12   \n",
      "ae718_00028   7.637195  3.149252                   4  2022-06-24_09-02-06   \n",
      "ae718_00029   7.507622  3.150575                   4  2022-06-24_09-02-07   \n",
      "ae718_00048   7.202744  3.143762                   4  2022-06-24_09-03-51   \n",
      "ae718_00001   6.730183  3.334598                   2  2022-06-24_08-57-51   \n",
      "ae718_00019   6.707317  3.359427                   2  2022-06-24_09-01-07   \n",
      "ae718_00040   6.554878  3.422982                   2  2022-06-24_09-02-51   \n",
      "ae718_00033   6.539634  3.326439                   2  2022-06-24_09-02-23   \n",
      "ae718_00005   6.509146  3.354213                   2  2022-06-24_08-58-15   \n",
      "ae718_00037   6.135671  3.367187                   2  2022-06-24_09-02-43   \n",
      "ae718_00014   6.128049  3.379769                   2  2022-06-24_09-00-51   \n",
      "ae718_00047   6.067073  3.427908                   2  2022-06-24_09-03-34   \n",
      "ae718_00041   6.059451  3.380683                   2  2022-06-24_09-02-53   \n",
      "ae718_00026   5.960366  3.368273                   2  2022-06-24_09-01-52   \n",
      "ae718_00002   5.823171  3.418684                   2  2022-06-24_08-57-59   \n",
      "ae718_00013   5.426829  3.666084                   1  2022-06-24_09-00-47   \n",
      "ae718_00020   5.419207  3.717121                   1  2022-06-24_09-01-11   \n",
      "ae718_00007   5.411585  3.740146                   1  2022-06-24_08-59-19   \n",
      "ae718_00039   5.381098  3.705697                   1  2022-06-24_09-02-45   \n",
      "ae718_00036   5.365854  3.713324                   1  2022-06-24_09-02-35   \n",
      "ae718_00027   5.365854  3.739639                   1  2022-06-24_09-01-50   \n",
      "ae718_00004   5.297256  3.732092                   1  2022-06-24_08-58-08   \n",
      "ae718_00044   5.205793  3.764152                   1  2022-06-24_09-03-10   \n",
      "ae718_00015   5.190549  3.706306                   1  2022-06-24_09-00-51   \n",
      "ae718_00032   5.160061  3.694118                   1  2022-06-24_09-02-15   \n",
      "ae718_00038   5.144817  3.680515                   1  2022-06-24_09-02-41   \n",
      "ae718_00046   5.106707  3.748698                   1  2022-06-24_09-03-26   \n",
      "ae718_00049   5.091463  3.661986                   1  2022-06-24_09-03-55   \n",
      "ae718_00024   5.068598  3.680593                   1  2022-06-24_09-01-40   \n",
      "ae718_00018   5.068598  3.743485                   1  2022-06-24_09-00-59   \n",
      "ae718_00003   5.060976  3.685821                   1  2022-06-24_08-58-03   \n",
      "ae718_00035   5.038110  3.728057                   1  2022-06-24_09-02-31   \n",
      "ae718_00016   4.984756  3.813178                   1  2022-06-24_09-00-55   \n",
      "ae718_00034   4.939024  3.706637                   1  2022-06-24_09-02-27   \n",
      "ae718_00010   4.916159  3.724045                   1  2022-06-24_08-59-56   \n",
      "ae718_00030   4.862805  3.727757                   1  2022-06-24_09-02-10   \n",
      "ae718_00009   4.763720  3.715804                   1  2022-06-24_08-59-52   \n",
      "ae718_00022   4.222561  3.745652                   1  2022-06-24_09-01-15   \n",
      "ae718_00025   4.214939  3.766903                   1  2022-06-24_09-01-44   \n",
      "\n",
      "               config.activation_func config.avg_pool  config.hidden_1  \\\n",
      "trial_id                                                                 \n",
      "ae718_00045  <built-in function gelu>          (7, 7)              500   \n",
      "ae718_00000  <built-in function gelu>          (7, 7)              500   \n",
      "ae718_00006  <built-in function gelu>          (6, 6)              500   \n",
      "ae718_00008  <built-in function gelu>          (6, 6)              500   \n",
      "ae718_00021  <built-in function gelu>          (7, 7)              500   \n",
      "ae718_00023  <built-in function gelu>          (6, 6)              500   \n",
      "ae718_00031  <built-in function gelu>          (7, 7)              500   \n",
      "ae718_00043  <built-in function gelu>          (7, 7)              500   \n",
      "ae718_00012  <built-in function gelu>          (6, 6)              500   \n",
      "ae718_00017  <built-in function gelu>          (7, 7)              500   \n",
      "ae718_00042  <built-in function gelu>          (5, 5)              500   \n",
      "ae718_00011  <built-in function gelu>          (7, 7)              500   \n",
      "ae718_00028  <built-in function gelu>          (5, 5)              500   \n",
      "ae718_00029  <built-in function gelu>          (5, 5)              500   \n",
      "ae718_00048  <built-in function gelu>          (5, 5)              500   \n",
      "ae718_00001  <built-in function gelu>          (6, 6)              500   \n",
      "ae718_00019  <built-in function gelu>          (5, 5)              500   \n",
      "ae718_00040  <built-in function gelu>          (6, 6)              500   \n",
      "ae718_00033  <built-in function gelu>          (6, 6)              500   \n",
      "ae718_00005  <built-in function gelu>          (7, 7)              500   \n",
      "ae718_00037  <built-in function gelu>          (7, 7)              500   \n",
      "ae718_00014  <built-in function gelu>          (5, 5)              500   \n",
      "ae718_00047  <built-in function gelu>          (6, 6)              500   \n",
      "ae718_00041  <built-in function gelu>          (6, 6)              500   \n",
      "ae718_00026  <built-in function gelu>          (5, 5)              500   \n",
      "ae718_00002  <built-in function gelu>          (6, 6)              500   \n",
      "ae718_00013  <built-in function gelu>          (5, 5)              500   \n",
      "ae718_00020  <built-in function gelu>          (6, 6)              500   \n",
      "ae718_00007  <built-in function gelu>          (5, 5)              500   \n",
      "ae718_00039  <built-in function gelu>          (7, 7)              500   \n",
      "ae718_00036  <built-in function gelu>          (6, 6)              500   \n",
      "ae718_00027  <built-in function gelu>          (7, 7)              500   \n",
      "ae718_00004  <built-in function gelu>          (5, 5)              500   \n",
      "ae718_00044  <built-in function gelu>          (7, 7)              500   \n",
      "ae718_00015  <built-in function gelu>          (5, 5)              500   \n",
      "ae718_00032  <built-in function gelu>          (6, 6)              500   \n",
      "ae718_00038  <built-in function gelu>          (6, 6)              500   \n",
      "ae718_00046  <built-in function gelu>          (5, 5)              500   \n",
      "ae718_00049  <built-in function gelu>          (7, 7)              500   \n",
      "ae718_00024  <built-in function gelu>          (7, 7)              500   \n",
      "ae718_00018  <built-in function gelu>          (7, 7)              500   \n",
      "ae718_00003  <built-in function gelu>          (6, 6)              500   \n",
      "ae718_00035  <built-in function gelu>          (5, 5)              500   \n",
      "ae718_00016  <built-in function gelu>          (7, 7)              500   \n",
      "ae718_00034  <built-in function gelu>          (5, 5)              500   \n",
      "ae718_00010  <built-in function gelu>          (7, 7)              500   \n",
      "ae718_00030  <built-in function gelu>          (5, 5)              500   \n",
      "ae718_00009  <built-in function gelu>          (6, 6)              500   \n",
      "ae718_00022  <built-in function gelu>          (6, 6)              500   \n",
      "ae718_00025  <built-in function gelu>          (6, 6)              500   \n",
      "\n",
      "             config.hidden_2  config.trim_edges  \n",
      "trial_id                                         \n",
      "ae718_00045              200                135  \n",
      "ae718_00000              200                138  \n",
      "ae718_00006              180                135  \n",
      "ae718_00008              180                138  \n",
      "ae718_00021              180                138  \n",
      "ae718_00023              210                138  \n",
      "ae718_00031              190                135  \n",
      "ae718_00043              180                138  \n",
      "ae718_00012              210                138  \n",
      "ae718_00017              190                135  \n",
      "ae718_00042              180                138  \n",
      "ae718_00011              200                135  \n",
      "ae718_00028              220                135  \n",
      "ae718_00029              180                133  \n",
      "ae718_00048              180                138  \n",
      "ae718_00001              220                133  \n",
      "ae718_00019              180                135  \n",
      "ae718_00040              220                133  \n",
      "ae718_00033              220                133  \n",
      "ae718_00005              190                135  \n",
      "ae718_00037              190                133  \n",
      "ae718_00014              190                138  \n",
      "ae718_00047              190                135  \n",
      "ae718_00041              210                135  \n",
      "ae718_00026              200                135  \n",
      "ae718_00002              200                133  \n",
      "ae718_00013              190                135  \n",
      "ae718_00020              200                135  \n",
      "ae718_00007              180                138  \n",
      "ae718_00039              200                133  \n",
      "ae718_00036              200                138  \n",
      "ae718_00027              210                135  \n",
      "ae718_00004              220                135  \n",
      "ae718_00044              200                135  \n",
      "ae718_00015              190                138  \n",
      "ae718_00032              180                133  \n",
      "ae718_00038              180                133  \n",
      "ae718_00046              190                135  \n",
      "ae718_00049              210                133  \n",
      "ae718_00024              180                135  \n",
      "ae718_00018              180                138  \n",
      "ae718_00003              190                133  \n",
      "ae718_00035              210                135  \n",
      "ae718_00016              190                138  \n",
      "ae718_00034              190                133  \n",
      "ae718_00010              220                138  \n",
      "ae718_00030              190                135  \n",
      "ae718_00009              200                135  \n",
      "ae718_00022              210                135  \n",
      "ae718_00025              200                135  \n"
     ]
    }
   ]
  },
  {
   "cell_type": "code",
   "source": [
    "columns = results_df.columns.values.astype(str).tolist()\n",
    "values = results_df.values\n",
    "# values = np.sort(values, lambda a: -a[0])\n",
    "# Prepare the values\n",
    "values[:, 5] = np.apply_along_axis(lambda v: ''.join(\n",
    "    str(v[5])).replace('(', '').replace(')', ''), 1, values)\n",
    "values = values.astype(str)\n",
    "values[:, 4] = np.apply_along_axis(lambda e: e[4].replace(\n",
    "    '<built-in function ', '').replace('>', ''), 1, values)\n"
   ],
   "metadata": {
    "id": "I22z7pnQtioz"
   },
   "execution_count": 90,
   "outputs": []
  },
  {
   "cell_type": "code",
   "source": [
    "base_path = '/content/gdrive/MyDrive/Colab Notebooks/otfb-lhc-ml/hyperopt/'\n",
    "if not os.path.exists(base_path):\n",
    "    os.makedirs(base_path)\n",
    "\n",
    "import csv\n",
    "with open(os.path.join(base_path, f'{values[0, 3]}.csv'), 'w') as file:\n",
    "    writer = csv.writer(file)\n",
    "    writer.writerow(columns)\n",
    "    writer.writerows(values)\n"
   ],
   "metadata": {
    "id": "knVbu9_d4Gyc"
   },
   "execution_count": 91,
   "outputs": []
  },
  {
   "cell_type": "code",
   "execution_count": null,
   "metadata": {
    "pycharm": {
     "name": "#%%\n"
    },
    "id": "gDnJjY1IVtLE"
   },
   "outputs": [],
   "source": [
    ""
   ]
  }
 ],
 "metadata": {
  "kernelspec": {
   "display_name": "Python 3 (ipykernel)",
   "language": "python",
   "name": "python3"
  },
  "language_info": {
   "codemirror_mode": {
    "name": "ipython",
    "version": 3
   },
   "file_extension": ".py",
   "mimetype": "text/x-python",
   "name": "python",
   "nbconvert_exporter": "python",
   "pygments_lexer": "ipython3",
   "version": "3.9.7"
  },
  "colab": {
   "name": "pytorch-predictor-hyperparameter.ipynb",
   "provenance": [],
   "collapsed_sections": []
  }
 },
 "nbformat": 4,
 "nbformat_minor": 0
}